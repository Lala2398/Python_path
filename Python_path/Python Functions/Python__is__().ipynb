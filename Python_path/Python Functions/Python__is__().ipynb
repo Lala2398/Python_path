{
  "nbformat": 4,
  "nbformat_minor": 0,
  "metadata": {
    "colab": {
      "name": "Python_.is__().ipynb",
      "provenance": []
    },
    "kernelspec": {
      "name": "python3",
      "display_name": "Python 3"
    },
    "language_info": {
      "name": "python"
    }
  },
  "cells": [
    {
      "cell_type": "markdown",
      "source": [
        "# What is \"Python .is\"?\n",
        "\n",
        "###Codes from Udemy 50+ hours Python course (Mustafa Tepeoren), w3schools.com, geekforgeeks.org and Aytan Hajiyeva`s Pandas notebook\n",
        "\n",
        "###Combined by Lala Ibadullayeva\n",
        "\n",
        "CSV files for Pandas codes \n",
        "\n",
        "\n",
        "1 - big mart sales \n",
        "[https://www.kaggle.com/datasets/brijbhushannanda1979/bigmart-sales-data](https://)\n",
        "\n",
        "2 - employees  https://www.geeksforgeeks.org/python-pandas-dataframe-isin/\n"
      ],
      "metadata": {
        "id": "Ha3XA2kyQQK7"
      }
    },
    {
      "cell_type": "markdown",
      "source": [
        "###Firstly, we will analyzing .islower(), .isupper() and .istitle()\n",
        "\n",
        "We will writing this functions many different versions. \n",
        "\n",
        "So, \n",
        "\n",
        "<text>.islower() or with class : str.islower(text)\n",
        "\n",
        "<text>.isupper() or with class : str.isupper(text)\n",
        "\n",
        "<text>.istitle() or with class : str.istitle(text)\n",
        "\n",
        "Note : Answers will coming with booleans - True or False\n",
        "\n",
        "Let`s get coding..."
      ],
      "metadata": {
        "id": "WJONgS4PQThU"
      }
    },
    {
      "cell_type": "code",
      "execution_count": 1,
      "metadata": {
        "colab": {
          "base_uri": "https://localhost:8080/"
        },
        "id": "j0jkul1pQGFX",
        "outputId": "81db629d-52b0-4598-f48f-f401c4cb37d7"
      },
      "outputs": [
        {
          "output_type": "stream",
          "name": "stdout",
          "text": [
            "True\n"
          ]
        }
      ],
      "source": [
        "print(\"python is fantastic\".islower())"
      ]
    },
    {
      "cell_type": "code",
      "source": [
        "print(\"Python is fantastic\".islower())"
      ],
      "metadata": {
        "colab": {
          "base_uri": "https://localhost:8080/"
        },
        "id": "agIBANeaQI7f",
        "outputId": "95caf480-99b3-492d-f69c-2e3fd2e67b1f"
      },
      "execution_count": 2,
      "outputs": [
        {
          "output_type": "stream",
          "name": "stdout",
          "text": [
            "False\n"
          ]
        }
      ]
    },
    {
      "cell_type": "code",
      "source": [
        "a=\"python is fantastic\""
      ],
      "metadata": {
        "id": "t8lX4SvFQW3v"
      },
      "execution_count": 3,
      "outputs": []
    },
    {
      "cell_type": "code",
      "source": [
        "print(a.islower())"
      ],
      "metadata": {
        "colab": {
          "base_uri": "https://localhost:8080/"
        },
        "id": "E8Us8RjfQfGq",
        "outputId": "17928dbb-0019-44ed-e6ff-e8b7508f6b3a"
      },
      "execution_count": 4,
      "outputs": [
        {
          "output_type": "stream",
          "name": "stdout",
          "text": [
            "True\n"
          ]
        }
      ]
    },
    {
      "cell_type": "code",
      "source": [
        "print(str.islower(a))"
      ],
      "metadata": {
        "colab": {
          "base_uri": "https://localhost:8080/"
        },
        "id": "SiBkyD4KQhOT",
        "outputId": "260cdb4e-1c3c-4c58-a31e-ead609a0aecf"
      },
      "execution_count": 5,
      "outputs": [
        {
          "output_type": "stream",
          "name": "stdout",
          "text": [
            "True\n"
          ]
        }
      ]
    },
    {
      "cell_type": "code",
      "source": [
        "print(\"PYTHON IS FANTASTIC\" .isupper())"
      ],
      "metadata": {
        "colab": {
          "base_uri": "https://localhost:8080/"
        },
        "id": "Na0lfJxzQjWI",
        "outputId": "b54e95ae-5781-4b76-db5d-1e3cdf9e9e1d"
      },
      "execution_count": 6,
      "outputs": [
        {
          "output_type": "stream",
          "name": "stdout",
          "text": [
            "True\n"
          ]
        }
      ]
    },
    {
      "cell_type": "code",
      "source": [
        "print(\"python is fantastic\" .isupper())"
      ],
      "metadata": {
        "colab": {
          "base_uri": "https://localhost:8080/"
        },
        "id": "YXnKThwoQk90",
        "outputId": "566caeb1-4c30-422e-a694-3fa2b7baa4f8"
      },
      "execution_count": 7,
      "outputs": [
        {
          "output_type": "stream",
          "name": "stdout",
          "text": [
            "False\n"
          ]
        }
      ]
    },
    {
      "cell_type": "code",
      "source": [
        "b=\"PYTHON IS FANTASTIC\""
      ],
      "metadata": {
        "id": "ri2D_1idQmqc"
      },
      "execution_count": 8,
      "outputs": []
    },
    {
      "cell_type": "code",
      "source": [
        "print(b.isupper())"
      ],
      "metadata": {
        "colab": {
          "base_uri": "https://localhost:8080/"
        },
        "id": "p4wO4QFFQolW",
        "outputId": "f7c4b242-e474-4bf2-fa4c-e34c94f3abf1"
      },
      "execution_count": 9,
      "outputs": [
        {
          "output_type": "stream",
          "name": "stdout",
          "text": [
            "True\n"
          ]
        }
      ]
    },
    {
      "cell_type": "code",
      "source": [
        "print(str.isupper(b))"
      ],
      "metadata": {
        "colab": {
          "base_uri": "https://localhost:8080/"
        },
        "id": "WaLJgomjQqLT",
        "outputId": "bf3bbb22-98fb-4d6b-ff5d-935604cd8b7a"
      },
      "execution_count": 10,
      "outputs": [
        {
          "output_type": "stream",
          "name": "stdout",
          "text": [
            "True\n"
          ]
        }
      ]
    },
    {
      "cell_type": "code",
      "source": [
        "print(\"Python Is Fantastic\".istitle())"
      ],
      "metadata": {
        "colab": {
          "base_uri": "https://localhost:8080/"
        },
        "id": "LNqiAENgQr8s",
        "outputId": "3de78786-a9bf-4eff-ac95-5bd5a0371153"
      },
      "execution_count": 11,
      "outputs": [
        {
          "output_type": "stream",
          "name": "stdout",
          "text": [
            "True\n"
          ]
        }
      ]
    },
    {
      "cell_type": "code",
      "source": [
        "print(\"python is fantastic\" .istitle())"
      ],
      "metadata": {
        "colab": {
          "base_uri": "https://localhost:8080/"
        },
        "id": "RIvSKY5HQtvl",
        "outputId": "d4f8111f-e6c0-46c3-89c5-7b9ea251344a"
      },
      "execution_count": 12,
      "outputs": [
        {
          "output_type": "stream",
          "name": "stdout",
          "text": [
            "False\n"
          ]
        }
      ]
    },
    {
      "cell_type": "code",
      "source": [
        "c=\"Python Is Fantastic\""
      ],
      "metadata": {
        "id": "-YdxlVZJQvce"
      },
      "execution_count": 13,
      "outputs": []
    },
    {
      "cell_type": "code",
      "source": [
        "print(c.istitle())"
      ],
      "metadata": {
        "colab": {
          "base_uri": "https://localhost:8080/"
        },
        "id": "zIjx25mAQxKY",
        "outputId": "3026fff9-66eb-4443-a98c-db762b8d4e72"
      },
      "execution_count": 14,
      "outputs": [
        {
          "output_type": "stream",
          "name": "stdout",
          "text": [
            "True\n"
          ]
        }
      ]
    },
    {
      "cell_type": "code",
      "source": [
        "print(str.istitle(c))"
      ],
      "metadata": {
        "colab": {
          "base_uri": "https://localhost:8080/"
        },
        "id": "ZP10jVkmQy7s",
        "outputId": "0e128f5d-d13f-4be4-e521-1a02feaae277"
      },
      "execution_count": 15,
      "outputs": [
        {
          "output_type": "stream",
          "name": "stdout",
          "text": [
            "True\n"
          ]
        }
      ]
    },
    {
      "cell_type": "markdown",
      "source": [
        "\n",
        "\n",
        "---\n",
        "\n",
        "\n",
        "\n",
        "---\n",
        "\n"
      ],
      "metadata": {
        "id": "r4k0_9ONQ2uQ"
      }
    },
    {
      "cell_type": "markdown",
      "source": [
        "#Built-in functions : \n",
        "\n",
        "\n",
        "isinstance (object, classinfo)\n",
        "\n",
        "\n",
        "issubclass(class, classinfo)\n",
        "\n"
      ],
      "metadata": {
        "id": "vnQb8k-JQ9LR"
      }
    },
    {
      "cell_type": "code",
      "source": [
        "x = isinstance(5, int)\n",
        "print(x)"
      ],
      "metadata": {
        "colab": {
          "base_uri": "https://localhost:8080/"
        },
        "id": "HcggzwvGQ0ec",
        "outputId": "8628bd94-a448-46f7-a1f2-2558c3462bb1"
      },
      "execution_count": 16,
      "outputs": [
        {
          "output_type": "stream",
          "name": "stdout",
          "text": [
            "True\n"
          ]
        }
      ]
    },
    {
      "cell_type": "markdown",
      "source": [
        "Definition and Usage \n",
        "The isinstance() function returns TRUE if the specified objects is of the specified type, otherwise False.\n",
        "\n",
        "If the type parameter is a tuple, this function will return TRUE if the object is one of the types in the tuple. \n",
        "\n",
        "Syntax\n",
        "isinstance(object, type)\n",
        "\n",
        "Parameter Values \n",
        "\n",
        "Parameter       --      Description \n",
        "\n",
        "object   --             Required. An object.\n",
        "\n",
        "type        --          A type or a class, or a tuple of types and/or classes\n",
        "\n",
        "[https://www.w3schools.com/python/ref_func_isinstance.asp](https://)"
      ],
      "metadata": {
        "id": "POK8i000REKP"
      }
    },
    {
      "cell_type": "code",
      "source": [
        "x=isinstance(\"hello\",(float,int,str,list,dict,tuple))"
      ],
      "metadata": {
        "id": "xBsv5c0LQ_5h"
      },
      "execution_count": 17,
      "outputs": []
    },
    {
      "cell_type": "code",
      "source": [
        "class myObj:\n",
        "  name=\"John\"\n",
        "y=myObj()\n",
        "x=isinstance(y,myObj)"
      ],
      "metadata": {
        "id": "xcKaq3F4RGxL"
      },
      "execution_count": 18,
      "outputs": []
    },
    {
      "cell_type": "markdown",
      "source": [
        "Python issubclass() Function"
      ],
      "metadata": {
        "id": "XCBa8K7IRL5r"
      }
    },
    {
      "cell_type": "code",
      "source": [
        "class myAge:\n",
        "  age = 36\n",
        "class myObj(myAge):\n",
        "  name=\"John\"\n",
        "  age=myAge\n",
        "\n",
        "x=issubclass(myObj,myAge)"
      ],
      "metadata": {
        "id": "LXcb6mGRRIkx"
      },
      "execution_count": 19,
      "outputs": []
    },
    {
      "cell_type": "markdown",
      "source": [
        "Definition and Usage \n",
        "The issubclass() funstion returns True if the specified object is a subclass of the specified object, othnerwise False.\n",
        "\n",
        "Syntax \n",
        "issubclass(object, subclass)\n",
        "\n",
        "Paramater values \n",
        "\n",
        "parameter --- Description \n",
        "\n",
        "object --- Required. An object. \n",
        "subclass --- A class object, or a tuple of class objects"
      ],
      "metadata": {
        "id": "CCbYyjT3RRPY"
      }
    },
    {
      "cell_type": "markdown",
      "source": [
        "\n",
        "\n",
        "---\n",
        "\n",
        "\n",
        "\n",
        "---\n",
        "\n"
      ],
      "metadata": {
        "id": "jxzCeFKkRTl7"
      }
    },
    {
      "cell_type": "markdown",
      "source": [
        "##isdecimal() / isdigit() / isnumeric()"
      ],
      "metadata": {
        "id": "fJn3QEa4Revr"
      }
    },
    {
      "cell_type": "markdown",
      "source": [
        "< text>.isdecimal() or str.isdecimal(< text>) - just numbers\n",
        "\n",
        "< text>.isdigit() or str.isdigit(< text>) - numbers + exponential numbers\n",
        "\n",
        "< text>.isnumeric() or str.isnumeric(< text>) - numbers + exponential numbers + fractional numbers\n"
      ],
      "metadata": {
        "id": "y3rot-ohRvie"
      }
    },
    {
      "cell_type": "code",
      "source": [
        "e=\"123456789\"\n",
        "print(\"isdecimal?\", e.isdecimal())"
      ],
      "metadata": {
        "colab": {
          "base_uri": "https://localhost:8080/"
        },
        "id": "ux2W_HRhROi-",
        "outputId": "54946a84-4b58-4088-d24e-54ca66137cdf"
      },
      "execution_count": 26,
      "outputs": [
        {
          "output_type": "stream",
          "name": "stdout",
          "text": [
            "isdecimal? True\n"
          ]
        }
      ]
    },
    {
      "cell_type": "code",
      "source": [
        "print(\"isdecimal?\", str.isdecimal(e))"
      ],
      "metadata": {
        "colab": {
          "base_uri": "https://localhost:8080/"
        },
        "id": "Xjd4mOxjSVDv",
        "outputId": "38590d3f-62bd-485b-a3bd-a2eac01c22a4"
      },
      "execution_count": 25,
      "outputs": [
        {
          "output_type": "stream",
          "name": "stdout",
          "text": [
            "isdecimal? True\n"
          ]
        }
      ]
    },
    {
      "cell_type": "code",
      "source": [
        "f=\"01234567891²³\""
      ],
      "metadata": {
        "id": "02m5DWetSd7h"
      },
      "execution_count": 27,
      "outputs": []
    },
    {
      "cell_type": "code",
      "source": [
        "print(\"isdigit?\", f.isdigit())"
      ],
      "metadata": {
        "colab": {
          "base_uri": "https://localhost:8080/"
        },
        "id": "fqAszltKTJmO",
        "outputId": "02c0e371-89cc-4479-a949-9d773b2143c8"
      },
      "execution_count": 72,
      "outputs": [
        {
          "output_type": "stream",
          "name": "stdout",
          "text": [
            "isdigit? True\n"
          ]
        }
      ]
    },
    {
      "cell_type": "code",
      "source": [
        "print(\"isdigit?\", str.isdigit(f))"
      ],
      "metadata": {
        "colab": {
          "base_uri": "https://localhost:8080/"
        },
        "id": "VnP9E4bsTQkW",
        "outputId": "74e31c7e-9593-49d4-8787-7cccc3092b14"
      },
      "execution_count": 29,
      "outputs": [
        {
          "output_type": "stream",
          "name": "stdout",
          "text": [
            "isdigit? True\n"
          ]
        }
      ]
    },
    {
      "cell_type": "code",
      "source": [
        "h=\"01234567891²³⅓⅛⅞⅜\""
      ],
      "metadata": {
        "id": "x8OT7gCPTZDJ"
      },
      "execution_count": 30,
      "outputs": []
    },
    {
      "cell_type": "code",
      "source": [
        "print(\"isnumeric?\", h.isnumeric())"
      ],
      "metadata": {
        "colab": {
          "base_uri": "https://localhost:8080/"
        },
        "id": "RUD2t8puTtQT",
        "outputId": "2d175bd1-9ebd-42c6-a311-2ad26e8d47f4"
      },
      "execution_count": 31,
      "outputs": [
        {
          "output_type": "stream",
          "name": "stdout",
          "text": [
            "isnumeric? True\n"
          ]
        }
      ]
    },
    {
      "cell_type": "code",
      "source": [
        "print(\"isnumeric?\", str.isnumeric(h))"
      ],
      "metadata": {
        "colab": {
          "base_uri": "https://localhost:8080/"
        },
        "id": "KE8M5RAjTypm",
        "outputId": "1fd3e007-f410-4c78-b226-4e01913b1131"
      },
      "execution_count": 35,
      "outputs": [
        {
          "output_type": "stream",
          "name": "stdout",
          "text": [
            "isnumeric? True\n"
          ]
        }
      ]
    },
    {
      "cell_type": "markdown",
      "source": [
        "\n",
        "\n",
        "---\n",
        "\n",
        "\n",
        "\n",
        "---\n",
        "\n"
      ],
      "metadata": {
        "id": "rdp3JkFXUGJT"
      }
    },
    {
      "cell_type": "markdown",
      "source": [
        "#isascii / isalpha / isalnum / isspace"
      ],
      "metadata": {
        "id": "0nXkin5KUIQS"
      }
    },
    {
      "cell_type": "markdown",
      "source": [
        "< variable >.isascii() or str.isascii(< variable >) ✈  0-127 \n",
        "\n",
        "< variable >.isalpha() or str.isalpha(< variable >) ✈ Alphabets\n",
        "\n",
        "< variable >.isalnum() or str.isalnum(< variable >) ✈ Alphanumeric\n",
        "\n",
        "< variable >.isspace() or str.isspace(< variable >) ✈ Space\n"
      ],
      "metadata": {
        "id": "ryfwYLDJUSbK"
      }
    },
    {
      "cell_type": "code",
      "source": [
        "a=\"abcdef\"\n",
        "print(a.isascii())"
      ],
      "metadata": {
        "colab": {
          "base_uri": "https://localhost:8080/"
        },
        "id": "wFuLIxSYT5ly",
        "outputId": "976bd388-eb92-42ac-c140-fc342458e163"
      },
      "execution_count": 62,
      "outputs": [
        {
          "output_type": "stream",
          "name": "stdout",
          "text": [
            "True\n"
          ]
        }
      ]
    },
    {
      "cell_type": "code",
      "source": [
        "a=\"abcdef\\u00e8\"\n",
        "print(a,a.isascii())"
      ],
      "metadata": {
        "colab": {
          "base_uri": "https://localhost:8080/"
        },
        "id": "LsQFDI5rwmmU",
        "outputId": "b46c4a45-b413-40d7-94ec-1ddb810b0f25"
      },
      "execution_count": 63,
      "outputs": [
        {
          "output_type": "stream",
          "name": "stdout",
          "text": [
            "abcdefè False\n"
          ]
        }
      ]
    },
    {
      "cell_type": "code",
      "source": [
        "a=\"abcdef\\u0678\\u043f\"\n",
        "print(a,a.isalpha())"
      ],
      "metadata": {
        "colab": {
          "base_uri": "https://localhost:8080/"
        },
        "id": "Zmrog0UYwpbc",
        "outputId": "142a4f43-b9a4-44ba-838b-654d5f9cde55"
      },
      "execution_count": 64,
      "outputs": [
        {
          "output_type": "stream",
          "name": "stdout",
          "text": [
            "abcdefٸп True\n"
          ]
        }
      ]
    },
    {
      "cell_type": "code",
      "source": [
        "a=\"abcdef\\u0678\\u0662\"\n",
        "print(a,a.isalnum())"
      ],
      "metadata": {
        "colab": {
          "base_uri": "https://localhost:8080/"
        },
        "id": "kGrhJo9Ew1ec",
        "outputId": "4a87f630-42c6-41fe-96fa-3541f46ad277"
      },
      "execution_count": 66,
      "outputs": [
        {
          "output_type": "stream",
          "name": "stdout",
          "text": [
            "abcdefٸ٢ True\n"
          ]
        }
      ]
    },
    {
      "cell_type": "code",
      "source": [
        "a=\"     \"\n",
        "print(a,a.isspace())"
      ],
      "metadata": {
        "colab": {
          "base_uri": "https://localhost:8080/"
        },
        "id": "Dk0vyB7exHNA",
        "outputId": "9a254bea-5918-4f03-a7ac-12e1e0bd03a4"
      },
      "execution_count": 67,
      "outputs": [
        {
          "output_type": "stream",
          "name": "stdout",
          "text": [
            "      True\n"
          ]
        }
      ]
    },
    {
      "cell_type": "markdown",
      "source": [
        "\n",
        "\n",
        "---\n",
        "\n",
        "\n",
        "\n",
        "---\n",
        "\n"
      ],
      "metadata": {
        "id": "VmXt6H7Q7ls5"
      }
    },
    {
      "cell_type": "markdown",
      "source": [
        "#Set functions\n",
        "###isdisjoint / issubset / issuperset"
      ],
      "metadata": {
        "id": "-Fsbk8Cvf0XR"
      }
    },
    {
      "cell_type": "markdown",
      "source": [
        "< set variable > .isdisjoint(< set>) or set.isdisjoint(< set variable>, < set>)\n",
        "\n",
        "\n",
        "< set varibale >.issubset(< set>) or set.issubset(< set variable>, < set>)\n",
        "\n",
        "\n",
        "< set variabel >.issuperset(< set>) or set.issuperset(< set variable>, < set>)"
      ],
      "metadata": {
        "id": "NbEzQYWR36uL"
      }
    },
    {
      "cell_type": "markdown",
      "source": [
        "Disjoint \n",
        "![python-disjoint-sets_0.webp](data:image/webp;base64,UklGRuhiAQBXRUJQVlA4WAoAAAAQAAAArwQA5wEAQUxQSC8OAQANJAUBkDYMEda/8o8QEROAwSZrq9ouVltSgikJC2NH+bD6iZH5kqTmyera4oI8bCHJbSNBkhL5/ycXEghLjp697TEiMMq2LbZtJKUHEyAPD+sY912ClOQPgNi2jSBpMf2XvBgglpy9/woiwoLbSIIkSXu3ha3crEzKOzq6umdmH0BJkSRBkpTE/5+cJLiZmlev+26wx4jAaNu26LZtnA6OAgWIuTYeryDJ6QfgkWzbtW1VKxbSpBp4VEFXAY9aUQJpYWmtbMqh4Wv9d8yI2Xvrfa6NHM+LCImKbIttE4NB4kmao3evJDtpP0CS20iSJA36/29OIGPxiPG0bl4jArYkSY6aF0ASJmuDNXI/ILFtI0GSGp1/yIsGypJr7j+CiPAtSZIlSZJtzcVhzMDNDJlFQ90jOucH9FHb9r5tI73zLYJBGCzCYTgMh2EUWlZkRZYVRcW995ri9GTTt/fee+9teq+p7l1xleXeZUpWNLSGkWmGYWgug0NjsAjmt9+e932e98MPvx/Eg+O/IsKTbduSJEmSRKQKSwBWte97DwARiZh5APrg/9/kJLY+9Tt9e3t7586ZnZodx+wYQ4wxxhgCBAgQniOP8iQCKstyWUSOxbWsvdaWZVmUZVmWZVlermVx93gslkUWARF5Cs/PEB6MEUMIMRuzYRzGOcPsOGfOnNk5vX37dtVM9/R0/36/nvNvREhwJEmSlBW6YTGPbpY5evYBfiTbVm3btq1qbTEzQwh4SUtjBnnFgUKxgsArGMuWhjIzSsy0maGZlVJyrS3nXJUqRgQFSZIUSdLsYQ+plaTXwMIDzn2Hf3IBxp13333nvnveuee8xQQEkx1shVwIMfeVgGFur80LshvjW8zZ1zWmBWvMmz/aWhh9J7n+kvBW5sPLp/6AKcoqxfz4NW9zSopZe+rmqrEP8IGZX2Aw5Hh4vrmACd+5psKRMibJ7neecAEAHpSt6sBh81g3T72uiNjIcLlFIUjXU7GYjJOMmrteN2VVo9WFx9RKiOS5pVlTzgrYHsyKTz/CeH1KgctqHLVZUssFSjOCoEWSUcw+gJgDMzcjQBIEbe6bPSxzHsAfKBWIvYbRqnq4ShhqkfJYeZYZq9cVWA2cRnZDi038kYQEwUfNSzUYmpQyjWdh+0icEsXpfjXzxsAMG1Q2VF11CtRvnnM2B0PUNBdpeJoTqjmZnzxNR1XyNpVCHHjpRi0IRiKydB9t6qo277zPVNltx1Q3dgTMoIxH5wgKeDBoP/hgA2vSHFC3AKcbs2U5WsdVULzAx85LmYPIE0tNrieHrAx1UA/bfLCZoqVqNq6Yd4tPzJyqu/TNLYUEgQmLRYzK1Is59YQL+SvVwmzkWuRq3UCC89rwPAboBcTtFjEuICWYNXdBUOYBUgyjOQsKaxfVIG9lFiGR5QCJOJ7nvacwp2rW5nvJRQ6RahFWGZVE7StwKoI2LDMJn+pBgPtkHdLCGJ8sjIvQnGeqORsJ8sJgOREgjmBW8EamfriGJzhiCWcrcFB6SjMKN2p2HZpCDE4QTrdUjOYsXT3v1cxQYjtzWveKUDjVXDQCjNjcVEssms1pqqgrIFpdqW2EH5YZgumeaLskLttpqOLeA0OJxhksb5mWjmRVHGxc3sDmL0XmBjHzDGk0Du1kTWSZQ+SQEfAsMMveSfNiKBYoMYIukQShrx/bLsW7dCNz+ZVZbeRMUFyQPnnN25zGNJ+cZ7JMsszKXATpi+szhlZvOtW0pjhQfZcLCFAyGEtCOW5tmnze64fXSwM2+cJsS/fjU6FDgBAoYijF8SjkrDkOGe+hjMW8t34b0Hdq2m5jbqpzAnB0OwuGzIGTiWaMG7Y5rOUAIjy5lIa5UgZkfnoPS5dDYNzLmg4iXSrnORYMHqLSkCoBMrWxbFgYBNy0kMaGEUb1OaPGAO0rUiOyLrprBmSQWapR81b8nxwf4/mCwnAfc8E9LZejUVNdEmLctM3Qmfig2U8pTqBBmfMABZaDEthVQtEzX4D+byHovAgBGAGjzPfTrH+1CbcddgzbfEJiPopwS4qkzJrHtOSsO/2VUTNokJ7tcmZjj5R9/nuEvFMl1MhJm5O2zuaH1wLwR2YeR/la7r26SjwkadnwugNuAWo/U4AO9D42nP7OFkZl9jeP3tpEIciMuj/NcX9S5swOuLkV4YvxIeNOzd53Myf0CaWaM1VnfHAwlz2NzXxaf91iAsAiJJrqPXlSgi2bLSglgl27LqpwgZz3tC+S4WDm/ZarO9N9nCRAwfI/MRWDn1Fz/saxopbSQTSDTppTsB+fe29llvK9L6Qf3AsrY9ZmjBPn4KDZAtEfIWdlzgqwzv0nazlHzXmxLD43wU05SICbu8wYxBtF+SaR3WxN1JZhHxCkGYFGugxISl2oo+avpf1BXgO1q+4UnEuZG+ak/PM09LTNGCdOc+jTUVM+RU7LXMqiHpB+PVAcAebDfbU6ZvJzhjsg7U+2jVNC72x3fU3MivI01tw84yidyhazAY/BRs3WSrAIt+um6R2z2uKT4t3M/TxnoqeMaZvfvZS++xqZOd0QZvU7gdmm6/gHQpth5VzAxiUb/2fPXMiVYLOLZn/rRRVCx5m/7sH4qNg8rkGqrVCzZsctbo6CAxTzurhlmD6CbBhCXswcnuY4JgpkKyUiB22e8it7dhoQt/y5BnTjmWkKJk2IXlQ9STNRHC4LaQySFr7EJJSZKxkpPQinwFRJLc5iilwTtFcfkYU1sh43aw55WdQ4QuoI/V8bbGPUSHczr5Mj6qLdFMmo+eAYs7k/5kn83kOgJEfGrMyoiLrZXRZ16/sCjyU756VDWZBxARMySHw+T4ySUgWIJgiosmlCguXs594n+247/Z0QY45VIJY/Bpg0q7vG9hGw7D1bpcW9mks/9aXMOv1YH+e0UrynJ6WWllGbi7dgikzmwqC1M2ZlPnxwXTIcPb2lx6Uh0XvuqURrhFFVKhJjY9PS3mX7u5rd9DEDtgpCFkZzcJAGZEN8Rs07O0fpZUvQtJWxBbqaWXtKfsEX0alyHnwdMW7zu18IsdrmZ/aeGpvebVoTT++F7OXbQe6mimXRsCWi+tFc6eadOztpIfgVAM3T8U3pqKPmPxRt9HK+jV9AcC5m/qDx+vZn97MyvzHQzScE/W/pPDw+BdAfV4nTRFpUuwIYeuEc0Gb+Eoaa2gc+94jQdOcEkn5RCjBrHoj78HmLNsLcqSAlyKU+sJ8bmQOR7+GooEz04BJs5qDNsSfqEn0w23RwUzMrM7H0sWHpqehXY+1xUVUWExcCQcqbzTMHtNuOps1bAMh3IB9FH66OEedHnz9rbt5uT0GtubtbBGKw4ncv80bmOwLoAIcg1dtOO5jTNpNVrLJ1c8PUCLMyE3vdNrH085naTae4WbGTxi73wXSyH/RTLdaPj3hNYJELZKZFdxlLeprLtJmGLq86af7zR29LUumm+sMULmY+WOsBnoGP0QZt7pyCGqH5SbPONq0OklRpgkuSAOLSOLHGI7oUzlgW/UYLM7SrvjLb2JvrtG+f+D2EP0yHkmbIIfN/AXEkAqpPESh3Mv85v114ghyw+ciZqfnYiWwDoD1G4MU5F6iedItGf0o3jV26Ev7h7afeD+bvNpdYUD0usUzAWHBoivtbAEB1+A6avzpG8smQhOt2BnUXM5cSwXYJT1OjVUspr+Gar9Bqimo+VJb6pZntnpr5nQjT8NDIcQNqwIKBkB/ekrMaojzy5SjKwut3sJbZHm2mAp8ri7zDEBSMkxaKQGujZ80reMMUxUfsVitJm4fqVuaCsYOM5FAa3GeWEZufkJq54ACtMLtnZW6gXozL89kvbynSi6ohypPuZ/KMqy3wzGYYMWoF7kkFvW1WyCB2w3kfheQpAnGvnjavwinyi7rjG3q+7l28kfnP9UjfiAM3/3n/TcsD9KzMvSzCyHlTHiWa1hOIOGqDiC6iyJpav5moX0/sFvZO4NoDShn63vmTxVhA/3q1ImvB3Kpt7ym0d6I9TnbczPzn+VbnGKJY52ue9F/O5ZTPvWZN5gmN+8+t995K0nm0oyqSKhGNC2NRNMialYe5WN4v6kqNMkQBiMoLkFpLVDJq7pUc0/4xbEasNLmqGt7NzH/ZPykcqzlmwg/NPAtzufdZpFqpaI4W6CzTUmWviHGV1q4iCDy7LQxrA+hn/pNF6tSfFqqQs3z7i/PAj7MvjmwmIWTWvLUosxjGNCMhjOniAqO6i5lDdyiWR5wntBmbnweQIjBnSyu4MZkr4f20B6IHvTbsz1SbOr1rTbW81+LPLq7+7HAl7bdfWBaYy/0VSQAUIxbJ47ZQs+avRRxLoouwsUAHvlYJzf3M59oI/4OuPcSZtlnOxrL6aIbF5iIekfmIVO/54lB35LmI4+82JQkKqIc1reHBEQhvhfTOKttZ3rKIkfddY8G8CS3flhwYnEg5WqY5IWKxWXNpIvhY1CPJr4Hi7Bpt90mx4FLmSjRX0y8hGXChUGBvUUIwbHP3rFZAaS6mtqd5mUESynIbJCXL7KUBmVmAOx21WP0vHL+5gUHRGBZ2Ni9F9IrLdCp2H5kZoYnHydfhMMGGOZKi8bq8r7dS6ZrUFd3L3Ilx9pORimZvPghmbU7Fg8eXJNFciDMzr/6doAUrZvoh3ZT16+9DDgvF0c9NCMf2NAfWLj61bS4lNO8TPANZ+NcMuyHrbhHqah32o2ZrA9XXzmbg7AoGgmlyrSTYL2Zupr0dbj6QmVcS0V1BMpsxajPLiPBq3hz3Nvih7lwDZmU27Tx4v2x7ZbhmUFE91UlND8fW+yRJgSZvOjh1nnA8cyqsFIXYGBhwq04LJSLMzmnzox5nXs17q1asQnyF7Vrm0Fls/rlz6ThYkjJq88aF9iZj9wfdwdlq7GnXVzNDOyqzZXKGXsTvfjDBcoFEkTaGLWXVTcJFKOvzyO6KTtV5fl2PpEyRqH0cSm1oUa7v1H2YGzfbqm6rhXWZS7sl6BQd42pmoDAdhVXkzx7m6R+yuXn3uwELRAgECjOAW3Eyr3mZ81qDZdPp+VC0BUnf2msEK2aE1RcL1dnmBmKzQwakK1nHDcKVs8aAigd7oSAJzTFYsnkztK65SAavplUONGgXMp+/WCA06uFsPvbxoM3PJc38lLOmZS6ud9M0pRMkM2mv+o9MAmwJxGwdMhuKh7m2t9pPLejHZQE2JMYwofnN2PmeD+ESzJqlKPhZ2Pu/2PnT0qfsu5Q5Gb24nhCCdbRO2hzjHrFsBenZn42Ny6wl+o5wajqBEsOMLz3JNP+/gJxGDL5kwWQBoZtZLlvKSpYebTGjTmprIsovoBn8uMAUcsHs88/l1jfSYWxtvw1kUVCVdiUzhY2wQW1clt9JUq2TNsc4qjpuFV8zB07ccZlFk6odBUuX01JFIJMEURrPk1UjxRLMrhMOZsOqGbD3A3h6HW2sPB8TzRSEo6u5MlEya14KKmled0aZ/oAh4F7mTnKE8y0vOE/+McVUzf/5X0J/BjPoAzM/acO0GxzIVCmXRpSZwJm4fKA2nRCkddq6UBQkaW0ehHNOCdlTxefZXk6Pj7jK7lT8QzkxZs0LivxoLpKPxivTVGgM+dDfymxGksJvM97Jz1CdIcCszZv68KrLNEdGchVqXuY3krWdnV6xMpDHIiTtCZgWOOjSTfSSpPdbopRZJYtZDUJINeBSJj1JXqczDpu7Bd1p2as33YbafQ39WuYOKASvNySUdGEcM6gKhm1+1vX0nRmdvmZlJiltqVbnRkyeZdzef3re6qfh4DK04IuhIVXHpjZ1NFChOr0uL7QfR0MB8gVGzX8hPzsEGK+PQm1dw0rBF7iV+UFNnbntjJ+6W3fO2ZsfiNbR7M/BczJX4rtAYP02jbbOC25F+7HtF0C5xm9v83jmx6lhn5gOsvQ45zUCJ116LIBKTZk7bSb08g9dJ7l3dqXZjohilRfxC/Cj5KXM55IyBwcQMxic/06Mth+r+VoKnSqnmSPCs1hTMy/3XNVQcseIaZMtiNGFAMMKjkNfN0dhxiXHvec97x7QynVIHQMNP1yqnjRvZeZfYmRRt/l7PMUZ0CYozs3M/aeZ7SfDWIEf/n9RkzanbjvTzKqCudwPy56mZrYq1pJSBotCJDc+G5VgykTnjaXThWCzl9Eo6LKZn2fzd8H36MRscT9MZLfX47x5ecBO+AujG22htzL/WVr6JP0AYH5QP5l1fOa4HmmmNLx52q6DWcfek6MkawJ3T7XGJRPGbXOzeate9FXobZWcfqimsdtqw7wZxP+cxVewb9itzO/84OS/+ZqkuQk3QvOfAXxOOo+J9/HIds534+B5LO7WXy3ZuECoXX33vMcbOWMxR+fzbI5CKpsNRqDjkc7WWhiF+Gt+0HcBPmIGaNgcVsF1fq1/ybPPpX3cdy1zqaPiuleoTGgmc441OGpzrxu7oG5mQMKUuFmZw3vf1RNYWFEyLkvT5NAN/iBUCAB7XgcUSgVLBglCTgkO+cMot1xAmu9ET7h4Dpq6YZ4u1kq0Q7XpJsDn0o6xbLqX2arwer2XGq+VgD/xV+q4zUZX8x4X5lZX6h1EOz3LTMqMC1gWMOszQFSFv/OjlBUJkta0kbRVCsMhXv2CoSqkA4GkzHnv5xLgsur4uQug3S6jqbIpqPW8UTMP6L/frRx4EAbT0i2VCWDeyuz1+yw39/l6G0IhmhqkcZulecBNc/QdO7gaR2bm3qedqjrcDONzqdjyBMYFNK2v4JDSO/kHbcdw+ZKnjnYaEANX6nAlxSoVBxHW3OhpxbYNm13tX2Ywsi3BX38zv5Q5UQfZI+HDD1PDNkP8RlE12RE5KXNp31H8WNR6ZEs3hFGFEAr90GS0ZWHp8+uPugsC9gIyMCujzdlKG6SiGgK7DPlFaYCaYdzspK5XhL1quUdWunB/YK9k/su8Ej1+s+vnyHjyq4VpmfFREZU6mvojXYmb7/4nzstbpJYPzgbaIKKsEm2ECN/8CC6kNNisnzBUtZ/tEyhGdCVFXxXD79REjpoVGwWVrLNY43sv5zz+iCHjUuY3i6uNe+icrblhsu8iOpjdhcELkJzDMrtBEc0KXizPuHNmzLKEcwFmQjHn2TKUgq/m97x4tpdLnJzSclxV2gAFF1n0Zix+NcCaSHuGzQsb5eZtelWxNMdlSbiX2bw7uHGAZvb84O5AczH5fdrmWiXyJINmkV1WxUz19s3LrL26gGL84ZXKqHH/aMI9Lj2YZOY8sbYrsQkXItOYxy4F7Eq5UgUKnkciJ9M/w+a9M+31eLF+1VYZaFIAfHcyU7Ew78EWlnc3QHD+rcsY+54Y0DVss2Ab3cyEZsH14iM9AOMy3w1GgqoSuc91hg6mJFCFcqrFRc7K2QRw/IzHNGNVGVtCDIy1qXkBP65cHiaMs2anDApX7KKckwHZYpZRnDfk44LXMmuOcw5JyKnQNTUIO0MxS2a0DrCjzNlcLIdniQK1cDdGMOAD6l73a1bmAqs7XoziLAi5ZSzTDWrJ2Mm2VmRg1e/mABJg4pGhAo5jIy9eIAhZK8qGWaI+7yPMKZe6a1qyPG+PvJKZ6zfK4zylyLCNVolxeCI0NTgLDFlnbV43IDAjAF3+gdCsameqcZkRSPbgRGqTbWNen8WLIUrbxL/aMNusRRWzLDJbl5BV7isFCUneb6alD4hfRAybu19lzTy4U1VUKxvUURtg428JSkfjpcw6nTinnnsFoAAi2LSdqfISIJsZtmzuqM2uKvAWzFpi0weGDkOxVETjMgOVsdatSKMw1ejeFmyhXDQLBWjzmpNI0jKFBb1tqvW6owA4ocUU5aY5OcNmIAQVqdBu00LuVKUKh7eM29zIHFiZttB7gpnuxKGQtrYuQbsxZg3aDCwZATUetUVzHkDRIJPDeQZmPu++K0ws0NVgi/plLyIIiCURUtbSXqUO1LrtumkiXgjPYyPEt/TlDFBHJ1N8S8BpM9WplZRfZoEdAz93qgqdAQrwb2W2yRRIAG7zCxiDbF67mSRs1GYIwtwkILDi1IQ2Bw81NzGzkGifnppEGgaSeKFq7XopixGfEygk5y0dCG2RuWgoAQSCzwKfd8MIqBUiQAAaek0r5Ki5Uv447xqAm5Luk98qWexK2bXMONlGSieVBVEyNt2LtQIJxTuWkaBuyaTNYfR2MieDCohdShUlN1KMyZw47Z3o8A1ATCqgLJhYu7wH3GxhwQMHYQmExJ4w5mauZsM2wCejfH6eH0eGe8GdNJdDFVvi/rLQzS1lBbL4qA/D3cp8GGcQ1SwCTbrIJoaevEh0Ddx8egwk44ZS8o4rB5iW2ZOvCyC9Z3oa1pwXzkjMh6NyaEOyWErRjMzoRctSErFFHB/pr79NeWP0gwSDEviGzeRforejkdCmRRGEtJiL2nItMylg9b/kjhwiMkdxp2GnnLT5+Z/kL5oPndMB8zKPWsLau6sSUVZ3XQDeqiyACdG2hR1zkPFZHjex3QqBtnO1QcyVNJrd/qfxWZfKWXMVcZ/k3vZ5FQ4uKBULc+Gm2TUXM2+igSgKmuQExx6vFxORYmY2wBUzbLNNtWltCiq8RUVO8YzLvGla1DZDJHCMziPY2nm3XZi+JILdQsOVOTcg1+vKmA7P4PaAli1uzZlXdHPTBTUVN15t4lWFuTTrljLuZbYJ62WvJ9f3Cxo0JwArDDSlECZt9nrL9ZRxIAdUzm1zHpp9ABP2uHGZJcNtEdrMtOrD0CqXCoAR5cJUiQ6TvMxFsasIRIxgbbKuUwGIHqpEmTfPAywg/xPOVTmQ5fecnyoTAkBmb1BmARGVQzUDWPBgewcdp8Yh3AzTPNNMmOoJwphUnDhlDM7POItlHpghn9ud9tDkAtEh/M6zaVQ1bo6v/bgQweOhPntymzkvoiqCWY9nQzQqUdJEMHqnzUqvEseMIHfiuqoCio7WIu2V2qXsYR6ZmGoYykDmcWXkNXMDgzReswGHpqAEmnVeAICmKUWKBXkv47BtFm4RmLyM2xE/mKT5T7999Z+8F8BQ9ny5vAAHCJx6t6NtGhUfDYnMPBarXj1QV//sBpUmWM0ktVGs3x9/fr2dNKzOCwSuPvzVltetlqfBAEYBhZ6SxGGzd7w1vEeDCFmOCFQtV6GAORzbp6/+4FRN3sr7/tsv77zyTcyD/GNy8A6MA6qpLDt9YdjWAZgZ4/J8SJOhvV7pzNuheTSS4nAc8+DYVNUYtR+VV1K5Q3BQb6XW8WzZX31/Pq9hxFjj5qVvAZlI5ae2xmA2JUaz+FAWEOCZv9CSt/i+L7/mlhOf/6K23T+eg6h95E5yK7i9blzLC2yTbc6b1aQyb3IAPU5+eNWIFKNYptXxVlmzWbaqGsoSnsdYFAZAIxAnX6DnSGOvnKNmzr9SCSNEeKrxrV2tuywzbbsxCfTXtIFv/X2ff/tlT/bbGLwD3N/w8wec0LbkFMrFwTLTi+IpaSBqMrKktzQHHgYFjKuZMehnckhcWk6buQG23cCVlmmg0eNs+OQJDhhcqTwaZdpM7EPD+RoHtBgqcUzFH4WAvA9q1xZn3nGxxNm/83z7rbyve5+47uRHPn4NZgRb6DYIj5eiezmYzna/Rbgwl9WHZU5z6HHd5qo/6XO3ASmIeomYGBUG2CAKVZeOSp6oYy6JruQR6Gd5+3ookjOaLj8PZjxvwzyKwgxrMzIOXbKTgdqHblP6REz9cyJHfz5QfJeI06W/WIXlZtvGYK0JNItoRSN8nqL0iMYin2qoNv/BI8JP0V8MnPmlFx6/pj30IlAqNK7CgbOaqv/g5ebsKXUs8wKWinYiozVJAUiNZI2wSF+jnNuqNo9EtGBYYNHwi5zBIITJ8WPJ831iKaHx2xE7LZixrG6ovu4jyqJymqR5l8i99WLN595gs5YM54e/WMic426DRHXDttnINvN2Z6A263hn2POl1Ejz59/d3W5+3WCWelVm7n31wEBhY2HJyiqwAIpgcSMqkFoBSKDzyjxBnwsKpTyuDIAG3p+4dIAYgyyY6wvcQN3AaoZgS4VLmeEh85jIG6WYi94s88eiKOTHUChCUoElKUAbns1FBtfHgzLX5u37TDZvvYE0/+PvF7Wz/2YwS70o81oF3pNQ5yWPwW+Oo106HbwOu+PWLbFgt3Oe2hDKY1dZlWmQNHUkBEBEnw8NdcO8figYslw3UhgO0uWly0gByjHvvXnmojWqGDshZCgUR6J0iboN1+aqknq1c4EBbPOW4gnIQg7t0DzK3MKpm7VemRnF/aScvSKd9wKmDogyLlnHvCVDxXl1P6lQ7Y3MHOEc3b/XIj69birrPFc3C9X9hJ3nEw0tyN0xgwzDrGgoZBiyZIGPsakg0n69Ekkp5qI3z9w1yKh1AMP+RNU5mEFAdksbwiHabJcwmCULwNytHZRI0dSHafMWHIdZ6XWZRckWsmS4bVcHarswI8EWcSX6MZPO++Ysxi7ODZz13OeePJMmm2WIgfQ4XIu4Zf68uXd04bqziWL4C0NaZ3LlJC72o06WYa5608ySQoSbV2AcyUwCFtgjFcYgBAEXOYZtM5Y2U1qIzGl9lVcBBwaXMve3CoNZ6mWZFzY1IqQvAKT8C6Mzbea/fhdYpJXhFtC9trjSeViU0UdA9lIoCLeaM28OgIRl50E6BL5bTgib4MToRU7mCKQFJBdrSjCXvXlmiAdziD3Jke6/MZHMrBTPAlAozTNcmy01quQLwFbZoqlAyRQKa87JTjU/MLP2hiuolCPMBcRHE9+UTd2ybwsy1javFoMMftgK8Is3GHQ+TzJp9gZsISww1tr8nZfIcbP6KnNbVedeTstYqxJXWTOzrhRz0Ztl3ib7eAAziS/W9hGc0xAfSjZDGIdsswinzAOxlcW5r99akkoDYK3M2UoavFX3uwdlSZYwNKLKVpIiwcRHQH/pI6wszUlMDyLNzECmfUvK7/TrfkJnzUntxltudFmKtjN8FtSRzKEs89obZzYlGpEWw9I7zMzRVJ6kwkSkIdsMaTEDAbaYu9xs3hiLZTZT9XA/MZYUc/cbgOCebqZVFehLPR5H0CjpahaHqsdbxNe7phrMH34fC5heIAzDZmUNudjOgWV1FzEgBiaeSmxG/DLMVW+guQHLR+Au8oJUh9iOCg7P5ia1+e/f7dxidZktmFmE+x0Y3H1h2zsWCDdYZA4y3UkuCDBP7cOVkHdwRtMQmlz3udMG41xH+3iu1P6tJY5i4vG4+sCYn0hHza5hmDUCoG7s7lWOdukF5VIgbzczeQ1XgrnszTOHK3aNeEmhso1pSygUTDQSMMMgQ7S5TamfIuMdzyaNbzELZiJj7psdZqXXZcbHFpkR5gQtICIdUUI1kZFXMkdTsUIRvBI73qBSvgMAyiOKgNukXIgUGxCq6YJp3GzG4l+uSyMIODKrKiINbGw2QinmojfPDKaqxmIzK8HrRFVO4bUYkgRjmDY3aDH/kBZsM1NnGHbSnDiPme9FmUvEN7/eefcbS8zsCSYilAKaKUaSVcD4eJ0Zs5rC3fKccbZxmLFRFkZJoKryUOEWXagcNdsqxqLekPSyMoRKM6CilwIVlWIuevPMHPH5pKNQcI5LGK5D9RMqmIGhteHYvDrv6xUm1Cx7KYa3qaqorjQoo6LMxTCZ6V6a2dYgod5BaLnGpAsMc5eGtTY9ZipE03gdwUldzOIaDlF7sMQbgx1IdbTpuCbN8C7TZkOkCmBvVVVVU2o3CatHBzCKexCXY957A81x+ihCM/7pqCdsqDYHOwWjVSJSFa8W0G+GiVZxZjz7M82vCmXWsg3EixVRItSHUTENctNItr6h1wWU0/LwYHSCA1VUqnqpovWIZ2DkP/J0vZlURWEbNhe9mkANTGYU2nndymzDCYSIhkIHNjDzu+/c84sd22I2UZWpMTAhYZUNFmIO1+Z7jgA2U0ht7ufDyWXzEurx5s1iFnplZgGOQUttAPnuqyVMFAnWd4BPXGNkYGG5H0ebNy0j2QTvcyfw69cihLTFoKSAMW5uwyzgRez8kVBG6jbKkPyCAQ28abMUbj70RprPbxaSRUYKC9JAkyYYgY/z5jhUm0XakEeFFJPMIIMII+YOpYyUGRduMQu9LHMLmClcTJso20RpGCznKdlZYH0lSVycQbQnuA9+lSFYc6wyxI6mHzvZMmmGKUCuK8iwYfzGXL7YGxBNImXKTGkKNh97I83iSDU/yj2Z84MTCekFCVBGzR+uzUbjLXMUiCw9g4ay4ZQvHMYMKzaZ6V6deWR43EVR2oJAAZRKJcFMWrolWmYamt9oNbCQG47GWXRqZhYWiZI8ryFIWPAC4bBl1FzFuvI0IIVaRRaP6w3DScByjy0NBTOnKcNc9aaZ++hCvUL0Otl8MJOOQWSGZJg267jebCyIiWCkzKcqTJAkQyTU2HyIMJilXpV5k6U6IpQPnFHmiZ0FbpPfQo15jxcpV9Ly6s6A/bo0DKEppcW52GyQ7B/8Z9q8MABpvdPipgq7wEPqyg3ozc5Xknl7pkTzGD55Mi4PSHSCGCnksG3uovrxM5ZQhmbxjxX5CnlsHv7CL4NZ6rWZq+3Jk6cKCboxhl5chasIdplzzbCC6k7YtwB93ot92B1u1EgM0dHQdsEIGIgL5sD0WQtmdELPnRAUMHTlqTp9k3g7m7V05Zj33jRzF1yglZH3LWMmMyyg8ijAqIxh2hxoo2TGpRSLOOtbwqKWiDSXyWIWelHmEp652bvxV11kEY90wTCuyAPKTDItzK8tQHlbxDQ7ex59pcOzc8UIK4yhYJZMK2YnBmgOoDQnvXV1nqJcoSt8SB0nJZjL3jQzDH7d2TqOy++LM1EhNvB2A8GM5g3TZlBls/nX25JFU6xOQps3j5nvlZmLy/ENOY7Nopm4ADCjZZSdmX78prHMu6t+HMRnv/ZsFGox5fNlUZ8oW/XXcAs6ZP5Lz2MuTpmjJxH8CgcjkdFlYVQ55r03z4zwvrHZrFcpsZLCEN5AdjuTgodys7hTLm2WDKqcQUq6mCtQZNDmGrDBLPWizLjOUeu57jAyh2yvec5RIHmK2MfXLdZAXrdQDEsY6AnieB67Oyg/Pxp2AhT+U/Mftug6/yuGzMkgz9aTzHwm0lnfEmaNlcss4yNxpeOqOVXpNttpc39vuxnEvM9u7tS+hIeRYII2lJuzKlwum3k9b2BUFeYSOiFthtnqZq3XZbaLbb4aI8uQjLsf6ziuxthT1KsiuzZG2bZedECohtOqTCoFbgKsCB2trhc3DJuVG8igl5YgzfvElb78DqFlRQS6gDObJp959K+dLf/uaTY3/sfk8i8/nzb39zaabbRZjFsqEe0CunQGQFzNYA4WYMg2o4uiaKUGmDAqMEdZmm9i0uaCGcxSL8wco2h1Xjzee0OSE0FUolpMIB7TkPRjYeXNebwpR26z6kYnYWwcx1ZfsEhYZuY8wkDgNmVA87RZuL/8Jp7s5Qs2LPvkN6WncbDc5upkQxabbK7MVDpL3R7m9t5Wc2AxyyAP411AhPEg72WLJRyqzZ/YqZmmhdPm9sFQWRU3SVhziDxmvtdljglL0777XWYSmxiRRjZ0fTjQYZJAcXH4AjSVUwBk4gDQbPbvMfFaULSKC5hTzIoWKIwaNmP7pJR9LX0sntUEYBSlkALM5mMzXiZ6mTN7v8TxgFFeITTrdDLiREO7FHHINuNEaYzKqMzNSYo2CynoUplNS1UUEomfxEZZKSxDbK5NW7mEgDYcCVQItCil4ni4nLfNpEYGQf+4YuNxQtZsaDvPlLlb5A+BLPTiAnTx5eO7JpaJ1dWZ0sVw71JzmhMeVXL8tLm/t9PsJWEATnHfuee80vsE9qbamynqsG2OVYaUVTF+VGfOI5TN8J55i2U2Dk2d5+0ok8A5KtgIRdRSl1JJyKIbCAJBCNsIKXOFkIAuwym1YvQCDgJfAqiIgF7+UXMU+acHpRTXQNdxl2DYDHc0LTFS0R95yGvu9ZjOY+7sbTa77MUREvB6X6k8BdshhzaSYag2Q+C4zYgGIqTM1OxqDi9MapE2B9JiFnphZjOBvB9NQLS3PXi3ZrBa2ENSjj5eWZlBJSww8sqQooIf1UcUZC3V8r3JjwMJk1XIsLlA9GP1henoUqGABpOqBDM5yWx00+UwM8WbI1g9zO29veYV+LsHUjMH5VLwcUpkRiQzog3V5higlBnGHZSVrR3mukKVijeHy2FWel3mGArTjYneuBqiNeE7E0H5SAdiiUXSLac7y9xS1xQQRnRTX0UlCGlG4nmtWdJp87uyqp82VSHmh9sDWBLY45fqaWae0XzmVIcsHBl6mNt7e81FNgnkvCo6AGJwLgN6nRcM1eYI4prCaTMXgPFGw8IdI6VU0lK9v5uTYzBLvS6zztMFDLrfuY+9OW5ZUR/niqIEzbRMOO8v+zJbcEKFu63G/bdpdaHNZpKC2wCnzVv25QEK8Ym5KL6NfZl7/JiXGD3Nkb2t2iJ+KFy1lcWH6GHWKRyuzYupSfPJgpZ8mUexLNmOUnDaXACDWep1mSWEdTVOHdHnjYevJ/t9yBxL1ADW8yAFtmn03migcn4sppsr1Xn+q0AiBMO1ulWuNOYnyUmzcndtAbSiCp9mKe2doyIQkExtKYMD5jIn2usovczdvZ1mc1dzW5tDGiY5M3fKog7V5rU2V6/rVNy96+4mwowtccanmRcXzMwFBM2tMdLQMNLsIHFcVmW63EHg63kp/3qbEzrmD11w08yaUm79FXFHgjSZzRmhS3TWrOb4jABnxX1+n1zoqY48DMSF4De/iZcWS5DHTImxH9cih7m1t9PclHfu5C2HQRaCayrTgeO4DCX0UG0OZFl64LzFm+PEmZd8GKfMSDjOmgEzy7xeqszgGs5MwzFA0EEoAVDxxC7b2smASrK/rswGtrMbn3VIMIrp8IbY6W2cNpP15YutFNOTfRQviiUySohesAZI1lDwPOZEbCM4WQ9ze2+nWXGD3mewJIi9uxQygydEQ7QZqRihlbkiWGZMUUZcsr+b8yIYzFIvy2zHiVaKIQQyt71S2EeaqAyTubWERCbAeRUiCsunRKIsS6llCzrn9Z8Hu+chMf+74sNmOg1tCFEs2EBE2clikE4fT2xMmCloLrPVI2F2Sm/+prfZ3MMolCDYfokovVrgow7VZnG9wmwefbnvSrRZ0hj/yRxA2Sz2qszLErVX8PH99Y1gx3CyaMli0nmfHI9nzitomS2rrB4ADTBk+d4Hf5x8gEyat6rYth+vJKeGZwazuTcqzptBt4BferPh85m7rTGZWGbzeFPaGi9p/qC30xyZmwhXwkCaYSDH8KAU0vYbqs1L4ZzFLEr7dpl5QHhzhepmrddljhMbFN+b84EQDUg8nun6Ar036uimOUIZht+FLZ5C+nj2ThiOOc/V18jlyycScSRu9uiQiZk2h83GzWvacHTv5FXTeBbGjkwxDJvT3PnhKXLFox0wKhevy3IPc3tvv1muq1rwFSMCUiUZXodOqGqoNsulC5S5XsVbVRSbB9zMFTPnRgsCICydp+O/f1jANsadrXJqcy0BTTsjPCubyVw+tUpovhOOBiFDgx205aQZ0phIrMwBeLO5bwo1I4RCuhmCA0lkX7J85s7s9NTF9Qfxv52nxO7xEelhbu9tNQfjiH0nc8ZgFJagmoQ6Yjoym3qYNmP4AgC2mDFgFFCSxRxxIoTEmqHdYJZ6VWYRAtLX0/GuirmAAcYVzUnmI61//Wuy9E9K0nmDrxSLmA0Z90D++f+EIXDMrG3wAt+guXJDu79g6Qgli7pM6kGS5KhxkZeMbEa2fOYjqxeP/6O1J5ZHtp/RlYUnpJe5u7fV7B5gjSqAcAUW3Hx2JpeEbPh1AdKBNFSbl8ovsyPAwWwErjIfKYhCm3NLDrPSqzIXWqARbM3OhoV1PwCBLhSUDSlAaxLQ5jpvNMjuaeLCsYOWZjDLwNB54etwwUyFcsCg6CQv1QkD4wuOxvYBGZgCImRu8/J9F2zefONpje5ylPidak9zc2+rOZ5w8sMbXA96BB8jh8wkth/FoUgsGabNAmzQuUC7GwVgMVeSsChzGQpmMEu9KvMKAjAeo4CZtAN/fwrP2jfuNTKwPccqY4LIJFwHSRBeV19xLMBuW/qsTvaUeTv/AFIG+k79ilGsIRLhqYQAPUYUhDxmIA9+8yu7R6dHRLKV3/ipIL3M3b2tZrxm1Kzz8SE8IIfWEL4XCY8FHKLNwngZoP3FWGyEkTnnBWEXZ+62O8FcMljmw93WTckiFbE/mhp/9oAWghCO8Ie3fYukpJtZMV5xEnJeSTFlLk2xiL5ft+yDywogZ83W8VtCS6MuhBhVdXCjjcp50mata25zdvCX922fqsXm7H0ViJzni95mcxq1mWW1mTVNLhQMBnBrqVkats1DRSCDJUJszoIse6JsrDlVFrPQCzOHsL1Df+fdg5wYNY4LROdxwuQmLm1xOVdrpoJC8BzqSgKhUCfcIqRQgALzwkyzI2B5z/k0hpjTZrl9p72i5U5YXGGlcKMOggP2YV781eNSlVY1SA5za2+3mQVSS+AJXOh5AEpugdN6llsbus3ilBlLyIJ4LzTcYVk0GMWkzP3BM5ilXpJ5fxoLkS4DeWaCKEVBAoMuBsfLWqLyLQ1D+OE3ZI25QEwhmgap8DhSAP+BHjxKxONUYVEpJs04wG4F3LouyaWWTQ+IcLLB7FIQwde7H3NrcV0khDzmzt52MzIeYGfmYQO8ZyI0nLHwYMJAwiwaadg2U06yTcUEjCuESjNhGHc/mUnzQs/6pM1JcJiVXpa5b4d9gHscK/fHx2RWCLcxuie2WVmbJ4FARoFgHpMS6TIr9f6ApF3ofAFchvNm9ZisGgfmIt0D3loRgmVHzyqWY957E833NzKLP6iF0TOxmcKACKFbG7rN63odRZWUxmnLuMhkluWfzJtu1npV5pU3dz6OjFMVLHsVheMRGGPOL1slrxVaZUu0VedqD8VOnRm9sYKhTaAzGAwUGDJproiuEP5EWJHasMZKTwENw1sSl41UbEbNSjQPd5Z5RUpfEQS5O4MCjNbD2jpFI2qh5u3t4zBLQWKQdDWruKdXrA0u9GIuVaM3Bm8Om8Os9MLMJXkYw5rjtbd1OkBLH7RN6xdhpdA/rQEqXE1SgWUh1hYgnbyYAD5lWuUgaFxRDdPmGcICIHuZGU5xMTOrLkujAQ+VeLw9/UsxF72ZZpRHDZtmM1KKYQIgR79ypdzxaxaPAxqpOPOiGyaHuWaLYHrLfNPVl3dJL+J3XkldWByHhnNd8wRakIS5+0LJY+Z7ZWaLuN1mLUhxhYxA1qFqHKKfn40lfXVy/ON3j5bZqqY+z+U7Y1coNsOtN1Pr5IgiDpvvkwY8dxKVfWdU0BWophEpIlsDAQmcWVOXYi56w8wWnHPYOOPV+XlfcGTBjOcr0MBN7xU541H+q5UUpjhz9Q5jmOVaE0sITg9c/lxxSS8uSG0u8Bgxh2YJjqKSgTbjhGWz2Msy645gPEEMVehkGP3+Q17LeQuImWRbSRt13UMF9NITN609D6ZVHmMIAylkFBVx2nz6KOTiyHMzGqiCStM84rCDJahzGeaqN8usse2/7bsUDOchUkhCXr04E9m67e6M1druAs2Laghep8ScjyuQwlLL1Gs97ujdlCKy3k0bo60jbXDTdB5tLorBLPWKzHtD42aLJ9GmwlwX2DIutlX2xfj+c0K7AboSFwRHOUSf7/EhaIoL5FDJqLkmIPB+hAdi6q/yBOJ2AcAu4hiqFHPRG2iu4cVtdrdfUMKA0PikiDQue2JFLb7lhZkXxlS8lj/fbPXn+j6IQg2/Ud/88FHFJb2F2cyhGWorMkOw2s2bS6CbtV6WefoKoOo1qgq5j5wCdcsSaNY7lnE1KjNpU1ODKGaI5QBHyO/HEWgwIApQt7CcyHm++wVKIiKPzG/UrAKGjoDAaovwB6UKF4MygMBHXJ8EYbWZJZoHI85sxsHMnYDAVs8jocZEx7ha5Nmp6R2jT2rpOECh5s35WhBmQ6HmNB1Xb77qqcsm3dEbV87zFjtVc6DKLJqsZpJPUNKMZQaz1MsyY8pMFowY9rufdF80ICCB1EwwipJx20xPU+L98DjCMXYsGUQh1WORfN4SxQBN9LDZa9YeAAC5k4ocv+4khqpfliOwpiAz4cswV715ZlzByWYAxN95wumZHDUb+aQ0v/6OL06f8Vwzc++pCzQvxHG/YTCYjcNrBsRCQuHfmzt6h7KeV0zZjMB/m3V+nZecg9eD62YxC70s8/5mESnaZVzVjjRRbIy1OATcAN814X6swRSsOhXkQIEJRJZ9G2YAl7+kfVQV0dS19hHNXJej0vJTzJBktk/Q5Zj33kCzpAMt+xDrp/Zj1cBy+bq8mL12Xf3yxaPKBK1I87zfz6bTmCcoyBCX9HpcGDa35A9w4yxIzLUyR7vQLHqLIMaEWTQhG7hoPROaXxrHXEtKn+lVKN4EL3MhjQdenCWEASEpJxR33uz3BckmJPS7uJZApKjN2OfgAiZTFG+ue8PMhbtc162s3ZCKxHJd1p2tduav3zQx2+VoBZpH6ByAdYcSmE1/gegV4Ov4f0h9K/Df24BtJi+7d/HZDJ88MiMaPTDaXBqDWepFmYEs4PZD4QJ22iN8CuenQb5NtcNsjqcVk9HHJzhLrEfi5drpKhYAq+BVva/IabPJuJX9aUnjKpVkwImVqC3SOFGp5ifRjETG8APJT61jrOcxZ3J+kKMvB/n5v1b52n2LimRcQeatb+4zM19gNr1NeKMeeRVa8Wlat/QOQ4Qnc4iusXzXfNNNqDbDvuf8jzNXlMfM99rMLQSFZXk5g4ZDZqmcje1ZgsRVkLKLuJtNVaTNTIXhBKDS1DtDOo9V+UBERVFHzQKZG9DSKsHPeSTSnaILSzTEUCR0ELmql2IuevPMEJ7u9O4zCzMUpchIUruimz0dgizMX7x9261mxswVZJ6y6ZzECUWYjSNhPn/aqs5k3dGLdpzWa92SQEj7w0ZEIu2BfJS5/2TDYJZ6YeZpic2U3pWwPp1htEFlAi/gIErWOZBJFGM1Y5lHecJgFsOqDAAqzxRpCLf2sVmDCTFvVq8ODw6hYGlj0RgzBITwNdMOOLOUY957M83vlmI6EUxaODMcszF724S0vzcjYfWu86pf+nabIii2KPO/EjUGgmAmQOxYCvDWdIxdcvOU5opemYrnV+yhOUYwIo+tYxUYCWsOqMfM98rMgBEWzfjqEyUSW8ViQmaC/LqZ6ngcIpeyzc7ZF5q4O7VrjKygWI/SWXP7tNRoYA0wDFNk/ugNEx+5rj5E8ea6N9E8uDLnZ7TUbfaNqe7MpPrZi0Wy2Uy2Th0wmo1TUebRO1NX3KD9/WazY+RoUoemPPi/qqefTLmi9373flJgFkr8irJAZHaKAfFmyJbNYq/K3EQdD6tU5iy+8zsm1D//LOqneVtL93BeP2pWCyG/ajYpPN1rlfF63rRZ5Sl111wcas03Xd2JYEYFtO5PB1bbMZf2cmjGmVThuudBMUTiRMcav0CksrfGza9+7Xc75jR6IWazothbIiueP5XfbHXuK4nT88MtI1nOe0toilBOsWPeNVx/HOX+q3l02aaZfyaGZd4otECO37c+J5kkY82ELaYKZd73DTZz08QVnystAUrAmafjg6pwhSpYg2ah3r1vbK0vKRVHgw95l/Hlhd6bn3FzmV7+zLiAIZhLwEyCSmGOsLgU5zZkZdnBZ0b3jj4IblHmEkix1xRdtPxXYCbFw2o2K7pHVjU39Po42DJHJbHMOa4/iFnVNksjNGve6+QZzFIvy7w0JbVHOQ1BwAV63BD3JzhCNmXZqNoRZ5lT6gJnMwqg2t2eN9NZAjyWVLGBHQgwsY7cSTPMY6cecI77LDPt6E6ogMosFW4JFGYhN8xWvZyaoUKBGa1gfrNIJYLqY9L9L7dHYlb+xicmz3iuDWwoxmxSmLINh6m38pstn6xqyCLuJ67oLev7dQGAsmnce20eKozQSHNetInmwZaZl94np/wxL+8uFQDTEqRNwxBGBK2nhsOQzOAF6iUm4nvecy/z8JqMWzSzxascX4iea9RMzmYMBKqrtzd8FQDPApZIIGwwYFsxW/RyaAaX9iMs2+lMpnIt3TUj80smhzJ74IKJ81dmpTBzoddQaGazgS3yKr7Z9OatlnX4qh8GLviJa3pDygXGbEQlKbOA1ouC6V/MefRks9irMrfq1w8PbL6VVcS/fFgGv6CinMHtFfG3YUZiHq9rIy4zyYmASJA2wdxhczAtsaHMg9HRUsFTvEbUmDnpsLlsL49mjBdRfFUYbgHQUrTnC3gaWDaSHKzv3jb6YhaLMhu9hVO2xGx4DGulN5s49WurADUNDN4icEHvqixy/MmgGAY06RqZC/yLGRiiWe5Fmf1DXhsoZRCAGaH8cmmct7+GLjeAujAtSfpuz1KDdJz4vOc8jy/NREoTfsid6M5Zs3ihDGRhF3UesBRkDitempzlpZmuebN1L3dmCFhGXArgOU60fYvMv2JvOFjc+sW/V73q8AkpwJzKq5WYSzx6xTcbf4EckgxF7sZ+sXCKuqEX0mAWMzDWxti2vU8rZczmTcPFQpuLYDBLvTRz3ZJzQL0B1B2CCvDImgtI8p3ITAGYmVD4UbC0tXlavEcnKZzprvoIQjcgfWSggzLH+3EAO6WQo+auDc+ENhFq3UlqKlnOV2GqdKbT7Hdiw2zVy52ZCuyswoyEzgSQbLlzZW0CHFY93hw5e3LduAWYS8MKp1Sp2XAUWJXfnOs2/4NSUtcicEtvtEWwGRRdts0hosMcnFRQSXMiPWa+V2b+8WwG6IlRLGO0JYuzKZZROAxbJM+GAP8mghBzQL++gXVhcAX7QDZDBqzgnYAcNTusilLRtNjdmjGctY7cxOQKCJlwG2arXg7NqHggjrbBWxONpeNu/81WAFM1pO1+suOQRZiLJ2mxutRc8vv+CzAPv6yVHDu39EKyp/dcN/cdkhSljgsEhGSkGW8DBrPUizJbeIH8+I1sRBtiU4k7pLaQY2dh+vzdYCs+fdn3CqoVWFkZj6GQEoC6OBfM5eziXhHk8pfTsW7mMoHByFAtmC17+TObDPMTQHRuBTLAQdUAs+3HaiJxquHabNVCxaaG0ATvyexVJB9n7kZrMEu9HvOv+2HG4kC39bfEchyoSwP8cy/E9rnj2nuf5BZBqa7SPMhEqRHcL3K8lmGz5tOM7tBsMiQHvDBinZ+KMIrIwWjGoIvmIoNHs5HsBqbHLUy+yYZTKfdbzQkRpM5sGYZoM6zz3SJCFQXewsx5Not2FeV/hHmUaTBLvSjznx7BmrpwhlCuVv3LPxb/ZvFgLqlH2T7Pw3Lb8f3FsKG7//UL2DdpjoJXqxDIyIIGvTJCim0CgQmkKiC14DkbZqte7szcOJhJlkQqhYHerCpmsBmModo8S0SUMwqbR8XCvqMs6UYMxRFznDeXTjdrvShzfUkh2HPzHHherf7YCBfNSv6+wa8uBsNIpJenKmuPbDpVC9N5VG2VLX6BSXNrqnfzxIgehzVqF2Aig9+VbJitejk0cwdseEwGESjGYDERCKkMCgWkkw/ZZkFsDMTMEkuTNMUw0xegzWl1mJVelnm+DPU9n+5Umu84isfJGcCfnuUUUAFYA+39VWbnHZuVXQsrHjDnycJjtb+TaRQCriSPZf6o2XkltdZsp8gclgAjsq+07vB3spgZS+aSXi7NVleY4aFKm5lChBBFhdBkhExNERiQDNfmmAoTszQX2BBjzkzlTZQOaBhrBq7BLPWqzKIEBvvZV45e2WCCsEz4BiwgHwce+/omMBEaBjXnPc8zx6tJnrgwfIeAMDkLnHgcVLPmpB/H2s9WJhAlCASsIfVmsRM0m7Hpitmilz8zDGZ2DJCiQ+E4GL2U1FC5fEO2ORfA1OZThDLr+HAxL48v2lLm/vs4BrPUizK7r8kiVAiLQwgft2Q7bzIU5NcnZAtk8UIs0V7XpoWA79TpuU/HmTU79Teiis8rkoXAdQFDa5OyaS5g+DTraBGPBiWCo9gUmRDQ4QI8TSRU5HBt9t5mFuLnOtzGgbaINW8mM90rM0NtAwoa7hxfPSAwwNguENLaxwrphk8GCW3mStnF7e+3pL/hIDG+AU+a9b6W2lTSpVb0oa1kIo3pQCtmi14ezaQGgByZ1d9qDwYdRyQzQ5AIggsM2WaIsxcGZmAXrjhoUU8OkX6sTtYMJINZ6nWZQy2HzwsDyj2jXvvg66aovbH/+iD/F02bm1FJjGDxZxCV168nEoaih48bNwvxk7McewPrALCWuU9iAJAbZqte3swMjTADbCj6CYK1JmH2TJD4AsO3WeNUWwGNWTBCDM/mDnHOZ7P2koU1l8VhVnpdZt8PWL7dhqhUSLD2QkAEq7XuPfDp5QaCAXXJmOtKjS8G6GCZgcYFjHCioMgxZWbhccmC2fDBdZWDg5EHlOAH9yf16R8Kw+Voj/sNs1Uvf2bMAUy4gKiRYDAHNoCuAUjg9tMEuACRh2VzmSgbGxdYztulxdgKu9Hm6MtbsG7WeknmTfaQG2umBNuDGjDbi+k9z6Sarzd6oXWQa3KDJEGZJVjnUXIlkvMPMQmwdtjcsavEfsCzCsLAwfSdStSRYdYbsmMu7eXUbOXVasAQIrtUwYiMGYZOdJ1pkTFDtblmMqltXxqtIxDHsoZVFRLm0YANZqkXZd4eYVQKf/hdII5XQSza4f3lJ7+k2UZR5m0YPi+YoNQonow/8zMNa1KyYz42S88DqroMAlIYUPI67l9zXsrsSq8AmDKVegs1gMUuAxJSNhAo6VBtroW3maXlvNUSts3iw6XNAbKYhV6X+fdq5dSxcgGw4ESgFm624leABDYB0niLtbAJE4ArgaLY1HnWSy5cQqrDpqirsYJkHdyz5lgVfbjbcoOL6hWCCAFVgTYZDpVHLs6K2aKXR7O9aeeBYSrVxhToKpBkZyKbNVMiyBBtFmkM4skcHOdtK1t7+2JXpJ004yciBrPUazIXEka2vy5AOXCB+53lApqp4T0O7fLo85pghq7kwAkVIzPSNkcTUeqBx4hIosPCYbOIWu3n/Ia6tDSEGoGj8Iv7QjLaK4sewkrbMFv18mbm2zQai3xUE5jwYgQpKOSC35E9dog2GxfUwjlDdgabx6C9U7TSR0qZu5PpMCu9LPMfGmkoWyP8868hrtx1pi/CD39ciO4qDyBArpQSG3x4xJVhywGPOO81a44iXCEYiEeQ2AEEDrePllYdlMvQbMuG2aqXP7MBzAyE1TZhJrifBjKTMJgGZqIN22bxNFNEtR7etiKJVWbhrSLNATKZ6V6Y2TihfmASYwX8oQv+SysV7Jc/2lhFNIsRoD06HgwOU0I4mgrQxswb1ZPIQCD07qnuN3PVkkj6G9G82bqXP3NMtNVfgKF0Q9dGN01PvLsx1hiRiWoMErvr3ZXu2hurawury5lkwbg5zMkwpQwLUElqaW/lNBsHCQTEX1UdDP3c55Ph9xgkLZtPK9m/JtLxVFwxlIV/k5xuBa/UPu8ua/QP9HX9LpP5Ty6tYRayqIupJDruhQ7F1B8Avy7PjFkYtZj4fIVxntgWgCmPf5j1Au5ymkbrbGDPmwX4SWKCYSojBNicB6MuyFuzccPmsr38mQFTCSH9mUKoNUbqU9vOmNw22nuKqo3aRHX03eNj0xOjJ5aOvDZ/ottqdWLKjNwIxXHMP2+axXoZw2QBq3BmE0n2Sp5Q3ehgU9DGf9I+2Sd7fxHyhQPBZHzg29iIks0pGl9bLaZ87fQRNmcEO/iHkTTnFfOY+V6YeetyHK9x97FdORKIGhdccNGwmj/2U143pDJjAD1xDcvCQnJEgjJbIEI8R8cDKOF6ngaZNBc1RL+PPXrUbNXQiYNbeIjDakpho7kcO+bSXt7M/FJALqOSNDSmpqbeMz05Jv1/17ZM7Xzf5mpzYeUHiwsrLYqWGDRKbkrTdQIYvcZ7Kp5Lxp8rAsr0VjIz8QSqw7+sCgUoHAahuqrp0bAvP5L8IRGNp9n22jLjDi90mwM0X+aBFkPmFBU+3u+ulllfkcAqahEGIMXSBoewRWnl1mcXDzU213lClZJCYZ0wA0hxhEMHeWhqE0aUbNjcPcgargz3p/dZ+MPsNsR6HjNsuJUZ1Q9CZhC2b9v6s7VqTN39reW1drO71srkx5EW75DRyshoY6wxUSPY1OT2ze/Lsu4Pjs4uID9n4+2FDYpRBsEoKz2mJlfBU6ZXK3gqlDnc1Hi/LAhWh0FJpnLZfDan4D9UE/3nkEXZ6/N5gx4TzB9oqR1FNPXH/qF+nrbKedEIN9r2FHZmsmXIxRq8ZpKDMtdJnGl+rTQzt3tTit8Y8X8o5Mo4Qmw3s3ZmSyl8Kt1FAZS7QrX3LiaBorZpdRzw73PkHTc/1Uz0VVlJ9D55laMTdESYvfOK2aKXRzNEAFW2XXpOXGknjj26dPT7q1m9Vq1VatUggY1/Im3pdjqdbqs+dcrM5s0jIlLZPLPpvWOT6488OS8BYVzAYk7p7yuNNHoL+WV6LVQVxxyeN8mTyuklh0EdikRup3PGYRBFUUDJB8//hKZpiqIoeSH8y5r6Gr8RUFVb/WDQL1y5NKQw3+rHYhBqI/jVu83PL5Q2L17WXDqHWemVmYth5uBEUuNj2cWv5eswysI4gALcJ8dX+QgrVeZQ5dFbFBEHlK+YsThGDEubOlJfa8jQp6Fh89IuFmQ0VOfjGkfjxiwnZVL8fh8XzJa9/JlhCpWRqc9eGDuR3rtkrfnZ5w6tjzVqlRDEdd4l6maxm2WdrNVpr628vri4ML39nB2barXKyMTktrP2Nr9+cKVjo8NI3aLXzChdwvCUmErPzKKmROF6s/nWqxicMz+c103vT8tH+2/2RAJeWSRW/5ZKzApUXVUVVclnEvdiIzG5bmZzrSyJYiBYN7FVPHQ4kdc42cqsxTxOg1dGDLVHSeFdLPPaFbQi5wIRchzd5W0Sy9VAMMFV05O7ZrIkj7Yt2pLlsVQQ3devk1QvgDoIoJcPvxGAyr5RM6HPe/dMbRU8ObZZfJmjQVH58MPVmGu0BbNlL2dmVoWp6TNvGPefsxZeOjIXqDo4jgqvZryGqNvMFI/MIcN39/iRp45m28/aMj0+XqvVdn1h99EHXlxc72gmQ9o3m4uN92T6fWW30l1vFvyh1oX15rMjkYoN3O4lxYxiiFOzrhn/hcRGzvdlatoeqw4EPKJUu2JB/HjvcErjYSv2lN1m8GvonBeezXCN5M15TQ1mqZdmlli+bppymLFpFpyt8li9GnGu2qZtxvYwk/LFNkRjG4uaUbzgtHlJORTXYqoe4HFwHUA0irLEJSY1W82brXv5M4/s2HvqFH/ynJ9/ZWklSKCGRGtGokyUg8yGoGTI6g1Lhx5ZqEy+d/PWLVUZufgjo/OvvnikW4TZYiETqago+Ep63Ws2wE2tj4RNZnUkMnQnoYEAtHtTA5du6cHgo3X1Hgity2ui33cPZNlvNZIStvnpj0PWCOwpszIEHDbWHFKPme91mWX6Bm78YC2+VRS/LgBrvEbtTXURFfXbLBo1WX/j9jpslDI/z/IiKVeoDgF8C+ucYfNIaCOq0RVFBYlptUCM5L537PqSITNpK2aLXv7MIx89L/Aj7cjBl0PFFwXmLCTSaBIcR43INCXMlsmiUC5y4rNaszvywcunRbZc/P7R5nefbRVmNg2gF0hlel1rFicvE82PHMa6LuqCWLxpy6hXjw4M3NWEh2c1AYGOxwLKV505tlshEfjYLPv98d5JRJuBnXeGwZvrVzrNM08NySzZ/VCJcsRQRQSVJACKZBVkSwvHeYnJ8f0d0cZnDcnsZ0U2RbmhwhraITojR7ew1bCZ+sV0XotcxdeXzag+MBUWZoDnzda9fJknP3HDKiFWH7xJxoIECTGItTkFdQR/x1K4hIoFHCJkK/PH/nBu4oYra9LYtndf9Zb7c/TM9npdafY8uSqrme6On9ufCAkGjmlvMjL0Xb/0xJMBSPUtY+r3dybZbvXatpiTojnGscXcf1ghcOaOYTBLvTRz8Yox/bFv+7a2o1kYBS+kfBgrsG9QXow2zxCojuTrq5U4vv/BdekImQH9GIxbz6xZgNxpiW/tK8qpz5Slw1zKYSlZNBeBHJiTrvr0jTeA0F4/cNfT9hN92NSUYhvZ4YlCppDMSwoCoWtkzpqLL94ze/FfmGnUJ3d9YXr3wYRGx2y/9/eYzffHfTM26cbdz0zv+U9MhwHse7Vcqufs1epXmnwef93a5usfR7OUzDZ6Lek/CQtYw83ZcBK6wP5mHg5cNMu9LHMbbVhoG8oEXH8LJ+RsXh8f2UBWM4sOQ1YeDjU9C7sFMqHHFf3lqYFkHzSvHFnBsMY3l66DAsgIrN6Q4hxeMVv08mBm4Niui85XDn7I8+xTVVQcUlW6PE4qMWSAE9XMUCAFtxsC53Jmoizd/83pi7bvrIXt6+qPXxpUnZud9f4is9zS9oRuPHY41H1FJSDgo9fQ6ZmeDz1Tmpv9pHrpwjOX+7OOzbZ7e73tFfzDbKXNiiTgYpktjnNhI3r3fOPbKKBzvCl23AW5qSvB5h3Z0c7B3CmWP8FwApI+Pk9Igws6baaRZ/d1LURAdarRqEKdQAagCQrR6nlM2TBb9XJirlx73hj914Gn1isS4IFIzVCpwIB8AXKYAFj0Ba+PQUJGEuTJNHMec+vgI62pfeeOkqZn/X85POjITKH315gnLAyZvnf1SqJ4sQR3vdrVs3Hf+PYqhH7zUPRil+bA7Kx3/jAg3fNilsCUMkvFOJnFwEGb8+w7zEovzDwI3RFjDLr3HVVH3atqfyauzXPh/PLnIDdB3FlLodRHniEA4bzqgwaADxCxIiz/3bRRM0fvpXZ62xozwhUMFOC7azWCIAxmgDfMVr2cmHd+iRBL9z7VkBCISP7E211AEIsF1gPOyXkUlOLkNrePP/j99lVPE3Hs7Nrv/hSza6bV+yvM1b96QDO+d+o0MW7i8tibj3XdzI57xk/q5zya3z5A0bxxcGA6NpagK2kioDA3mEgxB86Zc78mM91LMyMRcWfmPHmik5UtFGQwgmvL7/8dCPd4KZkyac2tUiW83uTjV43Aay70HXLeLIHqVVuTvrsSWAJ3gT+QsoRZxg2zVS9zM+0x+bk9XZHY/LXvjtovImFXEIRIY25mM5go2gMrFwQJhunwYtmfOVs4cl/0lXZRGjuz/fgfczbMVHvjzZ6nFuYBPXdsm9+4icttb6L/fM/qZ0Sxbsb8wd/HNMrmuEg7GBQZR/BhQIi6kTAwQ1OA8w9mCJ1mfhkD6TIji2F/EBuwG9KYeoni7cWerYCj+tkbOc8VbXaAeq264p6ax/vsDB8q73k1Yc+watqcO5UAwvlgqIp/UOF9KBzGXjFb9LI3V8av/hp+8zZ/77dDIDKgWKLSJkwyMHcIRQzXAsdQX39mBjW7PxTWt1bJNRuD23ozuqWZQW+y2dv6qoGJdO0UgMJtLX57jQ/Ew1sHN04Ly1VPT9l/IalQ3or+TdbKuzJcV6cwcaS84hmqGLw5L6LBLPWizH/pcmAetqjbEh7wAgq6qOTQKpJtSVjMOc8Bar26wQxB4n1fZZpAvvIUBcbznUeWYXP1E6lMulMxPrqdFpfeHKPH9e/Djrm0l7157PyL8BeC5+99puqHwtpqKtDBxHFqdu2JTIOLspAqgezbjKfxhV3+2RNCWLB2+OR1xdpMvzfWLLXNrgOQ6DpZvGrCDb2925RJs2rR8nL29NUMVbMWq0gYjAMMAKfPq3H4S7SRZrgdOMxKL8vsr1Dk2j732pi2NbERTRswqfmnXcVn/grH3iaEM6TAkBhS5u4KNAhRkEJ43qqYNu+1Tw8LIw8A8mEOlPeT1zzvWTFb9DI3b/8k/iWttQefGAngYI27Sy7HoxigU42s4qm8RHMsNRVizp45Kc/skH1LR3//p6S1mX5vqDmwsUoH8l3n84TAHb2568eV0U/5sXRqev+gTtUM57UeK+O+oSx1/Ms86yfMMGhz4QxmqddkXljMJJo0MLee2QXy18/xOY7j65cAPn7ov9grmRtwJddDZB6yG5tpOFEkqiWGzcWqIaR+wO1Sqee8REnn7YLMH4ZpfpbMJb3MzTde1xGJj//2qL2L8WbiGYugqeN6vMo5TkCwFLgQs+k200XPi9VC48KWj85ZmVn0RponrzeupI28A+M2rmt6c10Xc2tahep5M4/+iaZZJikqrx4IlzdObXptlm3+gEgzvp7BLPWqzDEhnWcnYViYzPSJBCpSZprHp9+fkBVYBMcItRjL/AsAZkaiyMym8aCA8TzVErhEjpph/G6sogKZCUg5ZNcq4bvRCYUdgODAjN02zFz0Vjf9rZpItvg/FvEmBjZqpy8zLsBUl05DWCRTsIQeubSk+CYrzqzHO7etX+nztb44vDWum82setPMoV+N06EnPz9gfPYLN/Xq6TMfNb3u99a+GNgcUemYF1YYJh1W76KiuORGKphEw+HNyQmKbBZ7VeZYctwz3elwgn33vXEvII7XuHItT2yN2SwCBG3zApAoZOYBcoYAWm3urA2g+Q50TT0yapxZs9vAbZoaq0KQxBy4dZupoT4ECLRi5qF3/NKPR5HVh7+uwh5moiW205nUngjgRQiSYMCs6iLNWvatxJp2n/+F0dsvaCYzs94os9i+WjMu9Npd/B0UennbSlM+2b92TtCzYM3+Y4WXYVE0q/YrL7hRFXLxbowBmsKaocZglnpd5hNBdzuhQ/IqlSw/0vWnN5nttkD0Dbky7tfPzRnG8Epgis50zEZXfYXoy/LETJp1nnrT+94Fc7Al5u0Xal+HRKd0zRtmHnp3fLIhEp++p5M0J3K4WhiTJoQMnuMZOkbEQQqYQqaZijTrF44Elzegfd1Xh+NmM6veIHPNgjHG0x27UgUkHTN3W+kDO4W57aRhQ37nEB2z0GtdAdK4QVLHXiZpCDYHJnaEtDksM83v/WjmH2pBbYX2IEHkAo0jTyX8SydczV/fu2ZTo15Xuutnv3O+c1iMNqmKgYuvgLCdZ8zc2eHwqXHf1qc44hbNfVgQ29jZMTbMzHsr59+QiXR/7XuVHGbRHGwmi6MwTWFMypDXTODgTGiTKQo2jxz78xOz5NBGYV+/IWTYG2IWGlbogHbsZPEiera9LM3pE9dGr/R6Vz5+qEuhY54/HuGwIDGHlSIOtWh5zCbqAqS5y9LNWq/KvCxJtt89b4GOkRDMRIcdOZqxl8nbUwBApaBOlFUlzERJneOmDYjyzEYQLGQUh4EKOExi1ag55IW9pLZl2ZgAgczGyxK9RV629a2ZTRIGZiCrf+asKLLw38aCkLlHDWCB2biw4gLJIaJUhLEcHkO+ws3K1QPB9VW+BfO3XSqcJkx7I8xC+3oVSP/hbvHpDopm7rZSR3ZlNzYJM1Z9+Wmejvk5ofISFUqHMRnGZjaWNVejw6z0qszb20tvxdPSvRhD7Zm8nmVqZQMkKkVkA/1VlZR6DEPp8yWxKDaqWGSs8fkc0Xiaz73jZo5GTcMaRNg8oIaC2rKYRXlCLrQANuPHYcXMuHfr3+mKrN/+TVP3NkPNTm4IJ4QlsR/lRWiEkyBmJpoqCjUbnyUh9tnNl1rlhrd7t6QKZpa9X5uNqyd+MxXQLmwlAKHay9lWxusaOo8uX+Ctecn/1jAlc8ShdV4d7/h62IAhc3HBsuZ6mmeen2eZB5xxAugdYxeClD/fRZbq96/8KHqHG7DszbsH48kuIZ7z6HG8o/ACakQhvpZv3Az1/s51EZHkOlonyExGfnEC+KgMojCXY8XMtre29/P4EdEtCyGPmRGu7MwyvqfzUBGGO2HBYfb4EswXPlg1IyT908/3D+hsez8yW/xs/bMqkLhwBAx6+dtq4P26FbXi4kmHrqtOzRXumwuUeSxeb4UUbWX0H+lymWfc9jYJl4hBIuA8lUxsf/zVREBGDO+LVeZFUedpDyROlSap0Av4SHhokKq2EkZZRpRk2LxhJFPJ8lBE1VDdl1ZfKQqzx1ows+2tXX2FSPbiLfYjonxmRmJ8jA6WM9sFgCQi5cWZwDCnf7Epw5x8J/hsjfTrR3f3aEx7vx0roXWVAn1kX4pJL4fHKP9/f1w1Fk/OP31McWbeHgbuy16b7muFjiuTzOVLTtpcEoNZ6mWZYRRMokkh15iq+byt0xWjAW2iYAgf5060zAEACkAh3ceoIOh4abri8wDq55kJKp43bA652NNxF8EI6gNCIbrtQTrkvCGu+zO3aBtmhr31z7wvSvfuR6qKy2sGUr3EDtRRiM1sQRwyUtHtTOwAiqDlmNOdV9a3iW3LT3ey7f3U/OQTGtCzw1vwMOnlcCvtxPHpT4mNq7/fk3NmNpPjZU7JABRNLFwQMbd9WKwZrpHBLPWizECiG8M2ky8gZ+DL1iTABSteMZC0R1llfs9z1G46IGGs8HlGgFggn6+mfc95zlsOQU2ZNg9X1+E4lonA+cBaQgwCfmL/AmLfZ8XMrrf+d6oizd97NfRhRkfZjLISC3w+E3QRLAbqfj1U5Ziz3TtWdcjNL1/7g0rXfFB9OVbSytmAemq7QAhdc8l74vIYqb17Rz3nr9kgvJWzZV5nOqFqpjLLLycVRLUhaDs8cnLm/L8UOsxKr8ksRCwD2mbCk3GLhvPuxxb1ijkLgs7nUxWAHxtId2ZRYUwk1N5inQWLBZoIk6FWfmuHzVE0Dz1uSMij5U7L+SgjIh4nM3baMTPrnf4rIrL4v4Jh8puppEah5lOlYXZVJxuGzJNsjcwCZ1nm4c3jn/d5X/vh0xTb3o/MgeceAtJ/ugaw7eXNHN+ibA7Jvxr1QcKJWYz3EnE1t2FoGQdrsrVZpAgIcwfzmPlem/m++zhPXWdxDrItrgOZBtu+4DbFbROC8vJub0Ng0ljuuQdCKdPuEz7sBEIBiJT+6upJcwrRA9AKousaWzFaiF5qgMAnVYBFc5FG2Rx2fLYr8dA39Q979WPm8hIKDMgZRS+OBMJxhEEaUlsyBCjNnN2mrqr2bdD2xdzUa2KFnzWe8NgtELa9PJo//2ZVM/nNQ7sHNCfmu6wAmYfRPlIkkVltsSxW2hx3jpnm1wczD1A2uDINUr4JgGD/luIUkfgbpBUJ2hUl2kGk10yqZirXICowkIm+JSS3g3DUXB8X9kFDpBB8TiSJVOWC1f5x3w/IiplR7+5PdyV7/B79F2v6M3MyhyYzzwzF9QrqiqEgCCKRJqVEc3LPnQ0NwZX3f5ByWW/o5RwwtMNDCNudeTSrn3+5cIb81LjdvbptM3u3a9aMLYKQ4ygKjk1Gm9sc8y6CmUu1Ov7yDUgXz9skY/jl+r76p7vqbV+mYQrV3ELXH6XM1Ncs+ObNc0Q3r9lxZUWHtDfd+Mhsu4TxLxAbZja9LV/IRJ68qdqP2THhAQZd9zJJ1Yf7QWoHJFep5tyFI+8EfPMmvpVyVW/gdRVIvSaZNAx7+TQrPYeWTZba5+/oc2K+34AIhrkTkrGRjXCeQaW0IiTNkOIwK70qM2TLg9JMD4gu8FnDnkLNnhx6FWsG23ApaJe2rKVEboGWvLxBRNDS3/8WWYSXUwQ9z2GjZrA6woxg7O4t52larAJAKH/whDKmKlbMbHqF5jdEsvt/197F9GU2pSIIk+ECIiFG+hk4ukBgCIKAkeIBVrJZ7X7/rQZp6aK3hl3UW79Zh977FiHmrVj1cmtWB9/e2C61vbq5X7dtXur1yIzg03qQAZJS2clM9APBHFsymKVemXltoyQIVxegUgZVjTWCpm0WOKYt5326ahwEOBqrapMwKCn7Q1XRoHAO7eX7IRg1D0eK+wLA+7vnPrcJG30YOAkz9SpDZlUIS97BbBtmBr1i23pI5/57DFuUWVlYI7PlNAXxXCcg5ECSeh9Tsrlrx7oJ4qy52wd1l/SShnUatO7dRQrbnTk2J15dMUcKv7n9uubA/MAwLiwviwiU1yRUmC2Dulrm9S7bqiop9gC1t3W+RQRl9bXZwM08vEamclYcTWSM1oVZrCxbUFBXE9lwoAAXsnnzcPsBASV2UV9kOqIPm5MCRxn4TjgD5nIumen3CmOX6Ojc/4xKCzETQyFEYJoRiRHsbQbMxtMKWABAgKQkZZu7jyxqFTvG74i5oNf4fzy8VoXec0RguzPn5tjWiXOk5lWHemDHvEApRcyuXoTPeTkvps4r77hZc4lTJ5vFXpV5aWvYNwh0bJ1h0ZTSip5pAGYsIps//ws4pL9DLHhbMc8Jul8grz+haihDpRo2Uz/iSI2TCx1HgEyd80uRcCKFZqM2zPR7m1do0Oz/RZhVQmbFJNodeCgIYwrUG57EdtYYrmSzfv3AuiZx3qR3sq7o9b6mAP3bBcJ4Z87Nw7smzhFbF+3rc2CGs5jPe1NAVpOAmhKiuQZwZmQ4zEqvy9w97EMGFSPiSNRnxdZWKiALo2bqG2SzbcaYf1ApMQzLdSVULyjRWS+ASYwMq3XFmTSrpDGhVAkCDgCgGUkyERYGvB5pM46/FTP1Xv9vdeDEfUGKMDsKGmt6xwhORVowrNkOyWa9gCHLNms9W1+vlxZM3Ky4oFd8VQOG3i5erMt2K+7Nw1vnzxMmL3s7bc98PkoWbjOeaUYm0MoYW1c3bU6Vw6z0qszL5qtGmj22lphRFDHaBGVF/g9DJVl/SVBTQjULctBiFWQWEUnOsPm+B9B8lS4mlPSfAYkQUsTGAek2mv2b6Q0z/d7A64B2apeEAswAa32NZxBV+bwEdWYtPJsZ6U04rlyzidH3zsut0jMPfZDhvtf3Qh56z5bi98qaKfe6wBx/dXWH1L7mtaQNswWnjbKLNCiZgwjDOkxghSTN+HWUwSz1sszLxq2hWFUpHvf7pyT++EvXEv6AkHv3jZlKdopXoMuvuRKeZ5jGIIIvMGv+SC4B1df7WtSEdI/nmeGfIJn5m+4VM+XeqnUqtAtHSGFm+CLOlOHBCh8dZxgwHVTb5ZHGRRbtWMlmE6h/94oWzzP6FxnOe/1P/wR63z7Blplir0vMudcWdgjzxm2P2TAjBCOpDO+ed6/N8lVbEFIosJS536nBLPWyzKPe7kmAPY7a2BEprIK1EXBnMAFIxxixQiWiQNDomJBUwYw8QRCC8bJ12Kzu+R5VdcKHFcig+AmQrkWhdp05Nvut2DHT7fU/+zdo5y4KJBRkFgfIhEQoMWmjcTATJEMqYKPEgDOhP4Ng1q6fXtEYWv2XE3l+e43XKs4bBQzsFsF2K5eY9ej2SbPk5366N23L7MVmM9JxkMJm/JlJdSVGcnAeb24Ws9ArMxc3hKU3VISlXcSYBMDwS+njIjSA8I+G718fwP5kSUlBvXluRxDyAkmYvjpnwRxVxY9PmopBCpkhLrVaHfPA7DerkAtmur1iRwjoOVB48Q81s7MZgonBkSw1RO5MpGcktOQdBLN26eTrvvDaAwNc9zYtAjKbRWI2s9rZNWZ94MCSFu8zsTNKebMNCo2Kji2ZjW4hPclSEoNmyyHZx5rr7DvMSq/KrHeIGxWOI4CzxHsOoQwD/9t/HY0NygFXIJy1GUSdVAuFkTcWyIhff5uJiWbNG8tSOLaaMlQLF07n1JsmQ74TC2ZavSU//+RU00uraZmp9gyBK8JpEMBI6GaCucl5I8NAmNVLB96T6956c4Dj3obNQP6NwmEoMTPa2UVmrXfba9XB313uLGvGyMAZMjZTCkfyoXCXOKe7XXbeHDnTzAvSZe71+cMVRLXOoQnziiiGCwNIkff3bzaKWaBlXYLhWQSzAguEofx4Ac71gge9BKGt4Glzb/p5Lf1gqxdZ5XfHRgKLNy3MpV4x0+ytewmIf0hAz4yKmiNtYBJiBJMgErRkBoDNihwQs9Z5+0Vf/foP4kzMRaTZ4Mgceg1I/9FLiNnMamfXmA1vz+7fhUK/3TZczgwbrM7s1mCDmcBw8ZqPoEjanDUB1c1aL8rMgzY3hNsSIyVxYvAFJBy4VAQz1jOlPORlHIFfb/Li2xrjxjMAJvCeFNBV2AnzLGaaIrMTHWcPCGiYNQehpL/zTkQKLcpCjiGmxtdXqPkWJXDHTLG3di2Q+UgERTO2ZzDjOGYlshPI7NYWagMSUqvMNTjm/B7PUmnW6B0pTnuDq3NQvvixADOZme3sMvPhbzf4ajdsjZYxE9JY5HRW2o9jKBkCxCArBJHCUWYge8x8L8xcTUFEc183PDzakyCuJiTGJhLi67vSDXwS3diLMBYH2TgYzUOXG5ehyxvQGg3DZtlcd0xbcL55tmEVJLRSERddS2Z6vZ41CtSDxRODohk3depnkIkYvObNhMCSpssE6M3AmJO7xkzzLk2fUbnsFeYEoV+9DYdmx72uM6ufY6U456GdWUszDw2AzuwKmdAn4kCp+dhgAtYMAoNZ6nWZl7LQvVGCwgwEC9tKZYDIozFKpQWohfaU2QSxEIKp11Wu9tIvrlY3d2YHNLfmzWZ3e3852jwQogHIBK+YKfUa7+FpATj3JQEtcw8ehsJhHEIN9PKYt02DZB7euaYutOFkDzjsRetsIP6+4NjssNeF5tSuRzs8zyifK9ZmgoUYIpvJiyhsc/j0miIxbJy5azeYpV6W+ec3D98GiLcsHWBdxUJ4pvgl2xgyb14H7X2Ta8Bxx1/qg5OqYXNXDE+ltE6AuS6xDE6K9NNs6a3+E2Zhwhig9wiom91wGYmPc0Iy+wIwSTvizUYaIHPP/ld9dWu2RTjsDW8EMm8QEKdmp72uMpuRw/sWNgdX3Lyupcwk0iXwMFscl4LMFAQxXV4m9mHGPtEs96LMwoxS45aV+4nRF2jP22Zq4g+RAsTG8pGyrsyOmXySX42lHieK1wMXKxIHlRao3WbNt5ASXpqdv/l5FssfFbt/w0qVCUHySitmWr2hNUDuPULVTF9BJFMroCGakgkMimAAqSFIHbU9MEOltAEyd0b+SZw1cYvCXa+8CVD/uXBBibWZ/s7uNF89/jtP86Id8bTZrAijI0Nm9TFEud5MNAWRJdAFFEebcXszza9PZUZpevW6yA00dMH9+Z8/tsOgN7PdBD1v6qqxRJeBeIfPOFbb/bx1eQJu97g5ZFy+zloQ21Y7vcssVRUnBi3MrcAdM63elzTgn0XKZm4wkCFEgTbYvQw2UVkPHpHJQSngGCCzvuPni8nTaid3vU/JQOdfCQ2zk163mk+NvCBMe/jjtBlELC0I5QHSGM5sicDwRpOYyY7jzBjjMCu9LvP73fHej8e1DiVlYIvPhkK1tK60AVZakwst1XmuCHCpoxG2ZtsWzJLEuTWyeDEgBNlAHEZBC4qYG2ZKvXOqgTN/BlUzNCJZEMvLYxL52YXtkrHW9cUlBAQVGiyzHjsyvcm/+nwfZ71jpwD95wkds/1e15rVjx+dJTw/cNCbsV/kOfJmgpOZHgAWiMiOhkASo4UxY6HHzPfCzH1EyO/gtNx5oh0dREQKMYEKLJVgKnJUQXOeVSa5JjSOv5heq+h3ThWL4ikiJ82ag1nDZhQpV3B1IOgOC1R8GAZCAGWanxUznd7wBqD3EKFspn7jhiUdzwWZqZ/mJqKZrR7ObIWh4wbIbACu317mn/D4/jRXvf4VOuK7RFAy2+51rzm2d1lt4MVfX06YCQ2CmvnmNmByigFK3OKWwGKAuJNmvCEYzFIvy4zL0gN9LrA/VoQhyUYQy4SFct5Vhx7S+qx0wyKWeaA08qCWSM/TC4gBJayguMEDzpuHqO3THxCiQPiAKYjVFUNM3sJEG2Yqvd6XNaQOSaBr9iSfF18hUgNM1TterwQDZtY+9S6Wn84fUznqFZ4SoHVSNNvqdbe56+Ya3+SzfrPJ5oTJ37upAEwhk5ISINUy9cg8uD+Uz2CWemXm7QP75ZXE54nwh4/H7h+G/OEHaqsqU1jmIYu25ei0AS0+7gDWILpACwGbQGKMm1UNm2rcis/7DOBTGCtCGEyQFSqYAdgwU+klHQTauTxNswdQLYzjpIm++iLB6riJ/Rg0WObM1mUNgRVnhznqbZgJ9F2kaLbV625z/qCvw3vt2sEsAUrdcSZnIF2AMLgz0lHpAn2ZQyabxV6ZeW1sG1Scqhnp/q0tfm6bPwPBf0SCyAhQaYBlFJSJw+iWfeNmjqZUNp0yK4coJsouRgUMFdnh3zDT6A3PBkaOUjYnZ8JFZgFwqVargfXORBKrjnIGzTyy+3di66QP+ekl64HsxwRlzZR3drc5sXtFeOaK+5acWcVOzmYaHc7hsLbmzYlwbWfNqbCYhV6Y+a0dDulCyKoVQwn2GLqAMu0MWIe8L1g07ZrP+cUh98YuLBx6AQKf90GsPgupd8Gs7EupNtd8tuptKkvgKCFgw0yjV1yqAL8X6ZqTJSAZqsoVIFdyjNiTUNqZBtJ8Ql1Mnotd4qZ3Rg1wsHCnnKbZTq/bzTdurguXjt6OIYmpuxdLSDgLkfISCEibN4+Z72WZf7xnnAKRTUUyhqgWAKrXABuuKidUSqpjlKI5CF8qWQoEerlBXEu1xGRESGLBGTZXuXQT3Uax1XvwIPTDscB/pli8YKbT2zIb6IyDspljAuGkjgmzEykXF4gBSFICYETKMWjm7NaFzfKb76Y56a1eD3RfJnTN5XtdbTYZ/vfYS6v/6JvH2Qw4j5Qz99CzNJE3BSDMo+/nGMxSr8rsr6A3Mxw1hLpPrOaGAbjvzTo2MtGgLIGB1GP3bISxkrcc1zswXpcca/08NLOGU4ybG6bIpXcOo6mNnaib4q4hAV8pegs3zM57xReBxC7CwOw756rKdaH9yBmykNEPEE1BpaE8BLTZGSyz8UmnLq/y17XtUbnoFVfmkD0iErDdyvVm9d2vbKr/hZ/vOmGQgP0izEagEAogM1LQbDkz8JBF+IKZi1hIE5AOr2GDrPOMWjLdSiJTzEMNhaW0mEfW5inFoRGYIrjPQ7uCwJG/abVfj9sw26c5yAFAHDsmiWgKYo8Pqcaht2LebO1wYJ4mQ/3UC+pmtwaFIlFVoFzDEyV3ONruisZhZODMygVPm2/JrV4uehsegX4hWwDZMdPc2d1mk6X/2EerN7b3mxnu6Cc/+T6BzVijSBqGzHA6F2EefR/aYJZ6VeblZrTQtQDwvtGUdBxOhmgoihdMj5Pbx1O+l0iGVb6ov6ZiBmT4TglIV3bOmrE2s8DpSSBsAXprktG8qFSmciz1cltmM8auuXqRjv7vmJjdGjBGUxS5IswZubng8KIsdJMDA6ESB88cPbos1Pjo6QzrXuOSr/l5pE6Dvtm6tyKYs3e9/8z6Z+9acu4gOFNycMzdy2wpnNkCEmfnzHnHMJnpXpTZmntEreMwogYLpQAW2rqY1vf1fixSJ6DSl0a5NAAacwMZqFAnVPpO+DWUvO4wDOmYuXjSznUeRATuGtkRD4YygLG2sVkb262ZTX/OnpkszSJ7XGRgJkbIEjw4XHktjYEcmqSBAkVXHOv4AJq1c+gQ5w0PctDb3Ayc0OyZ6e1cIcxH/+iS0d3j90skSQYwr5EdZDA1SooBIY5jZEkIMwx6mnlBysz3uwt3DDjRHsQAIhDJEVQ3uCgLf9FwIEqFN0mGP+YnWba0WaQ5pDwEjrtEmrw0HAKAnKDZNWz2+4qjksyQrFQL/G+qY9GC2XFv8yPA1T5GZruAA4EHBisJ1EMVzQxGQjWIZm3L+kDDEzuyzHu9K4DUuwDbrSqDObt1896JG56ZZR2mxAC8BltPBm5K9iiwJ/KAgafbY77vVZmXYgBxv8KcS4GwVrcqCTi0IsqET4KS6DybJFrQIGC/z3myp9pPW3xiSFAMwBTuHDWC6qnkGja3Vu63fPeUYhjFIcXgzTfD+MoTFmb7V8wOe6UJCvK72JgJYUKCqpettJ94K20nlXrI5fhmG0Tz4IXnhcXJbua9zbXAvxTu77EwW/VWCvOJu77Q2Dv2uP7hY7bzduaSXqkwcwB18F3DNp1xD+TMzWa+7GWZzSj1ffe7V146UsPbPzyBCmIGsZbj8G5RyqzHNBoaW+Q9plyJSfB5Vsha4fjJ6VBQDJpLSVZqhToV8D5AqXIYNQJHgi1iMDS2zAZW5orZaW9gLnAjycisUhLC5UXKc4wY2ITtEgR+y4Xis3cwzbsfa/Fs2qKy7t0EDH/FdqsKYt4fLq99/qEThAWREgAOK+5vNlMGiRYIZhKHaJzyUmZo8pjve2XmQIE9hJJ42+NyvPYa5DhKgNUf0skQgsL2keY8C5/ntlvsTIQR6GCShMHwSQkXd5w1C6CsmM2BkT4KpF2biSBH7ZkKl0nYSQU7Zoe9T2rA+wQMzCQgDoS0XfUphocDYiQVch42wzOQ5siVVcIE3wnq5lKG+efbvMAeD9iYS3srh7n9m3+htnXnrSrhmTS9N5PCmxnipswmGAlcju3QDFyf+a4XZhajPlaEcY+OTxAUdyGUXYxBVApU5lLCp75aOD7PbIaBRzrKadheJ6JV2CB75A2GGsM2ax4BO0vw6iIgbTnDUPTmRuWdyFS0CEwkACtmh73yy8AJDyiY8+bVwpIALmOAkmSYnNjgcEcAVxVlGkyzcklql9fvzDDtlTbp6L1L7Jpp7VxJzIeOfSr8jd9fixETo/SEObA3aYYyspm2IwP0MmbAmczXvSazcFqu5Xl3DJpJsBBJEwaUxIkSrBQJGRL4PMt2mAAZAU2HMlqVRvXHE40UgTYDa1ClqIQAAJt9g+alWjHsR+gjSdLxyqBKK4rBy59/4bpgdtr7PJDdK7AygyeSqYGYCE40ngNmAKFqjILJGG7YwTUPfjfd21R1imnvvAyUUxLR2W5VQcytO66YHL3xNyBJAnGm3ttVSUtK5WYP38Ghua5AjsBlvu0lmX8DLpB2OoRVN7dtKkT1gXJPs9YY5K6HZ/wNxGbNJ3OqqqM0O72Gs1NVDMe6MrYcNdNClru8wkaZV7djgEpQW4CNMEM2mgu0Y3bYWz0TOOMDC7Mj2JmcxgliMDNVgXMASL1wnSMPcANoNmgnqpuCj3+VZdgbmKpj6M+F2W2bKe1cUcyzi1eHjz+6IuCTlswQkx9mYrAoeZenPlARZtC5zLe9LPP7/Rc3PJkX3rCDoTR0gYqCbmzI1rIpCK+7JdKmIuagSNu4cjoB8rIB66MiaSWiXEMMm8fz0aVYSjAAdxCDfBXBXfGm/XvNxu2Y5JcCw97g9kvgFGIM1xGTM9tdQLPBip7DN6DmkVib3JbrY9jbLEO9UHi9OdutKot57fAZ45u37ScveXR+HJSNZCY9vGYGCDNFGaDt2JypRvNVL8wc27a1W4i5/RyHYW0ppSnThLTpth3xI4TNpR2mKB4MNrXouCJM6C4PoMBiL29NmykXRx4AzXt5HrDsqsNYcoDB/Rok/lkwO+qtGgP0JgsMOuZ8eT3SQWF1wKgqnMnFUAaZ0wEH1KwemOttGHUlw8JsCvVM1JDeDyZmA2l6TxXETOQnR3eMXfLYsiFtVBJmguL2U7MPRxyYU8DAQtyxGW4fNvNlr8ls5HnnjQcIyPPUCnHLjI3zlgg2zQWEmWS8oSp5JTTDgEayC1QC3RNYjMNRjInAgLXIWTPiGGCPYVlvxXgHilWjlEq7EfnZUebIWTE76Z2sIHOWljlnXnKZmd7K52RwBIV4s2cMrLk3slRYeiOiM+olNY3AHrZbVR7ziZcua5w9ckBiiCRzZg/0jCTEvMQwJDIIc/zREDPNr1pmfpcLvMMeDB0XZMe0ZMGY4QyLrbuaV2NYFO/x6+QViwBL/Z2Ox9MLeL7A+yyxdNYsqKpFLoaTuyDBj9CoxJFZSCqYJueC2VFvYBwQ7YcTc3+18pOC0IACQwwjeTIUibJ7kQkH2bx1rafe18PEbAhmAMpeMDKXqCqP+fbtWydOO9yUaMKEWRhBZosCsUkTZkPqfqlEvXlgnWl+ESyzyRINQgahDIqryGx/NEEkKAjCs1F97cHRyfy8+tY14Ip6/SidzUg772OUc7wAb9nuHhFmzfJsPcxOKwasgERIG/LFa4NeoBkGsh2zo97qMHAQjswF1GrrjoosHOoCB7dRUYNoP05wnTYzMchsMIgDohCSANVd0wJKdmC9eLOd3qH4NGzcoTIyC8uAMzL9XuutKpB5cfZauXJ+DlZvTpyJzbafCoFlc3q+0H9gztqUTTJvz0Qz6zhGXyDn9Uylmi33jRSbxHYiZfWMavsnEkfXQhiLKEiWFVdyNgjokAQSbpUiE2o+8EfNySlJPaAE4kwIoSeKsqUz0ijyx9Y81nfM9nvFCRqUA8Shud9aTZz9jiivv4i/a4JiE5pcpDQLSSHg7QkzFNoldo6e+S7K2H2oWbzZTq+2b4XYogwyMrcC6hGBUDeX2Yo3s+DxJhXWvb//ydrM+GyXcGxO3LXerCGcx7stpEZFRRGOzAH0ms+9KrNhM1NUuG5VAbB4arsx6gLKoeNDhB68NrCNU+pStdmoCuwhUAUOFaIh3dcJu94jwoaZKha9QGNmTQ+rVT9FWZFStf/ZMDvo9c4FzgjUzPny1s5/46VqkG4iu2kogpmZkYoAWa9aGYOQY+94o0PqaizcbK+3R28jL29hZF4D9CqEfq+9rcTJi3IfxWibbfTKcybKee9fOkc06mbr3vkjHw5fuWUdvAQyBgriGAQwqiby5uhSNOQdmQMx0TzULrNMOU+uVzDretuM0YZTkNU221hrBkFKEOsj2olyoY+H1j/OW6cVbObjpDDaHWbMmQt7+BAIw2zkxXjl949UiDKRYTuqXpxZO2b7vc0eaLuomXPm7ex/KPt7W6JhQAQLPh8BEkJaDpiNQSqQQcCrDRj16sp/WBSRkWoJ5rK9hiF5e6o4YzjGxFzTBP2Mp4Ch3WtvK6Fl9GU9qlI3l+31P/P3azHVM7rxSp9G22zdm910w8ju9jE3szADGaJ4c4LhzYn7J/lF2Y/MyZppfiEw85g0k2TyLCwnaSXaP/yzABea/J9vjODgQzBrkBvUFATxYmnRFRobYh0zuc6cuTxIx1Rhh8drfgawDQZzAIW5Hz1+gadsNHvQDbOD3kVAT2ErauZ8ebNON45K8PNBzTAVZAhDSIUYR5lshsozcJwgwlh7ua1BKFjhZnu9ub5wtXfyKSbmWTlE7oIUmLTNtrZqHdOZLTBom8v3Cgv+enHgjlI1rnHS6bRjs7Otnq3skk9/m2TOHAL1mMxYCxFr9uw1Mxgaw6nR11bJfO557waX8vjR32BzgZhxnqPjC8LIWuOLotokAQcMA88mgWhcJE1YNdFUyiiXJ0hKxC3zZ82BDsmdF8qwFse26KAlBD3QyLZjtt3rmwGc8jg291UrUEKAy2Qwu8I4F0HI7FAhC2SCzpmRpzaxuDQWyjEXZWaWSVPqGtCb5InXFAZmaaoO47NUFUXUzPa3qh1zMQVQNtvpDf/i28GTBJlRs+syKbrmsr3NQ5fKlU+uS8T8mxnb2QczIZKzCy0iciJARcSRuZnNx16buaXj8Ncgt4c0wX/oKliFWRKWtja0gS5AMgfWzw4gZJ04FCHaw9n+aECWt6yOOfPiXr5x6rpUxJ2Ot9mG0XO5mg+p/05zWx7Ju4RlL1EBUQ3qrOPRq9RE5QvwmTgVa5Mxq+/5/h9/7Yzqa/vnY+Fmu72Ju495Gkk/A3ODhvy3Ap1exztXtd+4fmsmdbON3nA+dZEA2aFGTzBB1Vy+t334lImp7Q96Can4bjczUZiN+z+RJyWvczc2I8Fpvuk1mXtFelnWeV6hiMs5pFaYvao4fvMprNuYsorsliYKW+/iKUeWZzBdJH3HFQtmuJYMCl3cgiDzV0/rsFkCfWic6mnnzQ56hbU6uqWCiJo5Z157B8Ejxa7gxdDYcTxIRsEM6NwxjaeNzHSBytjSWeOvxfddfvjmdqHm0r+gFFTUlWgv1YfqwhcYmDsUxAYIGPRabWU+Bv4nvzu/dUktCgzK5vK9/UeyMjFOD6LqxLHZ/lZ0gWPt3bWP3ZSZ0HEJBYIzIxUoZCYO8frOJI3NkGg1X/SyzJiq90H1OLLAixgoWHwOAVophkHi+pCOqhjvib3N6plStQlMKmG9WyeEXw2U2AIgCsdkI0bNuKLstHczG64HuBaFmn6g0i5A24xfblbMtnurRWhDEpyaC6hVIAiMgMOScS9N5zXUX24JZUNzyEx5J2S1Of9G/dSp637yYOFmu703vPXSQ/dS1M2B+4Bonklv2a2kWf9+8qhcB9pmO72ZBECge5pvZFNOzY63OrG6q7qlewIW0kFtVUmaabvLAR72M06qOt4amQsEQ1SPG+pK+MVYMm6P6cPYvSEtoLMij84LzRTWoK7kifAC8DUSzIGPkfNmFa1qHV5E38mfAJa00xS8D48JXHbJbLd3chLxO8zMHgkdCsw6pimS+ZwDDBA4B8+d204Mkc7hd758InTeec2mD32vVbDZdq9yebrQko1QN9d5oZ4khElvma3EaT/59OLPBOO12pTNtnvlWf9x/msfoWwu25sd/rnJyZmnA1hMyciLEI7hbhgyS0ZuGSNHZqiPa+o2l4xhYJndFDj+l+832pIgC+PtGpMX1qg2CToZkryYizat/LUi6ytAQdS1F7jXLimHzTIuyF83lp75zjmoyCfDyii7CcwwA59Tt8w2e6UxOmJJNuYUsterhXO52iuDDIxz0WjGHJJwYJzY/5ORIN3Zn5wzUV8o2my79/ACsU6L0DYL9Rq0c2DTW2arafcdvPJvRKBvttVrus3b8ffOkUHCwmyNfHpq09j7XrE/75o0s5fNrJRIE0ZuPRMkiayc0qB5MHyz+djrMgtwVQoC3snAOMkiGjIhSskFEJXH5+mz3T6DkNzWSaXXTUHNY1tqsqsQbATZYhce5zIzlbtgLlV984TwsxlqzMP4UsEUZvMWzPZ7wzLUXoGiOW9eFJcoQAFPa+Qmjx8uUivChBYQHGcGI6y1Q8Af2JoYqTYLN9vtHcmMlaZ8naVslh8BbgiMeq23anjock+/KBJNh0BUimZbvQatcfbw2eHTIgNzud7lhV0jO5vzUWFpMxgkhcGtQZViwLVC5MCMdWbzsZdl3hdiGpw0BUZYK7bSCJRlbMWomOnJDXBLxWsX1XKD7MalLMzNM+d3lQFNkQi0hUvZo+Zo2zd+IOd3iWDKhWiC8PoalaROVSlrZpPR2lxPkL9IQNGcN6/RDEZYk9AAKRAO40DpFA5JQbhTbAbib1ZnH25LkPFV4xVrdtCrn34Ck/uzlM2+FmB/4eM1nV5HO/vb+0aqN4Sgnev0vuLb1UPBbHPn0kfgOsZ13rh2gY25TG98Yl9ti8xHeAxmWGQgKObYRTA6m2FCrnChpxhjc7ObD70yMzprxAm3UoxjEwqZ2sm4UXorlTF24aNgmIvKtCteCrW+YtQzxHodFkFeDCCDJsIsqNdYw+bnykRyH2N2CqGUKiOYB4QMzprPlFAhc8VscaiszaRWQzpKKJrz5sUF1EBi5hCdQpAoYSaGSMgCmTUCYwB515bJN57vhq1/+qXmeijcbLv30mShTo1SNteIUG6AUa/lVtI//I3IkvFgVRZeIafSM9vrFWf8snPk2r9SMNPY6tltjckGvtgcxA8KmTFYPNVkxvYYgzKgF2XRMDYn22w+9srM47JE9O4+GH2rWohdHrZLS7lyvYMQKwKuZPLH9/9u82c/bZHWNMLo4OLFBF8BAuVrsZCzZpeFooSqZmg2pcA2m2GWEL/+dGrRXDSUMftHATcKt2PomfPlBYUk5iapciwFm1nk1nwuUocsZEpADOe567KZS96+Vn/7I3MvV4s2O+gdIvVi2wXK5hnAkMS214TJXImbZELDFPVIroqu2fwjS9u0+zuHLspgYy7bu7iyu3LGa6shShTCgJ0Ik4rh3QHwFAAS/zkww5PbfOp1mdHGMEITBghWx1EhQLh+E5JUprCIS20Rem9hHztO0MVBKgdfKg1vfgHr02hptvlmzU4IOjtNVQuvh9DUqqK+GqkZf860YLbb668CLlIw918rpWHNiopyg04XAEHN3COUm15J6G9GJHPATNhDr10zs2e0fXj+mR+EULTZfm++rw3TL1M2TwV6vGDUa7lVri9teiO1jer1PE2zrd7gY18nvhRAw0xlq4cuk50LTTaTycyETBgohY8AXMKc/+w7qwlPndl87DWZAZn14TYHgEN4nP2RcOOyJ7UDQBlAC4MxY5GULbmSyC1Mu0mgOVTkpFhTqXPDHNKCmSMLw1u20zIsKtYFC6QNs61e41GqEPQu0DT3kffH/682IqRRIh9n5lSPiWrbiSExokcpNf1l7XtfvfAD9e7iE29KCWbbvco3k9A6nKZqFtuAayKbXltbGQyG5qLbxAgrSXn5HAE6cPYPNM02ew9cGLZ0ljKzO2QwQspMb9QNk2C4HHipsAPMaJlgLnth5rFJ8p0RLGZi1DiomqnD7TMZ1KvJxyVYTWD6BueOaSVUURHikxpYNmGdz4C89QybtbHPzh9IPh1iUHoxIUEuf398ICZUdBZyw2yj1xBOACKErrl3Xg/+t69KCDFkEkQixGQmB3pjZkCQokfzzezKmGWz9/+fWrcqZZjt96oRT5W3pp+quU1HMgsWvfa3Mp3/js1Od/apeSKIJoKm0jaX6cX2+bh5ZOusYHCAFMmMljALaQ3DSAMkGajaRubqcZtPvS6zCy2a3HIbUgkRT3m0w5UTm77C2X48rO6luNDQPmF/uFShZO3WQAk1Uy2oQTEvw1cqiukq+KQ5qSNTYePtUlpYRzforkyRsB8iZQZ0x1yu14wbDfTIoGnOmZckaqYLEMNEkNp2bQ1BSUgURCCzC9jDvLYuWtYizRR6k9la0tJD1TwWGPIx6bW/1chN0e/c7HTn6C21gDIBMYq2uaQ3OUjZ7G7Z90J0ZjW5G8/MtB9R9OFgZoI53uAQjjEZO8Nc9dLMUQ2qbL47pnzhWMLx757AIYpbQgFgQLKZhElZzGgPVwpHk8l5UEWWSuvEMB8bim6NFrHNAGkmzQLQ5pSxukOXGbLAOtK4XnEQRZjMfMdWzLZ6xQnG/S665px5re1UXH6qorswwZDBqngyWxaYmc74gTens7XFX6Bqnmq8gaetBnqKfwHjnUe6FbO5IKNvLt+bxZf3yLnPdoXMSnVpNAKbE2g1EyfAlYUrzQPk3pvhKye7+dDrMud4toXkArjP/SBbBrNMIS4QB41eDDHnBiahbrO8EGEsH32aGEE5kgGcjYHMsmFzXhtqBKIyb4Ji7XfSrQjcNFtozKKgCLV4vTYTc1LqGXm2e49vTIJCbT4ZzOl7Dws16QxFsy8A7Y7AdqsKZ84O7axOZSvshSiF7Y1nqQd1yM7U8yaZN4bLPHfaN9vnzTjhzLhP/ZEeZMbSHY2tJjb7YkmKgfRZkFIlxAwMfh2AQf7AsPK8D5ENY9hcHpK2Snfy+1TBF6lh5BtBwIbZVm8rMOKlae4NczpCu6X30HEkSBBU511og8MMuFmNeQK+qkGK5vo4Ujmw7a1wZlld3xz2Ps9mLFPmNMS78udFa23AbT71/vXmf3UdONz/nJeHP6/bjzQxWX7euR/vY8fjLjKqXsEi8cyq+GyONirzsoHpbaF34Z3h5wFQG/xiIIGMSTOEiKWy7Z7zKycgq/BXLiOkgh0q7rlhttc7BhgOUDH3XSu7QALmugmVYjgDA0hDDG18KsWgm+OS3xMeoGhuSCOlsN2q4plbazOy7xmYmehiOLNiejDw+SFpRgKaq6i1Zjcfel3mOa+Ob31IexUgM5EBMOyC9SNi7flKywwWswjxZg69+Tojy2CE7ov7kYFrA98JDJwWooo1a/6ZdX7jIDCwFiLHLteDK9BH8xfvkBfaMdvqbQAiPjrm/mpFDkN4MzABxUGaaA7sZ2aW8PZE9QbdHJMCUiBG0VydR0oB260qmRna9bUZ2XpczIiBITrkCbNSEY28wHAgNHeagRly3OZTr8rs26GyqDtjM77qhkINTb4qkdL2TCcsg5qcnXjBFY8eDUkEsEGCtzJkZtKEJd0gkyizZnPkTdc0SARU8Ko130npqOIbURX844pNc+HPWZrFauD7wkWQNM2580JFPjZ7FSbHIqidCs9aCKCDFREG2mx8JQbk++8q1Mzi/TrSKtutKpw5huYbp8rWEx010y1iX+QLZDa30QzEZrWw6n+dufz1er0ZGHbzoRdmBgIU2OGt5sMS0Lrd2p4vMDgVT0FyfJhAQprKb+/Kvj+9TqY4j8kAobmlP++cN3N+AzbmixHIHqDVoGXRXNRYI2szyOSpmvvMi2UQmxJusjGo1Y5hMjTadMRw7Rp8s5oKCn49S80cEKDGCNhuVdnM+EXtSL3eWCIzmeAzlGNwGJhTgt7cg3rzliC/ue41mX2Ty3TDE/GqLu439UCZ2B25Znp1HjSqpdSCXXukHFUtokKraZieBuCJ83nFkKn7F8UClE5b58ztMmBUG/0cMRYatjB2oL0yM2DFbKc3mEZaB2VznrwEVRoxIiTeTfPTg0GNthmBmQs4+OZbozxBMUrN7NWh3APbrSqXmUEiC2GqNjNndyZ8CVBPBpnBZA6Yyw/vYH3MSM93D8fveYhSAfG4ICBKQSwdt2rwqPKkCCESzFCFuI/MWl8wli99CS0JNlnAUMtf/nvZhIE/bI7DcSsqdDoRhRRyC5S2zPgRYlHNtGK21VufRQp0zP3XilRUVp0PGgQSIYwDIYLnYhpOHnPKJ/hImpo5rEGJs+2tbGYCtaRRnVgMMNMPRBCEVMxghZmJm7pJupiqGJnbBHPZCzOjDUiA0ek8IKEZw3mpE1GOTYt2EE2guzHD7xAiScYMZ66EexFEo42R01iOW6ThcQ8GKM2sWbppPyyWegobfJvjLbuFMY7BJkOge2k2dcNspzekIANCx9x/rQgJudi0uAg6YCi51h0aIrsBgSKhHXjzUFj2CmlqZq8GtfAqR7a9lc0Mw4pMVN/9upmhMCMJ2axacJwxHbQ3R29Z18csn9BCrOf9+lk5y9H9eNc3CVanwbvXE6B6lUTfHgEkhSYMHDBNZk6bZaoR3CsPe+39TfULzJ27kO+Ypdp+0hWzrd4HdWQKcirmPmqVGBcF4wKZowPAZoWlzEyEweiUZ9DNJV8JKWrmoA41zXarCmcGbz3Uq5Mn2EwyZrsYNnoOQB6Sd5BiQPDamE0DYYH9cO2xITgRYJS2nGQKtYH2VOlO0ed8H9fj81ylQIYUHlM8g9Zp1GTOmjlyQ5zvo2rolOrDogAI/KbhXTB4w2yhKmV7PECGMDL39BlLC+4UxjWDeYgcgLMzJfrLGeAAcvDNKY8sebIaJbPoA/JZtltVNDML1uNoGGu3ySyBZUyKnIbuk9RIwYDmQUZvTs8Ec9nLMksFDe5370Mxx6UA/UpljgIhESYBA2qVMio7zWXOJmAkWaRYINDGKWao4hIUXJ78Ksak2UhdNz4jz2g3VyzVNtlMh8KHcZj1Lm6YbfV6NSiFF8lQNufNGyWGCCVsfKbUhIBAbxKJwS+WMGO/k8EcrcF//7tCyez5KRBhu1XFM8O3MlqrVVowJ+5pJCFY+j1GitCbU3VImmGuemHm13jxOgpOkthJ9VQUDAujnZGsAQeZTTDDHpORHx//7/+hxhee2fiKqxDIYTNaU1yJklPHVNS70uSoBELmj8L5fOlH1YrZRq9Xhfo36uZ8eckbMiYzzswA8n4K70kNJ5M5Uo1gLk/JLMpAgm1vRTMTJpPww3fW6rVVMisDLnOS2eyOwYEIpgwDghmQcDjDjB8268lvrntZZtfEkXkplrXlBeEkEmtBiyQfcDFpWwxwbQYIZ4AYwcl7GUtG1AvSZJrMcz0FrJg1f+ydHEWi8+GasdWaAPqQrvs76En2jrmUYIH0qVBzoGzOndc3wWusB4ZzDSFsYG5CptuBPRnMf70PXlWhZJZEIAG2W93ODNf6SLVWaUGkUOMYlAkGNhhZdMA4CrLAkuZkEGrNgrnshZmD87j7ztGp92E9JHA7PQrz7sFQKWGgmhuwd0KIuSltzuvAPrqSFGAUSPEQlit9MKgwVIqEBeaizZrTgrMX54WRcj+/CQ5XYhsszkFD8GyYbfRKOtQ8fXPevMYDCqVPAFjq7MphtHUfJpq4k8Oc8cGv5CmZRQH4K9j2XsucHKtWrVKvNhnHQFU5MxJpDGdGltDj00n20MwV5s11L8xsXC7QjIuhxIBSDEAGC4h4eLyVSwyrKmOgmKtoYZTxvDxmDDMIIZ4vFJhLCg9T119O5epBszhntiLkx2knAz5JqoV5nxJZV3Dz1ChbmDH6vNler0+FkgUNcyG1MoPVl7uhBOKbILGfCX3JjKJJyIm1k8Acr4JH1SiZJRmIsu29nZkGZbVeq1ZbBPS3u7CXsI4PAVtN3phJ+d9jXghG3Yss44R6PABmpsSCwjjgylBSCRUoJA2CynzeRGRnhiGot4HcwAEhhNUG3zJaKol8aOSvAMPmwVhTPPGXgoQpa3UFHmPpE2/FbKvXo0FT6Zj7rhUMMHuK1VcVZEaN3HDodnAAhcKgpDoJzDkZHkWlZBZFIMu293pmUDuVUA0dMquDxNCRg18GcVx02eDtzI5ojbrcFsxlr8ssQ79+SQFOx4NaMpn3+lEQaTMSEhhXOqF8eaMqSdU97AAE+3Xwdb8N1UatBPI4QS8QjFlz0sdcDwiBOn7nHvMDBCugLNFBfUIN3DDb6BU06AUmJXPftXJAkCTEVPsxVL4b2gJnJA0DTwZzIgRJVymZBQIUnsFku9XdzLx9rV6tVloJSgwxSBbcFEWoCURwxfUws+rHBPPmupdlXgqh4VI0YnmvOoZF4jr51vex35bNrB4QCHg8z5NBiOtnQpryvFR7jNxCSms90KgZJ0djiQlbAyWZUA38TRrZucp5n+/5ALZDwAWznV6PVvxp+uZ8eU3FPLZDzG4S0vYAIScgIkU9KcxZHzyKRsksSkASbLe6nTkLEtu1SrXSJnNm4IRXyYCKN+NhgAk0UWMOZJqfFXPRKzOPTzfkvnvYi8OIKJAW4yWJkjXy2xtiR5og4MAQ1fGHqUDQfJ7SVaJ3aqAcDYN5xWyYNquDRTrCPl+FBehOza7HEaXEEoT52THb6RUAXads7iOvcPtAi2bjSlt5EgCjOadGBc9pTgKzJoAU4JTMBlBl23s9s9mAFWc2GEw8a0p0Tm/WdAil1M4MTpr9EzBvrntdZmMsjQXROd+BkkdC5M+xTFbKS5Z8JVeQYC81utKIxRlRmyNxnZG1tXqPhYnncQEOASZpmiHcY2YTX9dAgCmJqtwb1427C0M1qVoqGMY6cMVso1fWjR/QNufNqxgAJIZMCGcUZqI3JuMGOSfIwlY5CcyKCEGnZZYEQGHbezezu0CnEiqSkZm5ZnRmf8uQ2RiElsacSprFXTEXvTKzMKoGWZLAD2zOcO4hwJSNgI/z3iWHFj3Ogj0ymLSoLKUnDEW6MonyAwHYzGAp/Oe/PWDfrNnngZZlQ8QsZmDcifNGBgERNO6ZDaaV+aeAplA258xLkiwQzFU3mBkQrT/tp70Amx3O4BQngTkdgEdVKJmN27mFl1mz3epqZgdqjVSqP/2mmYlpZwKIaJwkZWZScuYADJ3y9ZO3YC57aeb9OOfRSM0LBmS0qOvWwQh4ieuFpfNCSFRpVlzMdR6btiREQw6GJRoiGIB/ljxYado8pqS0aiHOINSyQpTZ40DRB0aaUT5uttVbcpSom3vnZRKXH3aWZcCBA4rSncoFBQw9QoyTwGz8p0LNTEwbst3qbmaW2Agl6sxnIhX2I4aivZkcFqw1y5Bmxk2bT70q889fp+E8CUuuGEOtcjDz7j/eoDoCbJHY3MDmsj1tdn+yAGsA7Ss/DXgcuWZ6obpoxs2YwqNYzNBWsZkOUsZYu3GAMW+202takJK5z1olvMSETYBjCaGBJCr7U6KojAE3m5/WoWYuntpsey9oBkBRbOY71S6gbmdmAe1HSGuEMQzXmI0Ul2YuMG+ue1VmuQ7Hc/913u+e2e8w9wrCpyReKAbDMKnsd0flEYrDUBwK9vcFEIXLJvi82XlnzcSnprF2XhWh99E0gjqPMUSixBvi30xXxI7ZTi8YmPPmDZaB8ABZXVAW4ESyEAjvcnoDoGQ7GczGaUrHXHIKljMXmX8x/4Odr2c2Ct9mZAYlwwV0brzZiAmzhiN31pu/1uz3aNh87HWZ39LIuMCsVRV9K0AtHEuMiItxPn6jUUc4xcNSTEmrgg2C41VUNo4lZvg/ofsfvm/FrFajSOt5nxjZjFBmHBRRuI8Q/X9fZ8Vsrxc6dXOOvAyjNRsn0BJmCHqZkTIiDKUcaHPZ17lTMZuFbHvvZ07W1ktBTPWGMWwOnM97G6fNDXXcfOhlmU8Qy/odQgWwcthleKvkb6vEr2uFnsG0d5Oa0LDQwqKgwgNiVhMcgAVzcVLtFCpFlrMETCKlO5NJRbEKIrxPAd8wl+0t3Yu6OXdeRDC5Awa42YswgY5TJIzwks3rB9xsltIyl55AbLe6nRk6VJfNjhucisCMhJmE5uxhNjXNeJvGzYdelFk6jr/bIGbCaAaP4MTAC0NSUCEyk7MVow2RF3I8/bVQ6U9pqzOKpe9DhCM/xHxfQSF/xs0oAilA4dpMMSTgAd6yiuL7PXS+HTz9V8w2ev/9J6Ig5Wib8+Y1XQ+GdcLMTmpaCDzVA1gz+OYAoAqgZFZVD/xptlvd0NxoS/wTUtka61XFZluDkIEO6xMB+uszQf06u2geKphZjnqEwPOdd0UTiDIpPs2u49jsPGMsjBcUr1vMz2K2b4B7PYKuLRG+0zEjag3FRTps9gMKiSEKpzBAqMCVxqxUWRFmdWyYy/Ya13wJxdcCUTL3WytHIJUymQUKMZxCxHIxg/YDwpCDbS65NiIvgIbZYOkCJJXtVncz03RgzLpZIkJGa8Jmn0TNRCG2M8eV1SDt8Qjz5roXZgZw3imPOq1M3wkHwheCGF7AlXJUBrOTqQEzRuFsbpWS9b1vvQ7TYZ2Fg1sFi5PJBN5PNFWj5snv83L8DBPHd/J5cSwUzgVGpvt4sQ1zuV4zt7gIJXO/tXKVsDOlOaxhFcwOxxdwqpPALKF4etMyGzKis+29mpklWS0TnjmCkdqrmOmErIo2lZ35gJHmClw1PzBzfNjEKWrghMiitdwzYYWkQNFIJwicV5/tahAJczGHi5m94X1A3mXDDaLUlCrXKXABYKpt42aJFruoi7jPC5cHcBqIJfq3mRVBFMUcD70mcPsZyy7gBCkL+WyIaFy0ATZ+ANl+J4HZ+EFWomXWFA/8KbZb3c3MsEZHOpl4p3vxoxx0HJ2JzGAbhYQBg8HPM8OAeXPdyzKXTSb7ihlPy7cwRRPBzoK1RtTNrPU0iEzBZl4XMy6FS4FfCE0y1QDAYSmqGd/3TJvT60IbVVsh7b9DJ4s7f1pXbrVittObE0RRzlI295NXQEpGIKyjUgpCwUy8IDY0A262+EoltMyqJiOYZLvV5cx0c6vFOUBjHVPtFsHdY9tZg3R2AR3Cxvzz3/qt6gVz2csy62ZEUT72NJM1Vll/0QseCYSnhgIqmUWUW5pAtr9VDl17gapmMQHQo1PLYhzEdZ2F1QID1TNshqiWJWr5GNah6DWcykTiCTMDx832eo2viJinbc6Vl1tI0sSS8DRPQIItABkGAjYb/WQwe4G8CEpmTZPgybPd6nJmAtU70nU0Ekm0GDCDZhYOQnplIwavq4ypW51Z0HHzoZdkXlYvLATai7jXdVm2cUPOBYQJe2aSOr1jNSiorUU2QCrovWDm0GNxrDGSQ8XrrmRiBFE+IcfNsaD6XVeAXJyPj00fNb8r0VcXlHLDXLbX9JXkSVEy91srgMziC023Lo2PsBcaoimEBcS2FCeDOQykJVpmRfWiKs6293ZmOCfWpdVNmCFjEKfiOYOZngPsaczU0Iy2BXPZazIvTw2DBj6ApslLUQxb4wCRRa3WeAtMXhg1ghy3+SU/QXLjfVWkEYhPVHI5gFSYgt/JWiMHzTKlh9EmNw9AJTDvcwUYFjKRzkmVXUJumG30ZgVP8R1RN+fJC5QhnCHBCFma4VxphiFPBvN9QE6kYjbe8n74MpYqk+sP5n+08/XMQeJYC4cZw2/3BJbhxkirlN2ZfyKfVfPjMm9eetpjHL7qVOo8Y4sSJMVB3+uoAl0sgRp+ihKnzFC1C1BQOkKTMX55cbLMXHfYKJuRHXXUjGE0mP0AidzfHNUWHOiwAa9IWGDVAb1kttGbESVRztA158sLFL/eKAeNdDcpkNQQ31YOxlAyE3/wzVVAVgQds+mr++6x7b2a2d0Oox3pdAnonERwY+esZjYOQhGuMZ/3PD30WTCXvSjzAosqKHTyqTIKCxGNvAt44WLYBPIlq8wiSqGhPK8s56EASxQAgYPRxOFVeVwuESmD5taWqKvq/hpCsFjoCAXm2AszfM+C2U5vSvJI/3iPurnPvHSBQHBnhk79buZIqzE80nAngTkIZGRa5nw+gOoo2967mVnzLnyx2YCwerOloTOxGYGUA1Vjpi7M+pHdMFe9NjMk2LZA5P7vvTDqBfAjh8dxHMmthmf70tQFfjbfGG/8MQKNAlbuQwYBXynDooRZcz4y4oIA7XehmTVggcKzCMZmEcuashC6YbbTmxMkyZekbe6dN4HMyGxjlWBEhsJMGmYoIYE0+0CbzVvVAD+KoGRW//MfURNh23s5M4B42Wh3yUxAWxJHwE8xQpphczDeU3U084d23lz3msyADxe4HwwbuD/Bz10ql1QloCJklgOJIRKAFwKvjguRIgnxCKm9UwW3zSgS018ZbRwYUtWtWXMMxhklEp+/XKcwxg3F51HmEmNhrkmXzHZ61Zyf+PQsFXO/tYKTGIroyYDAM9wFejBUNfDmqiyUwpUitMxq1iNJ3gTbra5mJkIjSFwhSgpIo5QCJlQYwpQq7u9UuiTHzYdek3npXjH5ApnJgtBsudu4Mi15fjy6ybxISwAS/0TwjMeYWXYDk54Ew6VzW4/k2WG3kaPmKoNd6I1x+WqqDkyQT4jnvqCv5wnd/Q3ihtlWbzQkekiWirmfWiXqCEbGDJIyI23m9vu6g3EymKtSyFA0pwSf6E2x3ep+5oZIdzkZgbhmJgZuELF7xLFSE5aqrG2o0+ZTr808YMPFLJpT7OPC+9EXlwxL3JVgmcDEigAoywm/dKJU+/tQhjNQYWCc8/lAhJLnyLA5S9dlibLMoQVzHeYbSo5cVpm4Z3fZ75jt9P7wCzGIBF1z3rzWObxnteIaxUvJTVhUPkgMSaba7ThIBt4cTCNbgFIzZ4hXDg+z7b2amXSjUbpvCMwYLN4OM2GJ583IQIDGDFKYZTR22nzqVZlle/ceaBhDDdeqQNcLtFWGJULBAZc4UbaKK5B3gRqCzHX8UMOJitSF85bBnHLYTD+GvXN/Q5En1iVBhUGraFYHqszNrx4LZlu98ZDgRZa2OX/emOozQ4OLYhnABpPiuDOxZPDNtVkkNXrmpOgVfEm2vXczgzsZpbPAZoyMsvj2ZCENFMw+EWLQHLj6GmZ+Aho3H3pdZoGeisGwkOlrbbAqaOOwAhaIONVB54IqM86y3B5KiqgYpccgOCZwuYOfOFSRDpXVs2aQmFAImKPCjK1r8WvEsFZEqMOjlBWznd7+GrmKxCmbc+VFZUEyCvYjDuCQE0xVWIPOVORnjpEH3/yAirxGqJljQsgz6jbb3ruZcaaxKJn+Sz3OzGQygA6ohLRZvekPR/xBoxnt5R83H3ph5vigSPnp7sxM8qASPQTO80wIhMeeQDzeJ537m3Oj0xZw+4NRBkDMgqaRRtAhTWermjRLEY+7kyeMRtJrqVKHYpAMW6dyy4bZTm/C6/HIKZ2yOVdeZsFs+8HhgzgyGMpL9McYCcvAm4Uw9LhIz5zV/UIwpbHtvZ25Mimy1kyajefNDmwMNSdUAEUvf9oaM679DXOlYpnZW9zJIFbSrE/BXtKlwBXg4Jd8ruDj2o2NLtVeAfieO4DUgL2+3yIe5j7roaK1FgjdsFnkXEcly4fBATsMi+C2DVKoogmj7Zjt9CrReoz6MUfVnCuvLyzMDIeYDQCDGyL2oxDO7FWDbg5qUO4RUDOrsaAcEGNst7qXmSek/jMix9M3HYmcWRkMZjMzTJPm4ITZ2QvmshdmhkltYOj1qXL58Uk+jLjHVzexEq4pbn1kT7asWms7L8HqCzGBpLwP7y5NATce18wAU1BmzRydMw8QqUILkO+uqhGPNAFK4fsBCoqzV8y2egfrUZvK0DXnyMvHQULMAEOiMkrn/dAGnQd4wbSpSwQbdHN1HkoSFM1375MCUoxt7+XM0hgXORaimSEDDAg2C1miM9PdSCqa46c2zYIaMmw+9rLM4ZQtpBFwXMBbW7xGl+h+J4rlOS3PQimEdfLJXJhqowGToJxHdJEMDXmYxAOgmCEaNet8RHpAFeGmA1h3fnma0sFsNWrHbKv36/GoSWepmPuulR8oR4niDQmIJFzmtu3A4LhBN1cryMVpmgfCHr8UZ9t7MTPBRsdFXgALGs8jlTFsO24lxiAR7kw/XT+uQiF5tU2bT70mszixQQhE7CxW/EL8iTFinERAHwAFo7A7gDVek6gxyPrMhp7iGUYI5cHlURJsPu6XtL4TZMeTzZm/3BYFKHQcvI6+OCMXB0Cz6cQtR2yYbfV2jyW12TRlc968mA6noPrDBCj87kwmIDX8kBh2sM0mXlhDJk4omgervAFPTGfbezEzgGMNiYfEmY3HQDYbFPdP5sx8GwELs3pg6szKXzSPS5gZEF9qDtVysLmPwraJENsFFt87kuX/01GAs72TacMMA6yGEqwkZ0mT3KNAVw7LHuNMUI7so+bOijPJly5oB+HvegT0qTiUHaDD7NUWzPZ6k3qV2NSnUzD3WyuudaUSOriPWWkA8zqyrakZPkicWDtjQgVSnzhvwlyptWMsyWwGoNTs+wUQIaBjNv/GdK3w8L002967mavbRZZCwuwmiMwElAAMm1Lbs9fa/0NmgS82ZlKAMMU5y78MJYkoiCv3EzUMU+DzDELIBctfingfVQHtIkxAi0+Xg4sCGk1ks33WXLxFqak4TRfx3v2dN8lAelmPIl+albxoLr4nS7N2vR3jbqo0zXnycvmlsntLVbrHjrYUSZwUX6fFIT0cjfACMmfu5mbOlm3jlezE0ZXCzfZ6Qz7gIqiar0xFbTbFtvdK5sR+lT0iT1aDN6veCdnsB42lEJEhGFKaAHPkzJvrXpS5oNF5pvSkjbC/j5wUq6poNiSBA5sxjbasPxUqlPfak0EU2Bn9Zyg4BCstaaK4YtDsllN0a0bO3gTQcbS27V72cTKo+f51Zv3mGIzt0xn3kqv+mT+12o6N8TcfXHEcM6IZQrDg1Zolmc+Z2RFd4HM/tL7Wro///4PHCzfb6g34ive76Jp7CvfLi29sey9mxvvlXSIvVIJq2JyZBiSC0WCZmzlKxmwxA2Yx+hKEbplXjcs8q/KHV4JtnFCiRiB/zjOlVVdpJa36xVw3GJdJr6bAlWyFIVBSCkhGkKCR2aRRs1gRiVHWAiJu5CLrE+DUd3LbkrlEZGHWexvkOjVC15wzb+1TP3h5oZlNbNr39v0tcLzK+z1fIb0ZfAFjMPHMDzxxfLE5ven0bQ8tFG620UtqAa2brrmvxlslj+i0e1d39sybaBCgf5AwjhHvvdmmisRn9T70ZmjciKWhTMCZEgwhwajvlGZRF8xlL83sXgQSwD3v4b1hEQPQd7/zeKWJxP8rDdqGl5TQL9U8o6YyjbZuSywYiksUqgppgDCUcNAsTdglA8Z5cb7Myyc3EuJ+JAC0YrbXG1fqyLRLjMxeBeTOt7186JZlqX1p1yWvz8ESMqgU5cbKTYXpQXIqRCW4HkdIHNfYPTf3u3Oy/tErdodDWdFmG73yaOASAVVzZrgVU77J0+5d3Vl66P+bbbGMcYx47w0XihyZEG+26SJV6tbXCCmz2YiBHGF+9dI6bT71uszvfoOKRSATh9B9LhS7Axko6mzjLRIMuYiU4eKD0y2ZhDDcINltM1lXggLF0LZXpGmuVeGc2UWTts9vG9MjiqcxGfw+5GHqzX6BWbOj3nSsGU+cpGrOmbeyZXnhphBk8bGLZs5/GNWOusY8YwGLqaAOkEPNiCdRgACBADhu+m3ff+HNENbv37V5x/Fu0eYyvaaPQg3Gr1A2X5yOtj6Fdu/qzp5AZOAeCPQq02HkuJdRl4jMToo3A5Q0k8+2e7MmImETZFJrxqU3az73qsyAJIqmmDg/O31eQfbPqQLp22iIEpX8PomSORJeJ4zN7HnTtxSQ7/TahQmVnp3FyHWgmjcTPs3EWJ2MSqLXDzD8nmD1PGOeXNLD1ZQrZpu96TuPC2OTUefmvms1OrKy2AJn8Y9PO+0PzU9aNIJfJTBq6udqsZmDaUw0B1l8lHpYfxbC1hunvuvHhZtt9NbIUK/TNne1ifUYpN27urMXyaP3DI5gMvPcS3/JYFqyw9XgzAQyAtspg233yVxAc7BX9+vr/yCzfGJhhY4Ar22BNWRRTMm0yRdYf+DGQtLSKRVcXnfFuttqc4ZIJBhjXrMABwBL32nWjNfuYVdZCxiptDrvO30HmGpozGVdMNvvVSO+oLehm545b14AXxcwull9bI3obDak64GZHQMqRZLLrHyPUwTTIk59XUIMoVtRdNHmMr2mpwyAYZG2OarWCZMv0e5d29lQhBPGZxEy5KZjxHvvzqasNIMEiTAzX8/U44VQRalQSBAjgSact16gMzvmGzYfe1XmuukQRB9j2HYWK+NiEMTo/QG5Yshw14SQ9u3zRF/jGWXXATjGfoIJR4p95NrlgHnz1qYJwutoPT/XSedCQgRu/o2vHbPd3mG9Xhp/RadmzpHX0VIvTtZgb4bE9RZAdwF/Jt3ObkuSFC5lmy56qZVVNr3ruZdqhZute023lRYB53ygbM72T8bc0zrl3q2dTaCa4VRVAFpWK4Hy3Ruu6srRID2gvQlgJOYqJiilZtL/GfMPoDtStvABUi/vyCFBMCivyTjPiwDYM1fS5mU2NHYqkcSejYtPcpW9o3c0ioeNTgjaYWKBVL6VwZbMmiPRlzODOapum+H63LiQfl7xrfo3mkcyzXJLNMm6V8GMJK/XsMDvR6QEDeEckt+qeOTSG6ftuvz51tjpd8+tBCnWbKe3zgf1tkDbnP56ijQ2M0K1d3nnUXf8qxqF1K2eiG4y8907sUni8REwWIqBElG6Y9CcGdeZoVJGAvkHxrFhynzHeJkqs2aySYapig2Co2HmYmntgLpEimbMAuhns315EDKe66VY+CCMgckMS8QwIpDAjZrbIwW7dPGmCUV/IdojLeczxO8OzVAumG33qrce9FdXXaVozptXhfQK4KrsXyVgBcNzNAyl4jOZ2qkEeUkQpHvwbRect7favfv4M3Up3Fy+t0PFkEbdrEe1OnHBYba9o2YxGA+LQyQ8JbAvaTLz3bt7RVZfhVsimSEkV+QcxgODMBBAlcjrtB9m/yyPmi96XebpgnVDuDP3nRfEBCjF8rLFLdsUf3tW/PrDM5t5dgZsAkDIXFS3cYmoi1PUINsF6/mg/MbNcEvyG5b0Mn1/0WUGSlccIKuMZo23Yrbf21MdCv7ylkrLnDtv8E0lZlQuc6wZEHJ/6UzUA1bZBTwucpPIvHLgzQs2T6xnr/yoYLOtXs904IaXvnkk1yxMv6ww653ayltjaHMxNZTNx0+nhQnjGpsOm80899b2dWXpBKjOjDNBzmYL5JhsJobRZMHP1Xe+n2ZRJ803vSwz4PAYd0/qYbyoE0TH44kTXNQbYzEQbQFssMW2A5KslIWq9PM11MeP4xWIW+ivoRbM0aS8EZpqhh4ggdB+QOMCGXyd7ztme72mDwx6rdSSjDAx0wVMQENS72RQhaxjcnCU4TIYlRne6FQJSC/k8qEXdlxTPfZkKMWsWzMaFeT+Ujh3qZtT//qwVOe9Qb33B2PAHF5lKH44lkkcr46KJD/8+LjxPyQomU+BharFPDkm8UiF58mZ2eTMBCAMmZmhnCai3sH/SeaBmQ36iClGbbWX/sm41ASq8hCrASFtQlUszxJqT6j7JHi3aQjMGR33R4tMxcA5OGuObDww4wowAWJjKgmxMmpzMs1IY4sBM/9nwWy7V9u9QmxRhnR65nx521njA6+3RbLxd7y+KBJpSd0wrcmYAQ76AYYF5KRkQYQMSDCy6fc/s3KTPXMLN5ftFWblMRIFA3NXuLaq/pJGs3dlZ7H4Zhjyx0yvHUhGmwJVw2Yzp73g7KhJ5zbE5RGCKYMt0AVwJnO7gJqDccwI5C+zcKUeNF/1qszRQTFQKt8fq4Uqq0HnBcNeJEVmVcFfv8/iWavgZTmV0DdIv6hzpShQGMwEhwtr6TqdNvsBNLnWOC3adTh/1EQCuSjEpDEr5s0Oes/Vh4MP3lacmfuvVWtpcuryh9fCyM7msedEC2AiEINkQVwOohgUgTxDbDsYDmFImMeueuLQPaEMc9newIPQC6/oYWHuJY2ex+4m2fTObRU7abz9UhbqxEzcEKmCKKhmM7+91dNFVudIx3OjKjOQjM0AQuNhiQGDS9if5ro0R80XvTLzuy9lwTiY/vqGRIHY1XKy1EdwwRAC8ngMkDuvCxS+zCqQrfA1DJq9FKUofq5GBgzUQDpvnsD4yhBGlI3ojgwjj+BChSrMitowO+jNdM9Bx420M3P/tcoOjW674j1r2eSP7ptbMrDNhClJ5KAuRSRU0DO5SDZQhuLnsTnBq109/+KjbxMpwVy2txnIX2Zizn81UW7SBxj1jm2V7SkwDLnw9H0/XooRTQwl8rkSM7+9E7tF7pbQw8xZnNmLnBk47zsOa8247NwzZ77rZZnxoMwFqhRoEqvixwVG0B2WZY+pxKrYvD9Yt7crPq5qTUqP65wxnppsQPKGeRgNraoDM+NmGMm0RNBYSNCboYx/qXnvKrQI3Wx7ZeWhi7Z+aDosv3Do0YpAGdid4QJESzdH0T4GJaQ7OjEE1//kvufeDOWYy/TKY3TkrrMxd7Z7q8O9Coveha20RNsDv+hKiS0/+SqTKDVz27tbRG5TFpNgZjt4zkwkAhDGaC4ltZ25+1mbM9/1qsyqClGsrnEmo8CGNzOZV0XUt/EVTJCNugC2VZW5yMGii6pWn6ZRi9FW+yTeqCixatZMubFFEhW1XI6UQrYwQEaIykIGGQkz/tkwO+gdzI+VF+53aO67VpLN3bbrgxPSfOpYJQQxkCsydAYlNjkJSQFoP8V5kNtPdr790fmjoSSzda8ebgBOEMLEHBuZJk69nWDQu7JVZ0vt9AU5KdYZPURIyc789br9viDyZD3Q082ZiR+DjRKbxbnZjI4hLcOs/2EmaNB81csyz0wxUweSvHNSEtFEmt5UcYosqBnWYox4SDLgtMgGfAkzkiRGIciL3ww/K+sPRpzFiSnNnLlsFPuTigaGas/OmOK7nwox20Fk4E0p5I7Zfm9m/zqytC9CyZw7b8gW7/yjamiKBNcTJhHbMjihehAqRGMhJHWbJsNq6Xyzv78iZZnL9AoTVKi7wMi85bekTe+h3ru0VXr7E3VV1dlo7BqxMPPau3VGsttqAn3K5xjO7BS9zJK9RLZtUg2ar3phZu60JNHYKIuKgSKoJBDGozgi3i8M07Y3ezoPzQ7KGotZ4rND900XhI6DRdAOyph5218Xc80jTEnOb5FLZYYDmnHt8cDDZqe9Wp+/Rlqxg5Y5Z15CdVbUQiJew5JwjIEZIiQCibHJT/KDZhYXAT3MzINKi7h8v8rtVmUe9hg5KQc9WiolFY6ohZnT3k+JzC9hZljKMrWlBP5M5iYz1jJT1YUXvt9mY+fMd70uM7gZBxmEjIXELhpQYmwJ4oZRQatQAZBCllmAGzEwrbYJQDKQNUJllLkM66BRQF6QiJg2BxWlvECExLaNAJqZwQhYmWP3FbOT3uHIHCzojbMxk9Jek0B0DbHGWsEBYZc5NAOZQ4QNMoph2wfYXF8N7BNYmZWdGzAjPuSCrQxWvD+hEmMf3o/R9Fkij4/DQ0o2K9bNL5sRhfBkdm9t/Fy9/4PMe0OALOPo+99Mk21Y3pO5qcOsmQZg+sE83faUuVrAZDK5kgYgJpOBmQxPYkkhDOI0thE8ataRzV0U5moMZQNz3VIN3hw4OPyG2VFv5tYjwfqmzxmY0122NlI3bGaoAm4JM1XJdI4KpOGBtTMNrHkN0F944SMrs97tr/es+b1rtsqrBGXMfPZe2ZSlw8FPiTMDATDM7MlsP6YyAKZ0/DQ7YtB81asyy7Y994qBQ/J1XIzC/HhURy+jUrvRIQv3qSstZbPveVbHVB+DPsGN+w7WCDYQr6smzevRu2jUjRhqSWBXIY6vC0hzS4xhs7Ne0zCXpDbv7G8iVMy584Loq8u1pkYQB7gYzIwWsTQzLzh2Iw+qub4V2jFvAcyqd+TGUmHpSC8LMzjA3cY8eZ7I850gRGUzwwhgaqfgEAkEBXjQW8If5rjC98xTojJL97Z7EgaE+MI00XGIVOLCQAHs5aJ4vW5bRpJpqXkcUuUxQa4G6QQ43WkgGBIoNi+XWXM0wGwOsd83jmrybGmEJek7LmmQG2ZnvfEvp/sbfdc1Fuae+xlTQcDCldIb3TB0HOaLYA4yoGZxrYqRO2DXm732YIN3/n6V7VZ3MVcuXZXmE4BAFrLgsY5BcZAgSCQSxMawuySR9LfZtjnzXS/K/OPlY6mT4XHcGoFQFEHKEsuJTedN4bdL6ZUEbMmkH5BIFpznPTZSKSix3kovMGj++nKKShUI4evIMA/AqHRCug8JpkoE/KK5CLBl7mysDT5+M83IzCAsodAWmBxcmENGOkgTPbaJgoZs6h9Uc3MIerfMsveGMkFuiw2z3eou5qk9IvNzJnZ8NSduSjB8ErgtH5tjJKCD/MGs32jNme96YeY6vt6bv2mW75MoxTfn/fagMaPNFih8SkNB4HWV8zKnErSu2FbQF3W+P4eaNWv9npN2utyYlt5GUxKGgaqoEJznPeDGSitmR73p88vJvFgfFXPevFZTSNhhF2AzQUjJ06AeTmASBtt+g2mW5iqIf0kIw97ctdHBpupTum3z0M43MVd2jYr8LilCDOrxZo6SMLt4zswR7ALE/TDHxVfyKfNtL8sMt9DaexfEGOVvdWkqFLqmMZNEXQhwZK0i8zxvNEwhi0zeq8UmtR5jhI5RdVFjxJD5DwzRWz39OsJ5CSSzAAmo6QTUpz8J9bwdcynBnvmPT/lCTxzKMjIjqiGgybzZUeAkEMAGY7OnADiY5uYwcD3DtvdMVZN3+neDbLe6ibnxSZHF/SGGGDJiOTOWtJ+ZnQocZ6YIDvc3s4xD5utel5kLRIFvzqvFqZkEXp7VBD2ICmonug8G9cLJjEoyzBEUjcdEgfNebYaYqZLTNItimllzLIWLunoAEZOxZS6sfD9UQZ83O+5N7PmfZOVgP11zSoVZSIVOcLnqBoTGU6BJqwbSLM8EMtsZmK1VmZ3r5XbpkmrXPLXzRcwX1iX7TxIwMPZBKHHPgkZnUrODcwQzpz9mouiHmVi71swLRmXGuZm2cY4iXGNz7yLc3nh2D8Qv2VIYUpmrIAY0YvKDococDYyXjspgFjA28TpE1aTZNfxQ6qjZpCglKnWEFxFWU4OkNJ9SrZid9u4dVydt/DjHyKw+0+L9uBmMSJJU+wlGAOVRFpWbxQ/HQJprJgPnCBj3nvBNEFZdido1T+18D3P9z4m8uGJCaGzssbQwiaeAY7gMhkiaKcL3v8osCt1ILG3jae8Fo68QllzEWaqH10mIlxxllnk4uAUVK3SvwyjEVgIQpj02sAIgO3BQjJpzZIyOhg7o/u6BDQSN8clS4/H9HsxKVi2ZHfZGzq6WOsgZBuZEVNvPhJ4hknms2ugCFoey8CCohZQDal4F5LYR1r3alk2elsd2MjFb9FYO8xf+6/qfb34cZjsFp5ndYITN8IhrCa4KCCBp9hLm7h14zPe9LnM8hiAZrV1VOEArih2jWlijMSNXopLjpRFQZvSLTu/JHNa+Xo9uQ2LM9byPtmoTh83qfzQgaZylLhioAEQwFV3e747TbLtpLpDsmpULgVbvmkMxJmaz6QXAgdnXF2brBJzaAWbZGkcig34wItYgmoNPAYd97Hu7k4uF5y8MMjBb9lYK8ye+eF2/8v+SI26AaIYCXWOz3TaRtSnOF0DeHBiHWelFmUUdjc77znn3nGOyRPAs3L9HqaD7G9IoMcsidJmHvOxrArCJjY9nbwg4dTx5WsAKUaAyIpGj5unay37YNQG0zfCIpMswMGC4bjaYteaO2WnvwFcLg621X2hszGwjGHpgjETLIZbozGQQxpFUZADN0ptA4mjh6DDvzeyc3RBYv0Vlu1VlMH/0S/92/duP7qwNm2hWCie4LpjNsOm6GUfOQGYvZ66Re8z3vSpzLCza73733YhIYAFBuIBwccDRTI6yvNNFMZitXnvmYkaGmQU22ycqSUIXEGhwXA6VxRbl/VANm3EU1kJaSXJYNYVWOprg3qWMYUb3vNlRr/kcOBYc65v93YDOwGxKQ7LKPOCQASWiAFZrJiEHgcxM+2kBB9C8VEP+Cz/hoHdgZJ44Rz+n2zJT3LkimD/1yWv98p9sFon47QxzycJKpirMTmRS2DhzpXrMfK/K/MPFjSmM13UoJZkcWMWZmRaa7qQJH8vI3UfgHM8knLK/E6xHuHQ/4D6+FVwy4jweNRtZ3SVxpUCQ2j2YFO/uBcKcJzLy339bMTvuTR1Z5Wl95EiGhRlLkKj3CjIGm4XMzqRMtoqBrGpsGkRz1VQdA98UDi8HvZmzjzSGlhyNst2qEpi9n/6/69++AnMyoWKRWtgyMR/Nm1P6iDF3x9FiFnpp5jyswIktzy2AD+WASyhIsZIiBO/drjCz8rkcdd5QzqpTzjuQCnoWZtyYewsagUnLOmxRpW9kMNdVO2umC16nObikQFWl6zU4HaljJIQuZaVcMjvvPaE8JS4e6gcDs0nQSdMYx5lJyGaYrBAJhyscNX6wzKZrMp/MIndW5KO359tFvsnyBZXtVi43G8yWT13X9z9+yywmeQzjCNetcTRbtr2ieU/oGPPWfe2kOfNKopu1XpV5/8F4RIYuxkRautPKcI4by/IQZOQXo4MKyXk8ZijT5Gc2waAdyPhala4XNE6ahSzVZ94UQRtLF6MU+imz8/I9CPmGmUKvsnWjp2bNewoLM53JkCS28SB2FoIQ07w9zKQicxgss+m0rJ8I9PURcNGrfzq5zr/q4qBO11y+1/Vm6cXr+v03LptBRxWFWWoyYN5i5nEmgG6DNkQw5wh0s9arMtdM7A2gqC/cOMWQOyloEM0Q7cGQaGfUPhL+Zm6VRJgU5iw/utnTwJV8rRcqxw2bVeJgOW/GqQIAwaAWAJNCJca70Jj9K8G4mVbv4O7XxI7m/wMGZjsTNQAwrCUY/l4yHzEI5pFYywbN7FsP5N4DL73J996UWxZ+mKFpttPrdrP4P3D9z5c/etnsccalyuMMvq9FjvckDFUx7qXLMGvOUotZ6IWZh4bmfrIIhc9sBSKSWkdl2MIprm5wJHB7qG2m6fgGg1zwggc0EBj1lW3x6TGQwnJR6kfNGN2Jod1dll0QkAySSmXZJSvzaH6WzBR6tU7fDLL+mx4GZlgMwCI4YGaMRQCRGa4ylAScOHjmBTLwR8JP77n4M2Sxcoai2Vav281jx+P68R/vMF/mGAxH/VSzoWaI5zRpVq8jSGPNm8lM99LM42BcFmuKQ4InSin1FsncZsQlXiFGqSu5Kx0GgsRoixi1AdlMSSE9DXLRbtTRMWuKhoiSafMrh2mwVHOoDrBdJ5GcglBFM+ZeMFPpjR6fWxNevjdB18yMyJWwFw+gfAu0M0axHjGAJMSC19wDaG5YCPR/SfjoNQE/mNIq/m5XxNpMf2d3m8NLNPz6Zx9OM4xGwyyK9a9r0bwP4Dym2+w9mfnY3CWrZrWXZJYK7vgQx9aFUhocG4YsIsngLMPa4A2hyeavH7S1VM6trnFIFo4D+UEx7LNmMzC7cxJchlAuiDLIZdSDhbxvcNS1YqbRq13KzPN2+A6q9M2+eygINCSDMkGD3stACpka4Bkss3ethvxOqbAVB70liuGzKwKNi7Zmy5op7+xmszRPgfZDWWk2kC6bCZfF5vrdtINI6j1JJQZtLpzBLPWyzOGgg2j2jcvccmmcPAoV1c/fXow5yFK9ppQZS6nss9JwAVYGyHheImsTN2iJYfO61tuw9c8gFlhlev7y/81nx0ynN7ttUpt/9TddoG5OeDgvys1Krn1S7ziDaRaeJND3FBUc9arH8k/LS+U9Ki2z3V5XmcudJa2jgRvfKmbHaeYUrpN5Fbwp+wDPzPh6DrPS6zKbg/sVMqVS7Q4mpAJhsu7eVaUAxRiuGdlvW6UD4j1XG7WqnpfZwLDjpdn3f62q6okcNyf4vK+VlGXF+MQYlO9kBpqy0Gjkf8Ac2/ZioHbZ3hhls3PRmZyJ0HCQlwXIxrPEBGIMlLl9EnDjK/DVm9k3eoJ/+a3ucmbaO7vXXLUOyGxp5mh7A7Y5JTvEydUAJRtnztyCzDHvHpJ5f3UT8Q0BAf0NxaAKVCY4UYWDQCx6pnboJXiU230bHOQmK58YVhlKBgiNhKqqmjbrOswY0kvuxD7LPur9FhF94ctRIbmiu2hR146ZUu+5od8IHQ9/rNI2QwiA40GoSMhRA5KzJKEyPMMGxWzsEl4CpHcS3noHzj/rb5p+KEbD7KTXrWZxI6B9gjCnyeAbZh+ADJnpMKKoLIaaNceappofm7mQQaCnShiXByWBYq9EMRVNEBGPUi2QrLK44GIG04VKeUWJqly926AA9vBXpAvgBXfYzPvu8ESxb2EA2YDZy2s3bmQ01zG4ZjYRHJs/erRdeGH4FFWzGfjeRYUJBQb24yzUE10jjnMlQINkJr9WgU8l/noPq0+Txb5PdLZbudQ8pxY48621GV6wkMekW5ygoZ1SKIkj7d56bMZ3MM88xTAzzLi4AJKBwG6woigBGKWSybZFfs89r7rSs5mXQjElUWFu4ONNLFJw+IEpb+F3mMqZNfM+WFORWqBm0a8VgDHM+9ql7+QGwSMmGvbMhsmZOb5jSZP3lePX6ZqpqyQgPDPIxwz2mAwWn5G6MUjmxQ8D574m4K5X+WDiLHHTXw5bmhns7E5z23yg/7hgbd4wm4wmcmMMvF80i+cQkYtOM2hzGhxmpRdmvo8t49DAhJNtgpBpYFSLBZNFTo8To90jklBJehypFCIHpPxE49MIFN5TwNeG3h94CRgyr1+2qr2ZRNUcXEkLUHNo5OM3TW9GMsq0YabWq169uSrYsnDvCC2z6wKbIwUgBk0BFFwGDEmiZURz+IExCw0bgOFdBBz2RrevrvO9uq9Xc2p22usysyGrXgMk94pWZo/bRZRmMIxQTRUzEpW8LrD3zEXQzHqvySwa221cSUWCZ4oxdwcmlekvPDEazOuMkWqQMfPd7AlTlC2kKHycMUWg4oEpXMPmWcrCkbhkMhWgjFNLKKLa8YoAOczcc8FMr1f9XHlOnvXYzgxNs7gOq4T3UwibDQwkNPa2PcWgM6HvA2Su36gjuU0khMNevfvs+lDd2h0jTs1Oe91nDq5XoHwmEGJtXkIgBMxWgxFmJ3KmZIhlIWnucuaZJ5JlXn9vESawdDxA74gnsjw2xiqk1VINWBFdYdeYV3kI1fNEGIppA7XbNhitsqSiyNNFCdA7atZSTn1cN2tcsurVIaAJYgZEeT+0VK2Y6fVmd42aIz1NClcPUDSHaMCEA/tRF0xHRKIEc1t7FIkYpmLGwJj9y/LIfR4En73qqcxib/uY3clSM5ud3WYWFxOg84eCyobZwGaGN8xZr4G0ygzB3Bxmpddltjfj7BIpMAJAxSW3kyAYUukscKBh9VvGXlUn5mgDGJALznvyRZK4p0WEGCqIVW/AY5tullmzkMHounmApWDzibANwLkkkhmFplHrBVfMNHtHPtpQ69vw7WF6Zu2DbwFF1pI7SiBCUA5Xm8j0RiRENseBMXvW/Rtw9Uvw2pveOXqWvFT+VDGbWe3sMvPKUUB8K0E58/WyRD0QZlKLmcCWd8sQjjeXSjdrvShzyGGNbkHIXWvTJiA67xtRIUrjgKUFViquhHnTimKhSONeiGAcjwGblEgxNiDCTZqt7aOI5cDgJgTCWMtfVNj4FWBBNs0FJw3zwPbfhkKv7O7V6ZhZReYsiGDCfBD2oUrQwZOgeOGAmJ+qBoY/JITb3vgHG+p8L946BvtmOr2uMk9eCCTeIcSGGb2xM6XZmnvJmkCRWt5oEcEcOoNZ6mWZQYftJlcNr5tfNbmtC8INuh5SojL53oUXk+qGXdfjWQHYWaKu+AfmjEWDwjrWuAmcx0YJiiPZtBmyDXj9gLnT8gCQMtEckeTOtUT7r5hx+MorwZpXt93QaZl1lDgc1rgHRoHJmf12LOlMKcpAmIW2ZcDI64XTmOPeoTferpXf33dJY2I2vSeD4h4zaVwLJN8XUdYMAtEyCygKDDRLYBmwYgD0hrmwslnslZlBnHskd+f7BkuxLA8tHGePIBsBXXfD2kqhGxe0IXu1Hqdp+9ZK552gFcitcZXa0OSYNmiuo5Sf+M3gAdrPtjv1dYT51KdjPtnsO9Nm6r3aqcRK79hFB/q1gsypcM7u8waJzFAzdOA4MzMGw0ymLQMS2yRw3TtwYF3Y9/rxSzoTs0lqYN1iJk3Pash95rdrBsVuiNb9uhdyBlBY582SAoU2p8phVnpZ5mJ5TW60bb2Kkicp86RZoeTSlTa+llXrNk8yo9ANBM4PhdZdT2G+3zBIHlIgqheYMy8VTBvmCBiGpYbN+zazwmC6LsVvluM2zHR707t/9pw8a+KOWCFmfKd/H0N0FZiQkhvOCDAjHMGAJ3CJZktr+1wdyV3+wsHguNd4AeOd1cGmFSevF9Esd3aHmdRs0KDu+ZsdsxUAB9KVRH0yVNIYRzOSv2EGkmpWe1FmFDVTH5fylEZuyIFKFu+GRWQeywVNt5R5MeJFdx5WKGEVDydgKIUi74+hdsyryGULUdU4UXs7DnOs2DHT7o1vHzdPmDP39VYhZm8BBBTcrvq6AKiREvEpFTPIzIgBMDev0pHf/t8KIs57M1/gGU/Lit39dsw0e91h9rytAV/cgi2zghBPM7ok4hCGPMqbVwrUOm3eyqubtV6V2RQfDyFAj8MTvWgClBhjDDs6KpzpapUx6qVwS82qE1XuMXPcF2I5Ik+iVJYAlGlzVYPmvosOTpnLH82u+8FNTek2zPR7k5vXTJbmPPsPlmIBZpYEPo6ZpGOvkSGIgTF0XIJRorl0z6bXAO0PaRf0ZrY8/IzU+vI7xS9Md+bcbEDC7wL6maOkrDkJG53m1PYlcDJvZhHMwTaYpV6TuQVDgSNRjyvHYlmssiRjgQad5JLpk1oj4F9ZJayuBIdP/Rczxy/HB8LzD+bzarri+NZ7bPb9MM2anyxlCr23WewKQIjSITMS6iJAEyPPm2n2ln55e/lkYd41v3i8ADO1UM1ueGg/Y5iKpGiAYwDEKchsoNLNZOwmQDl2q8B3Qa/2+sQFUv3rW29oZczUe3k3o26TBu3qcUJsmrfSVZJmoGF3EgLMLXlBjv9jzIMv1wxmqZdlrqbQeO9Vd7RHWkPu/UwP29bhS2sbKdEuDiQCEjEuo1hvngIcHSfHgEqRUCqHIZTgb9ac98k8HfUWj1PcxTum/tDIq/EF3uYALZgZ9PbtW9QqXnnW1+f6NrueAxGREUqYDAmB44IEAYHYDUHJZqFtuQ71xDVCXNGbe2fKHLFp3f5ule3OfJtRv1qB3nNEAGyblxjF7O0khnmzs96Q17QN8HaRQJubx8z3ysxGQQggyNVp+HIBaQsVAuSVptzaA2xeHYfjtwekGbXW9/urjKHC2eoojqPzf9gsl6TQ5HsS3BMggkU8rm7GXyGBWVk7Zvq92o0jq5pqV571i8v9m3EBVBUIVxNOC4KjYg4AoiIYi2Elm0nrEg3ama8E4o5ePbpjfIfYuuRQj852Z67NVZsUoH+3CFvmSGX2RqhU0AKbkWZnYRKYUWGoMsGcGt2s9bLMwkjVF2CmusByKggi5bjJItRMfYNf/2euAIdS731MiCstdfaEqi4RQAoqBBhadNjM+RAEIbKRYIuxfMl/IGGmHWZeowtmJr3K9R1vTteu/OTfWY19mq3V6eYyA8Qkg6Or3zPMSYxSzWTCszr0C8a9Lp57rZGD2+fPECes234dbHfm0mxWBN/QgNgbAmyZGYZghdoM18+BAT9BybA4GKQ5T6jHzPfKzG9o8NiKeVWjcavrIsEmBIYiGLp4V4ahcX+r1MnjcxE8AhRGB7kBoBAkegs9c2bLzhVP5ykAgkViCPBW1S+GcNW0YmbSq/W+9Q/OrJ3/l/7VXLd/M0f0fhoPayemJNEWojOSIDCUahZbXwXUwweK/9/x31uqG35z2WKp4e13ezSzmVUvr2ahYTOgdb9LYNu8DYgjExgMEUlsUogCIk49vFOyZnjYYJZ6YeZAti3IWhWKYdgR4D5Jqtyen9tECGML4EcPvXh8HFfmohl4Huc9z5uOJd+zFNFRz2fk84nWfQz6Rs1FQxIEd6KFQosnc0dBhM31Akb+98w3fve682vnfvy257t5zb2Os6XDxyDqxJnIE909BSBv9xHKNHtmLQJyx64Qd/Wm35wyxxd451BXhr65xMnxMRInLNegXj1EiANzs29zYPa4zNsE/ilAVRtrhieDWeplmWfv1w/naZzM9scjMA7oJByr7iEds2WiDs/YV7zhC1lAbpBFan+8U2IDiLh6/TijGppr5FHGvNlNBEhryDlyB7Rt8LnI8Z1+EH2F7phZ9R765p4bRy6+7pnvxP7MMOECOE7rkoynWncBWjogUVVGhPLM/qceAtKff1/odllvassDKwON67/7Iqkz7eXRTJZO0qEeu1L8VftmQkiCGCJdmemBqJjsMkYC0oxEg1nqRZlBR5CZln72gMgxnUl08WGjCCbAmsnqUkwaIN6uBI/YXq5U8fKqx/VUIDcIYRaeV4/rBpBKnlFzLDpvx7bWE0W2rXnTygSAPoziXbPZfTtmRr3Z3DdP/XLY+cmXb+7LjOMQDNVOS5yDdJTEY+g1EL7yzJ6XCJD5uPjB3VW9hii2V9/gq1mhbM+x7eXQ/KvHAfzxNgjsmdtjRjOHeJ/NzLtIC3PYx2VW4aAVhXEmncVVx4sxUsf4y0/IAi9lNGUmiyuFUTsQV4KRdjYkjwy15xUyAgDOYJMGzc3Ifl2brfA2wHSUaWFhMKpBguHkDTOz3qVfPPVzI1P/qPPfVvowW1WJDjZKCw7FjAG8EIFIRSMGI8syC1XvqUBus0TArJflVplP7r3m8T8/ZvMI217OzHrgFRFQ/uUHODJLQpB/xYaKotBIGy6moLD1anhoc/OY+V6YucvB6ioCOc3MHgTSVEQqoyz2B6VH5y0Iex4jb5mW3fXmvF4JRhbNKq3iMMwiS5c2a1bo/qplSFt5gJItPQvun4+G4YHrjdkxs+td/XfVPzcz/rlTvj4b85qBVSWXNibxxvAqCkVIN2tWuhLNngmbAK3//SKCbS8zs/qHa680yXNWbevJserlbyvSsk6FHvlIJE7NST3ZtB1VdgXjoOLMOTKTme6FmeVhz7Z3qhIES71gcTm8eyRCEhuKmckwSapj4CBWc/sB4y6aGCzJWKuI/k4C4Jwxyy6JsMo3a+bnAdp9rGOoKmAYHDVGMeQDXjLI9bjYasXMsHf9W699YVv1xkvu2h/zmhGJzKg5UFRcrjIX3/IS1OdxosLN5sUDT47ToVw9IIBtL1Pz4dPL28S2DVcOp8Cil8OthHlzNaBvr1SQOjIjm6WvTQgOeEv4bSRteYla0DfOS5wZJ+UwK70ycwyqovswLDQLGGdkIiwPVgFhNXnj6bwCeyEZGIygS7HNh2qYkFyziAmonofHcTyBR82irR+L7Dv7ddTvOCALb7vfn/+uubP/uzdcK7s/+6NfaeU0gygSwaULIKYF4RiWwQcHmiKRFsliGebQq2lA3XNTANtetmZ073vk11LNs4F3Umx7eTF7X7gPwLn9xfvkzsxuCBfKNtGM7V7WBVLjANiCMN/X/ZZ5rxOsmfVelnnRfX9Z6mZ2dRAEf80kQ/glEXH5yJY5r6soRa8AyauHDJcHuQTxONJUMWlGxyBOxhE1X7TKlcnQREVSZUJ6OoOQAzOiNsxMezvP33LB9dXNn575X0fzmAnMWdSAVFRjbIeDlqmhApIRtFaGedoGDVDeUwpUpr3MzXr/gZ//kxSateL9LtpmHrdq2JgF1M+uFTnOzeKCRDMSWGfJfrfmflmxCdYgx1vmYohmuRdlLqLWY84bvti9p6vIMORlj4rTXhnG/rGA4LqdpP7VACPhgBqB5NI1Nc0NhyWBHTa7X9IGw07DeTEQ504uPsAW2W5GcywpZM9sINmY5//N+F/b1Lj+I/fsX+1tBsOV1KQUgaYoBiQxhqlY4Lz6BGYkKIWaDUb1xkZAHXpdMMzserkwZ97ve7tenvDSN59FwbaXrdl0NckyQI98mCdUzHDYQrMymOHuEQMqFt02J9IpeXNrbdfNWq/L3B0NMoJlr3+XpzDJsBgEx7b0qqhqS1QAlM1kM9g3QMYjc8LlxQQw2s1NHmhQoeGGzb8yD9dFuHT0skkVxoykyzrAW0Q8/tZ1xcyul1Htbzz36YsrO//C2rePd3KZ1WlmeFFXjohOiFA7gMJAmSGBNF/xZmHGIg3InjBeScyylxOzfmn7wnm+qg2B/dfz1Ho53EpoXBIEtK5dYvGF5s7NttzrWk7pvMB5vWkitE+xMF8FSZi7X4XpMfO9LLPBB17ItQUoi/ZYsY4zjhgKBE7YMRGa1xVCJtkJ2Go6Q6rzHlEUYm0pvVdnJQD3W1Cxo+aJ3EbeNyLZDRJXgaJnQrXOf/2buvi/bZg56M0O3HXGpxqNz5z+1P1rabOLQp1HNphdcRyPIinO9BaJAJmaHaNYc92TjwKI7FRLzIx6+TFrA3ulDSF51tzbJ6Jse1magwvG60Dqi2+LKudmBFzXrZgOGAwpnIXm8C2al0nr3jFZM+Ts08zjfu/nWeYYWLOlKaQFy0zywSmaA5JtxSl0usQTZ1md6RdAj+QdkpWeRanLMkKeJ69QP88tXgT3z5oFS1Bd9xJAOdy4MCApaMllKFBBwP+yaC7+OWbmud/v/Lmt4cIrwu8f62Gm8saoDEplZtfQRG0wKx4aIjkUyZQizaRjYQ7QzhwoPqJtNrPq5cicOPjN2nY0rPAf6lKp9PK3VfM6xXjdwy4PoWd2SvuY974u8GgGwIwww3cpJmtOo8Us9MrMMm1/icPPv9ihKgHfmDedxi3M8S8Qh3z/hyHKzYCISHkqFoppwhJIKfZDEGC16aiZIUgOeJwKIH1xdKeIPzTv8QskwwUrZh56V+++7UvXjkxe/qWbfs/26hEFDOujKzTZU8FcmYhkFyCOG4nizELVS34diH8UJwVTiZlRL1dm9cLO0S/4fNPWRN/JaK7qNRC+lcbVE7k9Z0VQNNMjZoVtRpgFACZIPCfvmJvBLPW6zJz3Lh6WbDimRBKdCJopCXBZy0xFKtjGmIgwvlSjhHEeeudKKGZIPY2ABhAGbMVrOySsIGzWzCseG6awvA/neXByJ2kSqlTUNEh+p2fHXNrL1Nw9/s8m/srM6Ng/2f7LB9aAZR1VOQYFUAyhcBGa1Ha4jKUMQirWtb8wMwm3bQCQP7OTFLUlZka9PJkNbGzr8KZWn++5ddsOx3U39ZJgy3odUAa2Fk9mmubXvZQ0tjNj+7wdzaiuJwzB3Bxmpddlpgw8LhfwLUfA1qLtvPv1v/fL/u9nt5GF5zmEHxtpQHhsGIORQ1eqgpCbAAbNTdSoGUJ1hAilGPecF0T1tjQJk3wymn13zKW9rM2/c88VV26qnPmF5qNPthNm2BBBpdZR8gWufTKSQsBIIpGlfzN7ArNmGoLBY98WgFZmFr1cmi/8fuzCBqH6Re/5rqTuml65fW4AQOzEZULZvPckhQ7gvIZ4O3N5gIYtSItXy4xwvIy7EIv8Q24a5aFM9bFSpyTt47vO8XxuoZbH0lk67vkI2WDIKMCPOgwwapYwLVoi99cf8m2+TcR7BZ0kKdsxl/ayN8/dtH7eR2XsE2e073m248zki3hXmOyvb6e363EuRSJpUWapbYkKIP3Zbbnw2yzMTHo5Nac+uTt6qU/umCmdPJN3R6/QtMRvYD+75qNtTkWkDY2aszY79b0maTMcAN2s9bLM3PWUVGxZI7lAnvgCDiGlAahKRFUniJDaEwqlncpaj5tVecImQW7MTa1pqMNnUvv8PHoeHYc8ExfMS16UtSHhe8lDsyiVJxApTAU2ADvm0l7mZjywHn+o9dd2yZZLz2n99iE4IbICo7IAxxAtCeFBpkiiAOoR2QKQKJ4JCzALY9eKBrd7S6A4URkz9V5uzerV0yNr5yHUNtu/41Ke614zt3ZdtWI8O/uuLBDQNdu17rU5zAuwKTYbbo1LkmY7LWHN3emVzWKvymxQTD1OVTAGuFMORUGGeZ1pRBtVDDRlIjbmz83YVHPrPHgUySoJIbg4FdBMMm6m56qeB2h7ggAro3ErlmUAyQA2zb5I98yGjLm5s/rgbRd8Yqo2ffHXjv38fBtuY/PEaGEJ682w+ruVGAZK9AZp+jVX6vWbQsYjRH1bEwTlzXR7uTbr6d7toY01UlXrOuHD7pzGc68gh9bM0QBteMdV49I3umaPky2K34DcDmZLYatmMR6aB3+pZrWXZQ4ijhwPSmrzFOO+GxAKoKvBIJDh5kpxrB9XCqBtjCKJiiPmzfDicScc0uVF4gsdQVUxaq60F+3BFEYouQ5ijiQS5JpR8GTQ7JU3zFa9XJizpf81d92lm6u1z3z+6UeOLkfoYANQxMaL+C4ctC6V6SwGVCwwZF/m6qbdl9XB+BQQR/pIIduOmWYv9+bsJ8fbZ7dIUvsr0SMDMYXb3lDLzFbjvI0dOw8QYsfstFckFmwwDF33vesIZsegClIDgByZjxh1+HWz1ssyA3kYjKp73g60IwYnPzkkEEjI6aNk1oxsStAAFrMsy7KSiehwzed3Elqo9qS1g16fmMPmlWedkg/TUjIs7DC4MyVhlkS0cXOZXj7Mh367c/rlW8PY5/asHX58sQOQUyYEBOT3u0wINF7oAik8Mq+5uuPc06r04/1ztwD7Zjq97jBH/3SnbnaLSJ6en7tzZiTHY69QM2G811BFz92EA7PjXpfT6gyaO5key1GKG2WGNaXUYJZ6VWa3IjsLoPNG7Qj4wJUQS693XwCdrrTc4IOmzWIzewLL65Yx5UCw+gU4YiBqp0Hz+stqkqITZ/37os3qw3ZlUAlV07BgtuzlxZwdfHTx/V+elKkL94wuPvSs+6OaTqmCpJkHKdXeRPXZadw85saZl4226L++uOshxJGZQq9rzAOH7wRWNRHf5PHhzPmrGd56hdZZo7IGILnntp8QODE76cW9Dgooc32aA3nbLDlS6Pyw5jqx08yLW2YOLA8ZgO4xHFgqQgSzjVlkSOKSxSgJw0KXLc4Y09+zGfK6Pq59pBjCQpUUbFSE5kqZMe+UB6R098BwR8NgOuolDyiVrNYcIi9jXp999OEbPjodxnbuOqv+i883o5NGOk60o0QXQTwrOOTRw3Q7LOS0iIbwZqyF+lf3dbsQH30/6SEgjs0Oe11kVga7jjesbSRSc9OU8L7DqaKel14iLZjvyZvez8ddPkIInJtt9vpdKB0AJL0bYXOcoYQEEjLBXFbZLPa6zJz3zpNWtRAHgPvenTXtvQBxJZPvHrhSmdBf4fr4pJWqkp5znigUgyxd6MG41r1Qsf2wzXA0VsGkOb0qoswLHy8ua4gBv8LFLZTQ7JgNs1UvR+bWwq8/ufsLW0frYzv+1szjD7y4up6RCF5mu1cNghDJcTgyGUiQwo1N7v3YmVTZpdmvz4OAltlur9vMSvqzfdVrWoIeX82Gjp6jN2JZjX0v8QUal08zHYb00N7rpptTdMw2e7EefQ1LpMdTSkBiO7a+obw5zr7DrPSqzIsPTJbn/qMZ4s8FvHBhnmXvbTAbHQvDsg4GDDAcbhCyC1QiFUqaC0ImZxGQASY+dfTNmhGNUxSnDQGtzLMfSeo0o9J1ehssfY2hWbIVs0UvZ+bVO+/YvG/n1pqMX39V5circyfwl7DN5cz4igZ3ChMgow8ABvYzDAWtTk/P7NlCw9I6MvtYK6iUmrl4MtjpdaU5d2KfNL61wQtp3qLg4LdDkYTGtDdUXfNYY9FjfO6evq/7CAFFc4FXvlfvYITZyI1TEnZ+UhIZZbiT5s6lm7VelZmFAtUU6WwQ05gNBqpmuksSIyx5uAHOmP2BNtQpHDdnZMphKrb7emtNoJAszry5PKbOdUtqENhmeQv3rqIQJ2lvNmbWXL6XN3Nz/zPZ+OmXj4nsvPTUSve1Y8cWouHA5wQIY9vtFSIR0bsogcswsmnHnnqVoUeffWVd/7GaIs0mTPF8KjUVPC4256+fznofmVYHhDvGSGr65kBEZdMrVNePvb/kMMS7r2X52Iqk7AdcU92EIIuBhskMYLxhBqpqVntR5pCWe611LKJo20yCwQFV6oBElajOQ/v1u70kXP/YtWfg/gY52ROVsJNzJr9AGGbNDW8fUj2gGcItyAKa9Z3vO51F32nBbNnLn7k1+/z3Fzd/fHdFGlu3nDY+EV85eHTNGsNMiGMwgBIIjzS+gHQmbJ86/4NbslWWtJ++ZX2iIlKMuZRgIhXmKDLMve42a329f476Fs2QIdbV1z0QEKLne+O0e30tLeNJyvyyBa1v/0jhMPCwlTpXtVVIXtqiZi4swULynjlmpZrVXpm5n8ACrTsjiVkQJRzOD0Y30YK2oFOG8alShp+5XUhYeNx3ukWIJeD1Valb02bgqlrI2UZl38y41St3WhAfGGEuyIrZopc3MxM7zWOHvrt87SdnatXG+Pj06Wdvah55ZH4x63ZjFNjMnIwBMXFCNVSq23afvltaXepKp/P0fY+PVvWH2RyxP7PRW5CV/L4SpFlUYLjerGUjvacHW9a2iJIUCIZrJ9Wj99rAsKZpmurMLAiCIIYbJzb7soUrU4xAVRk8t9cvFY4CH1uhBVAzIT8yFEitJDNqLlWkGWEGs9TrMo8pCsustCAFgUj9dVAFrAzvnvM1Q0CZhTxaSHdRbYzLlcZlJpZ0h0FggWCyujmBheUI02YY/QDh3Zo/RvS+YpTOavwCbgitBu2YzZqCnTszHRdja/HuO2pnnrVlfLxWqdU377xk88ji/NIPlpvtbrvbid1MupngYVCVSrVWqVbrtfHGadObNvu3wO21pbmXDwTRJboWMmqX6ejpRCeG2dAYBLPK3FuklBzUUmCFMGtKsmtndsLE+qqALEhyuGVSQzgSjX+fSCtKXlUVXSGqZpiJCGIcBkn0+PwP1IXqS+8SKOnU8NdXNeMo8LLVBZY0NN8vKwS1GYBrGQPzde+TQhVpDkydFYNZ6nWZcUXuGhHB6lBzfFu9r7LdMZRIfPyj5EphxxTvchxNqbTfSrzVnnckuQFidWqLJg6XexxEBLCz5mi4E3B8ZHiiBVH90rBVYSihQO01Wd/JgRtmq14OzcAKDNnRxx+rjE+cMr1lEsqxmW2b3jtdaXXxZMi68n8F3PDTUqmOVKq1kXrq4382f2Lp9eVVCQiskS0KRYpFqGHRiOnYmeKMw2ccRKtek8oYp/KYI13n84HgA+GaWuN+pFxXW/1QWM4peUVVdQV/L2QYvp8QIspEFjwey0dDEsPRu8mkZgTws5UgGmeBzCGQIc1gaDuZ6y/TSHP/XRbZLPaqzIIKgNXjuPMN/fHLh3VerK2qUNJjQv5hvov5PJPTIlQQV7Ft9gJwns8Er7FlRrblDq9kiiDG8iPwhJqC+E57ZkPLpTkjicMdmTvyRuxWTtm8c3yMnPWJxuhoY6Q2Ij8TpMe3/4vbxxeOvh6q1RAsgmVE7mTkYm+5BzsLvWaXdW+RUYnMpsvg+wZ/0FT9gbrGYJUJIgW9Aa/XI/jwM9HmYchFIgN3NFE0vTKRq61SRjNUybhwDXbICOBEb5rrBO2K2dFrMgs0t4Tbstz8rOdojYyIcUDMHQYvbHpZC5tQkCSpIpQyUbMeTzk16rn7m8MSgmpN7YcB9AI4TERk6bi5eGPrLkLQWBoxJsC/4TTLJiTC7DdhxWzRy7HZSoKySlhdWlz64fJCe3T6tB1Tm/T3izm+Ex+1lmeXDx/vTI7jX6ixcjo+8niGuaukuLiCYTIfxXK9lclcev86EY/ci8eyYs2opqo6yclh0JKD8ZtDWX/Aa3zOB8LVVuEJWZihIgNVtW2lqhcgiEea8x14zHyvzHwGvP68V1mhlCgGHx8O4jMFtFHWpdyf4EX94TjuyuyZjAIRPYQpulXkh1BDJ81VsbduCczI+XV1C9wJbPuBRMmG2aqXN3PaSzIwYru13p5ffPXI8srExFRj8t2NkdGRUffzIGk1m80frp5Y6lQrlaDf2OLMFMGFxEPbIJR86DZNYWj0kq8teiud2YTLKVklEvm+PxHxBap9gft9YlD0Cea7nFAymcy9ZCyaKx4G81Eo/AyXWyWCZtRHRDFcblDXBaQRiMea87hZzEIvzLy0Ry7AixRaMd7GGQkga8v5q7k2dq1YGTYRXqSMAMbkIPALaBwVg45dYidohZw1D5iKxqfrYnBjYijSCPE0pj31PjFEjDicNsxWvfyZUQZmoOBcFoAjkN3FlaX1lR+tt5pt/GU+8yfWQsB+Gi2nmRLRmQxVaZrx58wjwNxbUc3GYYSWSMbSqXtpNaWaLjUhxRaLj4umIra9Tsx222MMzHADbXORbEOJRgZphphmMEu9LHN4MU8vlUhuLvCJr3YFi6JxIDCyFzlbl0xDVRG5mB+V6Nk9rw0I0815ZX7FYIbRUBkJC2tmzVlgJYEKQXC2JK6D/uJRNarURUmgqVylmIveQLNsFl75B5ClA/O+eACYHQil8dpmRxNz2mapc1xmKRWkzFkQsrU54nEJ5uYwK70ws9HZK+oVrhwyFDaIeCUpgKPoPN/gdG5HkkxYQoVC0kyGBL/5HXCaFY1VGqBnmDVDbU741WWJf/RwU0gIqhQA4/kqblTmblaMMUNF0Tb7YUm5lrYQUdaozfe8kW1mhyCHzbhksVn+SChzvyaDWep1mWecaeewfmdPglxAy1jaFlxlkniiOW5WsGRhtKsiIKVBNziYAvz8Rc5IimBA5wphe2wMm8H4upg/YmwiEZoIB/UkHaR4cy2LNItjpRlxLWhOqzksNO0pObM2a8/AMHxeZF4PciVVmbYYPWTMAFNaHWall2WuKhgAiEV5v/texlkpgagpIzFRPYIwE5BYh/bJoCD/TkjMdZ5ExZi99Juh5/9kTJttcLPaq0UzQ8CzHPFfJUmruAGKKcNc9eaZmbFtswIiWRiaKOriglYMuRpj1OYad45nCkzec6uGcwExZBbHyEab83A6zEovzOzOiBrJGyiy2QaQKlGflaAbKLpPKklbGPKyywpps0gypzH6drD+zBbheVPnW7j+1GajcX6BWTOAka0fAliq02ToOKHoCJ8OCUlFJnOwN5XlmScj0nzaDCIPwNyaDSEXTmNbuGGbzfnud2PeGLaSI1Zl0wW8Sv7BDFbVrPaizHiKNXurMgQxzLlfTN06/JInoFlPLScnVYoZxmUjW5QqPIZKG6erzWZpk8ChEAOqYtZclpzPFHCnN6HEijAhtiTAcZ1cKdlQjnnvjTOvv5Qu/CHJ+Hhd2NNlqpmIYAV0a9LmADWT9iCooGwQ+0wthRKzkCzHSFhzqaJLN2u9LrOovVjDFCUEdCEI/SWI0cX8sb6H2WK1OCV8jgsn81ol6TIcTRGV77EyrBZ14lGzUEMUZsreEqeFKgdzhQGuHUEELiqZOVMJ5rI3zzwgUZ4oh4+d6KSs98HsC+w2E3k5iGljNi+lwp7MXgJsbS5XFL/WEm0Gl27WelHmvJIt9yQ2jGA6RTR7U7Qt560fultJgvuWKnzrh1vwHgb1ryajSf2IV+dvxrQZj/b2YLTgjdGCBiCCzZcAhiOqpvNmI5RgLnsjzZzHLOh4Q7RZyGQYBLMrIFWDNi8FYkp7iWBzECG2efh2COY21fzAzINq77A07saXcSOgChBV1xDILMfocf6AIsU2apBl3rYwDAU67yBikuuakcccvrYnMPVn2lwuTMW02bbsseUKdA2hFyC+M1nlyjBXvYFmARazcbYNo3gjiAkwm3kN28yTw6oSd2XUumhzr3XSDAyHWel1mZ9E92vBcHaBIpQ454EWoYFg4D2jW1jKsNlE0als6HGSRF8JAnee88kgFZUag7fGzaR11mKdtTH+zLEwBCUd1FY8NqusHPPem2leGDpaJhBirnMgm5lllbuM52zaZkHBy2yfAzQT8GJWjl0xh0M3a70q8yYR+1nwIDgKMHEK2DFWDhazTJgamTtOS4sC72fZ02UFAwuYJowzAlDQQFbOsPndZy1MV2QCoESQuRuPxBfbVdU0VN8SzGVvntlH1DpQJ5AOwQtyT4Bnes9xu3My2qzNUkZTZlO+xRw/cJt9HBVl7s6ew6z0qszCPN3u0KgPLpCZdPdDsIRaMQOwHAaKImILhRiLVeIW42oG59XrprgZfJ7KaxIryylqXCMYDfBRswH1gP4I6Ne29fkFZ6/SCSLXqzzz5ISZW+gjGtadRAw80JysOP9QETZqsylFKM19kHZGKTguFWvGzepmrRdmtkom3/hrw6acQAgKRglBqYACXAHqddi0yj4YUFPkfU0bWwMM0gluyVMyUH2NvF7mfMf4d9zMda8lIsTj6lTA+aMtabYqlWAuPWlmxLiQTMN1p9hMJSnWFzBIiDNo82+fxObIgqBklaUuwJrzuFnMQi/MrAXckk9KI0ghBRw7xKE7yWHqfc5VJgYK4ho5ZjFkgwysIrGR0D9M4v3FiFJBgtcx5s0WgNRqDwos1RhvZSdilVWMzFSmMsxVb6IZYpwSCsUPMAQYEgVbWiW0NiIJMGZzVz9P5Yv53JcEmCW4Ny//0lY04WlzJe26Wet1mReswBC8JyBOOHGUuY7f1kWukDaHkSG02U1QnpoQ553ytKiENoS2JPaaYQSEs+YCl0/vS+1x+QEDE/9n2rx6Xp6YAJdlXtmR5jwgioyWseKGY4E1MiLFPoC2Q0KbgZ21GbA4kSKOQKQyS6s941yFIWDNBXCYlV6XeSgGShzYOlOi1KLtXvWricjsxwVbfptLVmatwHjyLBy9bjgZQGKphhECA+JvKEbNeIZj8/pHKWtH0MKxhQPDUV06Mtvf6S7HvPdGmu/DNIunIFiztDqEZWRE2zLL7TCzNveKlNkClsZiNl9mu7zHmTO/cAaz1KsypyiEvm+2AaA9DXjvHvYgiPOVy8e/7BkWtn2B4k/gZpZqGUdeV8/CG4YaZIh2jsA+MMEo56xZEnm0jlNLRlLgImLICJZ0lpRtpOWvEsxlb5pZqvPWxUMpmWTBHYmqc7WN2xwCgph/PU8sBnyr2VzK3P8q8Knmx2WebQBqMqNSIaBCFIXrhdq537m8nMk4RdOBxtwwrpTX4YKFeVONojYxpc6VHB6gQEIE3t7ql82q+trICjRoBnseOhOKvAQpQIoUh/eBTBpWeEkZ5qo3zmzoS88lAyfbpABXIMo3MtIwkEpu1GbX0GbeoHS9cpdZPNQRxprBNsu8IlHm7V0PnqE3pES2lCSYFmK+5/sD7EgGpUi0ySpNqveohXGCiktU4CQelEkwbS5VQcUIQrB3jwGWBmgmPpNWMZEI/lLMRW+iGcKYJXrnWjOziC1li7hB5qQOoMWyGbUZJubBbLhRlLmEUBYz0H8wB3KieQBpZlyj2sgZF6AMmMz4bLkmbou7rR3HeWotM/g5D5c6MeVZbQximI8rrip89NrvWepY9y37LBk2Ky0cfCPcN/7WwKgHYKnFIbgQKpC0HPPeG2guIkcuJBBah0OKu1kUz40DuAgxCxs5arM1kZb53u+8O6tHMXD4AtYB8lMKaQaTw6z0esz7O/N3hTLZ49AhKc+k6CwJpwwSnKdgEYaHjoBmiNtzOZ4IsvnsN2kBSh97lMfPCy72QP6o2YioaMdwEfOANLDtQDovFZkdnJkUuhRz0Ztmls6Dk3EJAS/mmBY+Z0cAVoCX5mxGZ1iENmscEpvvFw5gmePJeYQizPiwyUz3wszi2fz7+3FLjYAO1yHAI4bwjmtGqsltGcgyF0OiM8djYAAgRRI5rKWiEEaOdL5cZNYsbXSuuOG2Rlv0Y4argzxwFdXMDE1QhrnqjTMD4QGBAvhaF3IBa7M9rcEgmrS5HBFaNRKNm1Vb5vdrTcOn+khzTqwculnrdZnPy03Bc3sP0mhlYgUjCNc0EyJFZAKNxaCQMazmZIkEKsdd+FZ8DcIvQFs3DnClD8asOdlVw9AKmK6qDTmho+K8+zKZ47IZacswV72pZnsDBFZE4RZcoFlhNM0yzNuc6hmOzK14ZRZ+U3DcGtIMa3KYlV6WuTy6KbV3z8szVezDWVvrdbjcv+ZeIYdA2P5NbZAxrzszaLm9q7qiTOc9JjZlXsYlgHA/F8yaKb8pVpRZrFArBHW9aK0LxtALkMPHLMe890aaz4875X3WcgQjBGaA0PStcPnRDNiszedEUWZwXCDOMi9qmQGiioJj8+DsW8xCr8rMeS+GIbjxCAPQN8l3ChXBoux7l/MIeCE7VMjmD9AfZSe5Z55xA6tcoEnIWQr0IsE90pJISm0ybBZTJOQxyFXshodTcvHH4XMvzPwYLsNc9caZeR8Yy0WLzR44oArHSWp5lht40mZJIVFJxQMQYIQGbAqpSLGz5sI6zEovyoztfkEKEIhom1EXMHB7TMvLWCewZVeKs2lQFOQErMwzN0hHMDMsgcTwhXiwgCvBwLWHW0bOmcU8LwZLuqpjiT4uy7wzUioym60c896bZi7Fgr5nY7+rGez1EcdnHaK93kV4T9uscWIWpCwyJ88SBGGyqMp22pzZDrPSqzJLuO+Zdt8b7/7z5d8oINvN9g//LKxfOY+4WWIAsggj+IkhgZL/xpg0506jKYZ0O+NR48r4VFF91EqNK8Vc9MaZ0zA1wDhPo3znvmZEhZCx/XYsMJRgkwZtlmRoWm42m4FS5sjLJgehbOHMBfWY+V6VuRnbtvGKMvpcgHGphRjtcoLeK3Z0wtGBvM1QQAjXKbdEE1IMsGTBIZHNfIHiYLVBczHhhjoSQWqTMoilLaREdSc2g6M0dpZj3nvjzDDP+Rmpb7xeGFeTvtZtnF2Ix2cQm+mas1mkC8kWyVQ9NmOEvz6nFGOlzLVEY5PVMBAY7leMTVQQq5K1EKRc03KD5Nps7/r9q7gzJUXfbuAEur/BwfE43tvZOG8eioTpBmHA2onCkiLe2AkVY03HLFA6M6Uo3lz35pntfGLcjBtlQMZuLokL9USk+c7wGrYZHNiYt7c1i1kMZVoCQufM/Vh1s9arMrciF9hujsl/+VEw+ydGUYtBiWCsmDIt5fWlcFlvKm0wRpueQnGExBEKF0NGzaGVcG0yxJCoosayudAMslFGmOkPwJViLnrDzSMzpWhFKXhoyMC4WZstSeWgtGk379ladP/F3GaaXxnLXFiOa9UGE1LGzSMbBlWMSDluQcahF0YMyXwDJGWDXKJ85XPNlEQlS81ihEb4hGuvzzj4OmghZ83uRfVYcV41Iu1UbxzI5uiZUu+NyWzByjHvvYnm+PIAXi0wIza9D1Ewwa9mMW7cZlXSuyUxYzGHBbxIb0PS5jpyc8y7ymUOCJQ1OLNml8ZTACEKcL9yNo6EpNEDqBiYd0YqwtEuQLwLvCP58rSMG+RFaCg41k2awaKKA1QjZagsVqmz2hDZTUHIHElThnlVTWeeGUgM+7c+gqyMpvIBbGKeSZutEmFD/nhbRIRYjKD6JtEfzd3Z1M1aL8w8i7OlPi93aIliTrQGyaIslTYW1rO3FTFK7L0WKQ5UtStEgqbKQvG2HOUx0RslxBgxbI6K94lX7epOcS88cGAVhKjBuN7casjP/nG7aPOpN9P8w8U0huKf51SPgsiVE9DoqIRJm70OBIxZS10aKKaK1gtVjMzEms88rbXfNt2s9bLM755bXwVwYWTcVhAYs2dOxODLY680Qtbacku0WnAxE21IM5iNidjDdl5wFRIUSxRXilkzIpkxAFSnpoiO2xHwxAAOlkEFzvz02XLl4rHCzYfeLLOsMgML2j+gMksV7u0LiUOFeSsHbY5PuO+U+d17RJJ5pOyd716CDdmeL5hjMwivubq1DzeDWeplmSGzOh/si+F+IdsFHgCGNKEyiYWSShmwllVx0oHY5qRUXMxAc4PaPjOAGRK1QTDHKQXxpUiVcWCCNmmmPGp/Z03A+6KK1LaYYWHCEmJkUR+b77hBdvy1O+5XF2pnWQlgaz4CbXdV3zeEIdiAS1Scub0DK8tudqDMESb7uN2ozadRZY4TK+fpAkji/AUODGU+86aH99aeD2uR4HYwqMcefL28qQ+apmnSn+WZxhxTmcUNCegXLPDCj0XC9A8JHOce0siUHhSqjPHEHAWAQC3LsxRqMCo6UWyvS4WbC5LGep4pHMQAFLhq2BxmtRKg1HxEHPbugKzK+YRQOiBcEKOT6sCRv1zd+W+ulrf4vv/3zIbLqMXEJGobeA+o+cSI8PFgDMLOmJcD+V5OhsscCEBc5w5OVsnEARZ5CGgKApcMkKpxjpcboHjLKmLwVmmTzWZmt8it+MO/t9AArOb/9syZfR1HSgw5/0dpVVUV0UiDEpDAhJ//uUvH5K2+7z+89mOsrmZQLweAej1cCiDwDrNPxpwxL2MKpmpdUGDmiLFGJIIgLTNzFNtekiyoBTH8GNnktm8Wy8wHXXhV1/Z5T8QR5LjiHGC7jlbw4MYtfy3HpPmjiNDbAW2uwwELbN+pH2ACqhub5n+1ctGOqbf0vn57942/xSc3/VJqMrGj/FwjKbiPg5ntM7w4BAzhezowmXscdPgtsMXjjFgansyNaBO70ubdzD/84UaNAmYKrPgqg4+zXXBhccsx5zPN0wybw1Rj9o0aCl9wDYBaHRwF0QtgO7RUOSIvPvjCSustva9TLz19gxnk5moNo88/YjzF2EsFgxmWnbaSVtUjM/t+lHltKmhqbhiLc6AVMaBFXFtXMZ5nxHoUo+YSgjyDFSxMtTSC92m3qz0SKdWoefPRkM34xFAaaKUClHjo9jJ3FlZavmNpLgXvyXh9N6ows1fGqKjQDqOEWSdVVEWJNGpzXeAPjDH/QbVw/sUMT5kJbwleDgn1eOHqnzmaQrXhVp/MPPel+owuAIkGIgUWa+mJenZ6YmC705s6NFS9rv9Nm62Gx/s+zcEAFbrHcKB9vxk5WCANGjVv3Vrw+b5N9TfGRmWuLi2LYy+3m39V1QEwajPFL+xqtuLnR8Ib7n/MTA08H6caihTFxhtNY9yPTjv9bQQxzlU3mPtDaLbXMOPPcBDzVvENFY8xrjNbANi6ZGJmzQIgL8IRA7McQoXxofJ4ZW1U5gH4yPKN2p8c9m2gMkQQEWkbtnl0RVnNCgFBkIIWrjiLZa5Og9WCpWJ+f7OvEAPQTGqeS5YgjftGLzlqy8Zm70zJGjE4AvTW9BlOWTEvnoreYAxdNDZ0xnMprM4blhkSYFDlKeTHiGI+REqQcKM2f2O18YfZZCAbA5rF0y+Wy1xAXWDrqnD2nmnU759YgC1B+WObJSTUqBdxpRi7ZmKKEo+jmWgH8nnkWjdutmUk1VtGsX0Hla7LbyvZguXaoMxWxIewx47S58u4QomITjFts8tpM3cIp6GIwrB52MVbLnNJc6/Rj2hhwAsLjkQw3sKCJFsB1Pm8skHdzP4eFY8eQc8GLUmuBBJmW0JmuU1Ph3wGzeUrSUz84jo61zXhqwLvtBQTJlfMBMi6QZlh6gFAQqu9VFwjMMvieBw4zAHOqM0hocxCW8xaIuYwU1JhKlxlWirzj+c03XMdTxKfxzggBKvljAsDkV72gEaGitBQFrOSJDg0XtFf32DAzRDcDH2nf6SaMheHqE2aB6ydjsGMOq++zZimbExmQ7Q8SgGoFK1uqDlwhJu0eVnCYaG4PznBDmcx5wIVZLnMP/++DAG0XplJXoMA24FAC7rDilGf6LmSfJgVLKTNhZNUUWGY9lXEz0XE0TFIi/oHzUtrel+ZY+e6WCqCGEZW0A3MvP8xQD1bL9yaozJ8AApkmrW5cW1e6q05cm9m+1fLDElq85GMQBcYIMu0ySb++g9rPmGREqTjMvMmqxhnUQqvEckqjZ5XGoEavyl1f3txTprZNuPugXivUQIYVUxvQOgyY1BRIvE2KrMeMLIg8wEmtESe6HUJaOXlKPel+wbMTDFoMxe459zzlZl6gbGaQ9zMRrXFMgeT81CDR/4u28Ci4wLONTnEcKCCNGOKNmzoZd4ZbbZXSOWjCnvRM6ExlyuLa8xZ889Q9ZV2uVO57RLDWK17UkVjoG0blvk8jRDZ/R0iYFkibDbqA4yIAIpsozYL/ZBgDlGMoGROEtWTGR0l3NUyL43WXVPjIg6UCwwCX7KYI6cbKy7NxHnfDKkbZxWLSo93GNzgKYIQZjQq398wUjVsTk9Rcf5cUovh8zMhfgamBatGjMpwxIBekRuTGeSpUgfwybjeZcza/G5tx/yDUUgxkJox5GIslxnUg3rs1LjcfImNStmIVcZBNM+iOe+TMUibtYKsgl01d6qdIGsprTrgIqlLaFWz5ndSaO36FWH54JgjFS0lSPDRI5FswzJ/fYzdj3/QIsbJEWIaB23WTPd+506p2JGC4fi7mAWAUuYUk2RrZZaililPHpAfFpGnAIRaKoNIHkcwPW6gCgQHAip4AwNOn/qh+fMfgbaHqoJXMSg1NHL9vFAFSIVjZl9HV0Fu75s7iasHoLqAHKiRHr5RmSUuUH9UFQ1uMOw3YXMKY9rmMSw0U7y12apP5xFnYayWuapBimWRSmPDE2L2yl8ZR9eM0tmlQmktEqWzffzRDag+eBJsCvLMKBk3kAKXK2TnGzYPKnu1mMa2OVH8gDDW88ajGADq2sZk5oMh0Dqy213XndrjSFWhggZufufiin3zmiAV0EUlTLzcYpnFifbHfU9jWhnYyWUd1C4XBF+UQrN0WhA0Ipd0zvq6BlmM1qCPg1AyZtjs7Sep8Z73JkBXfKWKWclMA4MrRM+mjclcDLNZA3IGH0AYKRErU2TGeZth5uUuQkmGAa7MUuHCvKqWy2wSmINCOea4bDGtr2U9U2u396c/MHZqqpfNjBYaZ07l83b4Ps95MJoZfoGGkchh808izOFKFVfbYiZCMAvSJTLBhmZ+vu6IkTFKAilV4Ukep2YN24whYNmQi2FzwDCM2ZCQVsvMBXQ8rjSdbqZpb8tjk7NYgQz5zLRBvFchaveHykjDmkCuHBkNz1RbKajEti9Mk+aliurvuQrVMWwx8hrzYFCpl+jNcQMzx6Oe5b4ggl7uRFWbA/KcbdRmbO88sJiNm+XQF7iZKao2p+oCItJqmbd3c1MATQi8OmvxSiPpArmVQVe6SRPXZVKKAKQUEvi8YaqgMQrQ1YldhA6ko0k8o+agUqAUeUAkzRND3pUyDyAgO8DeqMxS16sm7ZWzL698Ag9OwUzabNNiHpNIKbFitnuZ6f/MnFU4AM3UKzWO2HWBBdh9yERU92tYFwrhjDSYBE9IuIBNk64F4GRewaKSoIY0ax4BYG/1RJA+hGJ8qVqjOlZtVGZMNeGUjXhjQPWEsddDNW+zZTJHVJgfqj8wVsos2zlzHC2ArS8OYf8k7GtIwHThAiemuIVuxv61b31dJR7g3j9B4AXql8+EN2P4FjZA9Jy5PiWM5/yCF6GsiBQOM57ihABHNipzAbJWytweCYLR5tjxsoZmbQ7QFpk3xiCd49rygxFNa2Xev7cX01IslvQ4IGt1/BQ0qaRzxpby+Rv79H4G0Lx9If2Qo3W8lPcB43yH36n5PHi+wk6aocQGT65JzM6qTcd9v4sAPH4RJQGTDct8zj2lOvc+ODMFEJjJSHMyINjzPWzz03qbkpH5DkUrrs1xGIV04LU2V8tsW9Dl1J0PWhwhrKkgHe8PBDGFnEA5rsxyiGiCWkAMwNUgEEptjCQQ1FjpmTdb1S3Egzg5hFeBMccGwDF09j0jbFhmMcfWmCszUrZXzL0hSbPxfl0CTdv82CKPWccjbrMRQ21z4d5imaXjvO3pK9v2mFCA/XEO84pdmALxDNVGTGhhlZAVaOV5ampgeQuIgtWkTZuluYduh5fQFJ8AxokirAAQ2EcEHLdBmVW1zkMFKELgnUcAnnObyYyqmK/5x98D5Zox1aIobea88+4rM+So/6/MixabBDYsII7/RdCwhZ2G4unT2tGLlLXWSxCKbQXxMzJwBfZVwdgwLxWHZmsgesAvPLuAjqHMACLCRmY2ap12joLsmiVBgE1rKnOvYZtHI5zxIXEchjkYMItZyJjWyqxxeOSIKqBhhF4rVb6oGjt7xQi8eh82oG35nbEuvUXtWRCDx+Uk/XVaU42a20fF53SNKhExbArWoOgVBxHIt4GZ7TpXSGGsGplQhwjGh8pRxm0G5HWhC8BQiDLgkbmXLSGXyxyt2APfn8cRLzzj+gJKKUbN1JQFOeTa2VS2ICE8rw0UVF6dhFC71Gd6HSZUpciKb9TMViOrkSzj1ww30QscqswxsG9dyxxlNPRaIuDCav3OgInx5HMmgrElwzaX/lthltVCc70n/8gOc6osnJV5aYu57wvBQGYqSGG6+wUlRomKsiXYsTU0EhQ3MDzT0TzsMeHTGQIFZed5n1OBG+aEzlIX5AFYzNOs+5B3K5rLkHcvswQFGa5BoWLjeibAFKTFkGGbNyDBUm1gxtjyrCGkSnOq5mXmS5h1RDF+vYFc/21DBV5GQwoc5cJdzJnNMh8sFJwMobag9auVfn+snDWvv60CUTscXXaetDPDiZWyqywBUXwduMpuZV6qj66q3mq2BNXAWQLLSagctNkIq+7lcemF1GalSQbM9oDxGpfZEmaSb44LYkwzaiv0RnKeBexnlCxmy6ymebaLCLSneRRCeDkwUmgVB2oYo+ahmOXVPXMItRjlAVVzCUnvUZIsvJG5z7cqD2iAr5PtkQbBJm6GpAgL4QxsqqmZtVIXWvoNlrew9FyCQZQOYYUBUWLQrrV0xSggj72fqeA87wNDOT0jPsW8h4egD0Kohs3TGyXctYKAth5MAlcMxxiggmuZ0cgIz+I4iuEsCEU8MwDpFHM2g0t6cIEFkCg4knIV76DMC3Rto2ED8DhS9JqNc/t+YVkrxa0ONc7nfNPNkL2qwL2+gbaBtIsFs/9wFQ1FYzmUfIFRM2Q1cn8gugS+Ki2dzXkY5kVYj5M8GNcyU/HBfN3qz8hxlSnMdysfIrdy1ubEhNmSWjfL2+26Kk8soRyXuRTc7QE021JBitiiMa8/1VDiMuSxgAbX0uqE7mi9Jdh8sdUmv3o+AEwqpJ83aC5SMKPblL4T69kzqb7WTR2F7wXNgYxPDIhAI0C+31gfbNmGbYYtzdoOjOt62UyVTGa0GCq6aZlF1B1f3EE1o38Ka2fAMgK/1Oc9qWleWoW00J24jgx0lkDfbnIP5bIbSIsrhJISzps9BQhvXE1VhKYF2pVlHP8O9F5mdVwzL0bM/m3dvhjXGeQO2+ztUE5muPuX9Xcgt8rIVzC2NxjjMp93TyhVG3QdBxh7lq5IciSMkeWIqaj2vhRFSThZbX5gMAEyRB+7VGSNFRwh1sb9JJITrmnzgF2J33ffwshAmjHaVn65uSa7lZnv1yuDB8wQQLY0GAI9sIzbTCvMjWGDS8m1FeasLKmmZabhvHMDgocEBhztQYgFHKJoyHVPnqY6MgyzlCRFmZfIoCzIo0fS5wGlzzXpK2w3Wu7zTJvD+9N/C8URhCXeOrKLma3bFHaud0oOQlWaVLM2B/KxOWQbcyCpjYdlNlotEFb1pkE0tdUilqw9c57YRWqRQW3bFpVuYAb7q87TDdzfHwwEdtZaYthcvFLFpxS1VVs1ailWcCbdybxqFtnuLjFwW7GkXmoHba7I/V7MqqmzGYgYNzJz2dgKIFsYf3j8KEkuULViejYqgYUX4n7Oo47nLacGEd4aHE59DvRvKaOjOffE8AXpY3jFLAlwx4+rsPoaSAZUBXmag/5e5l9pIPWv4DA+fkw33VYTAg/kqM1UrvsFcypO5q0em3kDDbForNST4/BQ3I2wENEoWmJJXHtAYmFcMnC2WRuZpJoJDdvrRITKZ2L2yBsMNYZt2JwOtOl4AGL8glT05koFw1S0CFzIa5mnWAlwhQFlZUgOtjmcEcO3CpmGbXbFbHox3/RWM5TFbO/OMSszkHcHUvfdHM3k4xBsr1RkElHi0VSgYtDFEKSy5D3hyhxQEoNQMfsnPDE4CpmAqFKAZKhk2Awp+3N276HxX8OIPLBmqEJzcieFEGnGncwiIzBNDIi/+zv3Z7DzmNFUiZy12Ut1fVJgbgwRIiAZ97zMjENyt9W8yOr1q2YaC+fJbF5r9CigSKTc5S3notUKIwoXDEzn8wsIpnB5nBF8i3K2SfPWxZVX6tlxtOJBjN2r3U2Ww6JzJL2YWQqJgfgHMwDahyDcTmMV9bbM2gyOAaCKSIb3ZOBmhwpmW6yalhmBQJ9hXsYD6L2zELAZKz8RnOfSqBjgHHdCIU3HfM9LHhgvsgDBoMePk9dXZK4hJFoNGTav23oVmfNCLA94H38TJEyYe5mj+PAIYNDdzIQ3nwjDNpMjED27htgTMgcwVDDnAeZl9kxhynrhX2RmWOZ+V4wgQlFPOmpMAr6nVDpuMwTtZWcTKAiDriQG8A0VTuMeq4L7zJqX6Pdg/+f3FdI+d4BxLXOBABTjQx/jwDggJ20+ChL5Z8k2LvM975xz3xynBQF4021EgBGJGhH/J0bxwhSyAME2Q6oyh7Eglx1v4O4ohn4jZghzcItbBAOmUTMaQoaxNB2pGRHQtlVy2MYi/wpwKfNgxMaM6m+MZia1MKZtJojj1g31uipD1Eaja1xmzrtvSFGtNkF2TEsWTDHURRdb5Z+Fl/IVlb3Ar9PbQ7EcEFt4oHoBXHqB559N1JU6axZUmztyMZzcBQl+hEYljsxCWnEnsyYZD3CgYMQIqclWlNOeIgnHbO7dBm6MC4RVimKxpMUspMeNyywv7jH+/qFuYHB+kvAuDTGGnVEdZc4yS+mmWjrHyxTWH0YQ3DXCe77zHigmzZuBOxF/XiVjUwpIqnhsJIPh5ztE3sosYs7PGJAdzQTqGLr4zQHRidKBORu0mSz6bGa/2debw5owa09gzMuMthdxM0YABEX5OwQ0kl3l6OO4MTvn8pjybXt0j1Pg1/EwBhJhN448xejGgJ/0SXM5oEm0UJuxALjTstV+52LmQhW4jfW6BgAkVZIZOWhzGFAwO0JXBYSi43ohR2VeW5leyRb50uVKuCrqu4JYJWKZb1XSNNSi/FN68MI41786QNs5Mul5MoYvQpggAW2zZhNLiCAkxMXABeiP79PklzJbpk4z2FpIcNZv24HsDJTcjM1VqO3CTHBnFwZUTgfbrMwgznvnTWus/tgzvV9vSuUswD5T7EOAUasGxoojojnUEpjXCVcM4sOI8pAHEqQ5cxmzkydwrWlHgPHa9WL2BNJ5MoqomAuZDcj7bJYxH1XVM0acbSOdI4xbZYaNYzaTstTkNJuxuRVSGDCDsWialnlMoktW0gYvjO0Cf/7LC7bNVP51f2UgcPAh8KKrKQjixdJiFTfkOnnJfnPm8tDnmCrs8Hj9oWdRYw4AzPL9MC72st3MfAKo9aFhRIWMMEAaIh7NVpExaTNaELIw37SkWTQv6doLs4lUT8uM127OEzJ+aaRCgRqFEJ1SVFVLg4de3tDKXAy5EMsl5BjNUr9H6so9jYuIMFSMUbNQpE7nKDaTUJmFLJhfMIGDSMhLma3gOmNKI5EjOMd9vcKmYOnZczZrM5n3dcsHmV3FzBRySRShLjAnZobVFSLNwsg4AfFNoEaItFTLsF3XVFFWRi2umkR/W7swYg58RkzzT8SkuffMtKPXs/QFHvBSikwkYIVD7mbO6NchhPc9H5iDQQmqZc5mXELhuhbMyYgQtqYKLpgFG5b5b28rC/kXjxJE9M/KH/4TOBv5ICCawUDRTLKnGejXtTlu7rR5LcleQCk23I+F72XeJH9h5HqDqiTGTdos47muTuYHEgqmZV4ajZrO1m0EgEWDmpe6BuQlzU1rMxejzPH+9HM17W3oDC0BXyK786hVh6AAfgHfijPRommzyEtTEtYDFkHybCAGhepaZplsSdOLtnzGBqya7Rq2ucjDDCVyVMBpyb5hmcU8gDVujFs3/YOgWtcvnrVtCCH+9VwYkvktGUMQToxT2o8TpP71JFQTMGwW8MUsh90w2gbVnEoE9Wf9cyXzMsExNEd3KsLH/JMLBrYbthkAG9EVKBvH2PYIJEAzN8HMzDn+l+exTd2Mgeya1i9tmwSdDNnhFnPRMphcaUXWV4BI9B+fBu61S8phs4wL8rc1dn/5D0AGFflkWBll5+EaPZcyS8dSEqxc1f1m0AAGoylhQw7aLJI1clQzvTRTeS1UGNx7T5ZMy3yHAFpfLWQbQXJUVTTj6DwDq4SkC2wKNmQkY15VYhRPnjYUI0PIx/Hhx4HpvUo1a1afUgVDV/FtunyQLI3AaJY1oZB3MsNYzE+qzlIMne4dx4wXkJo0s8QYtLkh15XI68SQwUsFSca0zJz3zrnfldyGI4EQg/n14bQkVRti4L2yNoMb3PMi1DOvq1C02GLWdua1555kZB4YepxbgjFrFsrmv3zzlUERXB+IL5B+H25lTuvpV7BCSo7MUHBBCga4sk3bLAw9YU5hIgWrNoCVaFxmpOeT7L6LVqwkgW8bWy3wShScmBsj+NBK7NfpSnrmFlagIGWoBenPM35e3SLDAbDV4xD6+P82aq5Gy4zld5dGUlXVEpYZ0igpCp9rmXfYqGi9GBMgQoUiGYm61qjN6zZCBpqbF0g7QCMjMa9pmcVwZaBHW6UQgjQFgbOqhiskrhIZhP48Qv1gOq8sZTBnpuA9fKr61BPI7rIJ1bLPqJlNFfOR5s0eK+b98QqDSCbKZxWWupmZo1klINDLfGcACjA5iLUhGGpumLfMpEmbOQ42mi0xoJqlDbMJxmz3sMx9BJYvADns9RN/GA0gQi7gUiKB+8ps/be5N1lLAeCGwVKTE7rg4wWayhhr2BwepcqVZqsZmWOogsrcqnDdybz8AI/Zc4ykq97/4zJOS8aCyXMwa3PvNYC99KKZfl+FaXZGymdlFkjoYrwzZbJGqJlEKHMQqHHYu7iDMcOYn/6AYw0kgNwgtLKct2IlkMeqIAIJlZ43aZZhBIWD0IwfzJJXGqnIDeSlzPuAY8Nzbg9TjPAko/DWvWZthkTNHmaFSHNhAFoYQI7LLHIKQqwzDEC58xIlEY7v4IqpnFSPiFj4xI4uJFxIg9jMMRHyLOUq0YaNhlE4LPjyJacwyVDrtDmYFt83NrF4VSkdQM2Ymx3nWua1doDtiBMmFbRoWuJeyABKM2vzDUYzlzKKBETaXBg7wsjMD+44AgifcfC+IcSGysgljrnw5ISEjnTLVRMzvumhPGT3XTMGlV16Q7CkiIDgBSANsxcYNVNZFUtV2BThhNF3SigY6iVshopxK3MYy+x43yIpJkUBgsd7AnLU5qTXA9T1sScuBWNi5lmF7d5oZZi+E81aNjBYzgvG7SzHrb9IDDxlzvrSNodLx72J6Q3oFtBchgmxjdQ4RhbMaHtft3UYqk9HakfVSMX5wLiWGY+pH7ZVapuSEBmge6uGbT4dIGBwtS9jbC44MqZltss+UdG4+aBbVGZskDoeW21OQrzHwDLjtKvMIzen5GTAUYye0t1/GDVrztHGbNsnY7+uZ1zLPJod8/X/xN4EVoBShNsya/PpANY9TnDEDct8AABWUDggklQAAFBTAZ0BKrAE6AE+USaRRqOiIaEilHiYcAoJZW78f45Fnj4A/jf4AfXg4Ohn/j/yo8qilvWv7z+wf9r/Yf5qap/VP7V+lv6p+vHOoV75d/i/5V/k/67/lP+B/jv/////vJ/i/8x/Nv2d+WH6D/4X9o+AL+I/yP/Gf2D/Zf8P/A//////Cr7lf6Z/0fUB/Ov7D/0f9h+//y+f53/Yf3T3Df0z/V/9v3AP6D/Yv+h+d/zIf8b9//gJ/df2AP5z/hP+J+efy1f6//y/6b98f/T9jf7R/+v/Rf67///+f7C/5f/c/+9+1///+QD/p+oB/sf/17nv8A/f/3f+rX9Q/ID3Y/Efyf+9/1//Jf6P+pelv4/8w/dfy+/vXK16w8Xf4Q/g/4fzj/7X+L8Rfyn9L/5v+L9gL8S/kn+p/svq9fY/9LtmdZ/zH/d/0/sC+un2D/v/4b/CeTh/zf2/1F/PP8b/0f8p8AH88/rX/a9H/8F/3P8l+//oN/R/8v+5vwAfzj+of9T++f5n9j/pR/iP/D/j/8p+5vsj/Qv8f/5f9D/q/kC/mX9a/6/+G/0PvUf9n/b/v/8yv2o/8P5//R3+sH/R/P8Po6x1jrHWOsdY6x1jrHWOsdY6x1jrHWOsdY6x1jrHWOsdY6x1jrHWOsdY6x1jrHWOsdY6x1jrHWOsdY6x1jrHWOsdY6x1jrHWOsdY6x1jrHWOsdY6x1jrHWOsdY6x1jrHWOsdY6x1jrHWOsdY6x1jrHWOsdY6x1jrHWOsdY6x1jrHWOsdY6x1jrHWOsdY6x1jqxuikegDyYF0FxCfkGk/2f9cV2A4C43PHFZajh06nHnJ6xt7Hgl6wG/8xm84/z9/9Z0Rmilp9HrVlDiLb0T0lFlN2lMdRvdSi7AVAg9/CRiaSxJUAFmp8YMCpKcUobjL4bJQ4ANIe0sLDUnB/1hYJAmv1QpOglp5Y66pILdAmR2ovFhkFq0UrRG1Z2camL2zBPyOO8e07EO0+JvS6rPoXprjU+vp5BVrpX/yqKEkr/2gj10jFuCT/HiGToCuD7xEZbRAzGGMMYYwxhjDGGGR5uhK6sedvGJYRqIGYwxhjDGGMMYYwxhi7axMHG6ZGW0QMxhjDGGMMYYwxdqltaTK7HGMGqIzlSNA1EDMYYwxhjDGGMMYYwxhhip9iyYDrHWOsdY6x1jrHWOsdYuLlBz7eeVpJaIGTwpK8Tt8/bFrAgXZuzdmxAK9KY7jXnrDf0WjAEC7N0zIRizeMgXZuzdm7N2bs3Zuzdm6YrYCR8nbTIyjt5rbdBprvRP++4GdtMjLaIFbWOEFuK5OS0yXEuJaJKokVlICQEgJASAkBICQEgJARlk2UreLNfj13WDytsTtES9kmYP4BOrOgGIgKXz9hmkLkhzpAuzdmvnmrH9yqd+SINQtzBZTQ+gU/0ZQrM+Zr/TWKgku6uE25x4lwgAUVsmyaIGYwxhjDGGMMYYwxhi7lmD0I15xZrZglxxuX4VTGpjh/r77FqRD1yMm7TSsnLcytY4OrTWkjCk7B8N0ZGUI0SlkonTxnhTN2a8sgzCOH47u/+4RZoeQ5WkNYlRo4EiXEgSZGw/iXEuJcS4lxLiXEuJcS4Pw6daeixplyZlBJd+9ZuJhgVhmGi7lH5s/n1xsoJq7UgzJVpaYdqyFPCR5P8sUx+sq3lpI1LdPOevyiDi5oqCHrplvwzf9tELthmMMYYwxhjDGGMMYYwxdpkpcUtPQCoujScwP7bRAzDRd6oIofDwn5ReKCX/YkeWqoWYvYo6x1i7/IR7CcQF0RDbWV6oI+3iAq1u6aAgXZuzdm7N2bs3Zuzdk4SEUVvNa25usH+pr/wPbR+8z/VMHv1jM+IoDCcHPWut1XQCIR+FM5eEWFstKMjLaFpf+DTns5duPzbUYCaZjVM1ziXEuJcS4lxLiXEuJcS4P3YvgwOJD2OcemWt3Wl4O3/epMNitKcG8hmo37BeDxTliNUI+WduQRuEEKJ/9j+fNGjMVCtZrwz8mmnOQJ06BVV7Y27w4Kd5zOFr2mGYCewwuDT01+XEuJcS4lxLiXEuJcSDJuSCbydR13Xd4suoj6r1xsODgWTqjmvtbTTtJpje6x6eMo8yAkiogoh69PCFZYrPx4gzNpBTDMXrV1oFwVw3W1KMm35HX5cS4lxLiXEuJcS4lxLROdsFEjvyf1J0iQfoK7/aZGW0QUGEhkqAj3jzDpttJfgOsc2BuyIAFGAfpCevUYNUZGW0QMxhjDGGMMYYwxhPYSPW4xrH+WRtgCeovma/LiXEgA7MYSqh//l1rdF/HENl+xG7N2bs190HavO9HURPuV2UgJASAkBICQEgJASAkBGWHu404vynWU0qe4PpFaWdOLqLRwL2nZR3FBoNmiszBWjNlOCS+wtu35AwhzBXzjqOCbYhVUsBmGJwSFA92R+xIXSfZN1kD8Xdm90VBGFnVGRltEDMYYwxhjDGGMMYT6t5PCwkZlnWGTXaYWuJrD5w1uf4XQ8NS5sdZFq8Tw4PnTEsu4c0mC5NGBxAIr5o6dG7pZJTGZHNvxHjxmiy6S8xjpfZOBEneG7N2bs3Zuzdm7N2bs3ZsOSJXFLTcobt4szvd20/2J0azdmvvJ9sDJd1dNPfTfGOMSgukI6E3Zg9f2vRAuzdJntAGcav+00YnW0ClFX8S4lxLiXEuJcS4lxLiXCAs9x81uJBBHiajWGgmN911W5Y1ECs5JvlXmgTRjZ/fubbfoRlChhffYcRRnpWPJfAdY6swrA6DeG430EI5eh+i4NPTX5cS4lxLiXEuJcS4lxIMmLOUzcZaj3c9zIfdZMxvMNriMqXzjxHjdi2xA1neuWpcOKaH5aHHX98SPyynG7n3vb6W69Yh00A5VJY+BaxguPIKNC1gAJX8S4lxLiXEuJcS4lxLiXB9jD4NECvm4srVxav+Y1nHEwsBCMKoMpio+gfusL8BYmS/WMt1PrvqxtoEuiH2bs2MVJSK0ungH4x/IZ14K1wGUy2ZHufbZ21rzn3yIGytcQ0PXWQqAp42dp0EgIyUHOnrpr8uJcS4lxLiXEuJcS4kCSczaZGXh/CKojKgWS4lxLixVVEZOhBQGW0P0SHlgMjLaIGYwxhjDGGMMYYwn5ddFZWogZjDGGMMYYwxhjDGGMMYT25ws1RAuzdm7N2bs3Zuzdm7NfrWIXmjO1g1n6/TO+Ank3bkqtr6/t7pLcJJ2Aet4RIxzM5l4/XR9a8K6/KlUvj+28nWRl4tCXpRUIkom+DXQpj3VdRnLMoBO6QfbwhSrVW8AKF9eNLdGFiEPOz6QE9jgmXSLq+pJm6Mx7QmGiohryKablhL7wY3dBtxH4EpyfBv39T3vc/aoL36w5ZlAI8xP+59DDkZ9vDBbyP3YqkV/43+xQJZzReoU3+VbvZz8yj3/2aeeP7XCw9KXwZv6+P3s9m7N2bs3Zuzdm7N2bs3Zuzdm7N2bs3Zuzdm7N2bs3Zuzdm7N2bs3Zuzdm7N2bs3Zuzdm7N2bs3Zuzdm7N2bs3Zuzdm7N2bs3Zuzdm7N2bs3Zuzdm7N2bs3Zuzdm7N2bs3Zuzdm7N2bs3Zuzdm7N2bs3Zuzdm7N2bs3Zuzdm7N2bs3Zuzdm7N2bs3Zuzdm7N2a8AAP7eRgAAAAAAAAAAAAAABr6++sSTI74wVgvpC1gWqq7NjsABq4GaXisK5N5M/b1kagQU3hNPM83x8Q9pS+Koel9SllwK2h9xRo/GCHyJhM43L4MqY+X+rMkc26gqR89M9TBMAdBB0y/HDtJGPS/f2OhXzgnw11wijZoKrElo22E1DWCwwCALb8v6L3d0v3OjgiN7Rxih+ufiEGzMwwqRoYWytzvPD0dIaVqANmhqE3sx6kUs/ZQoRCIAJuD7fSAOTa7F75xsZPEWHKh99uUYSODA5uQMpWyzCYFWUozb8ZVHBdMUgC2tA4/svyeI+olB0z9r14mZIVhsErqBy3c8Dmq6juzEX6ImjBEzxgJl4+TDH9O7lYrfGjLJ88B4jsVkzawnP1dTrKSvTzMaz3JPDv2uJAgQhXmlNiWA6V76+iQAo/xcMbgIUu9pNE9HQ11KHtYUF26WMQFCiesiAU2OU50hB+jfo1wr3XaxLP/0RQ/9ZarFsFsXOwFG7Rqm4FUJijoZ6gBFA1+oTLWgsruDIewuXyWN6UWKDjjzyY2aaG3EbpYnO24NhonWsw9sASw6s7XrNhk+dkev8Ftvuuko0zOS/7Zf1+SYjoJt3e2akOMDA+qB2sFe9t/msZu5U6CXHZxW6tJeAu/Ovoj+V6rbDNR1HlQa/0+wyKb2cN2Sxo22E1CW3hVr4wcW7mUnGSZDZrSy+KxHsYONlnYpjYwCtReMczLC99F7rFqrnJPMuX29UHA2sSeVIfTenWunQQEkTQA+QhH2NZKgqfpO8EtDoys2GPc06OOByVSTDFei4Bi52mQ1tWGttUcVROsM1TBSZ0Sh1sUij/OjV79wmefyQF2ejnGoKuKq1cc+TAO+o0huNjWe5tnnYTaUnt2gkcW+eHKkN1EoOg9pZ3wexekCMk8k/myUXCJYMjMNnzCQVaMzjgi5NlhwEV08G1h+QkA399Bbdn3q9VhoR/hI9SHhPpA1E48uDVRQ6vp+lLShjB0OKf5d+Igr+QRG9fi1jIHBaRlwzD79H2Ujls7Qwy/NeJXUmZdRyeAHOVvmmES0+S4ZxLA07YBou3m58A6Lq8qBgfYZTrSOp7AhfQOU+oKPnPeCJCyhEcSeifQW0pUeLFTSZ7Ky+64CjY1XBoURDmfgQWz/+1rAA5IB7p2Qd9ACjq+OkNbQ+C6c7qsNx13KTthOoAk7xObgP+auid6tdV7vlNRaLmHUEGnuMjpV/0RcSUU4cS9RbTK9XibRZQxg6HLhEwBOdGOQlN6ke9vetJ2dnKumNR3lTKl4sM4hKkDPeycNrrY7wS0OQBHlcg3XmxYOHM6Mtf+abCBsITlI8m8JU2C86zP+ucSKiHfQo7RKVaeJ4vIn6ycwSZdOJFJbJXPwayCh2d1W5Kqb5Z+c9xycfxcVROsMjKXBkxpo/QWF4AWfjPSeerIjRhGuMj0dbtp2UQc6AUKRGL2BMpkZPZD6b0wJD2o6xV5XnHxdt6opfrb8TOZtrGDgOF8gfZKV0AD1HIQj6+o6p5NzY9MhbGPsDtiO3Yk2T2AJ9MDqJ0/ItGUFcPzUkZ8HJW1MuEgP7P4wUz8PLJ3guhlOKCt+GXTiRSAha0ymnlFPYspSfe2i6wGFd4tRYmG7CC7szuc/BrIKOv44EjaY8M8ijqR1XzdG9uJOCC+DQ8zaPd/wfL7z2OnoCy2/EwjfnfpSvjqGoudA32g5/O1Foa4vLa5aGu7LkTYk27LJIi+ArD9W71184YflS7NN2jiyPRHJmemd/69Dz6gETGPglodGVmwx7mnRTAN8BdMC4ACQNEAKmUCE8eDQynWkdT2A/Gi40BdUwHPvM8/kgLs9HONQVcVVq458mAd9RpFBG3ec9Qz879pZJel293BaCIJJlYcWhjLHfvZkz+PZoYElHO37YUSPy61buFW4JRC1jIHBaL4V93uiaHav1mWaPvHCydIa0enkS2NFpgWwS3jgBpet3XxvQuhIGytYsr+QRG9UFfyCI3qqbO1rmQ2rGIWTpD370L3mMlvufDm2xHgwV83ZLT5ga1EDReUz5LnXIl9p85vdexjJhkSrEDdvt46ncL++w/T31zcdvJAXZ6Ocagq4pOi8TiZN0HrTJcg9Gy+ED9xx3paiz7nsCJQOgxNlkLwO/EK2LVT7bRVbbhYUWSahP5qreNnmSTR4nNwIAL1YsRHgI1WqiZbIsV47Q3ZZJEWTMY660upHidwEwZgu9QmvYYMFqrySaHL68I+vqOazNgB/vdE0O1frMs0feOFk6RUOMrhuO4tVv1MBADnK2vLRTgY+aMeIBHNXjsOqZljbWZLKxA4bsILzrM/65xIqId9CjtEpVp4ni8ifqtMALR6jEcrjnyYB31HYc6K1irGmNdn2rHbnGsOCTmpILkGeZcWZHRZg2KnbK8Bh+u/d0TaVx0Zd/hFfQkKiJL+A2l0kZVBLHfhcr/WLZFivHaG7LJIi+Gv7nxN4y5WYhnI4l4m0WUMYOhy4RL/cAITHKjDLjpxHo3ifUSg6xiTvq6LadIETjDITR3nmiERt20BiN5BDIgmN+cEhPTKjuuDDoZV/r+zhXo3ifUSg6wShk0drM4V7eTGzTRJeCQo6VYwylRap5l52y3O/WTKs++IBf4mmxmsnb4HBZwvXjLlZh+2zxMuVJrJE0lDRGRQ/jnmrB/LALIa0SmfzE9uk73mqyMTG0T/YLosRWS9nspoBlph37t6+mGbEsB4rU/XPPoGrAR8e/poBobUZDH8PxBjRADUALoXNEIjO0jNm0jELmnpVsww9YBVJSMQnDw1H/nYdCQNlsUpw9Ke2HRH1FUEfkAWl1goc6uaLoXz6PChrALO3ATz1FK5rtiUJjTmIrAR2IZpF2jwPn/wHsgt0KDPdHEuBdwhiis63UFUACWeI+pm2h9JrJAWJfyOz0IijdvLl9u9RZgoDiFLXxTqUqJAj/8nL53BESk2L0/Lqbdl25lJSrZ5IdVLYOTfjtA3AcDOhaXI9uCqV0t7YJnqAT7QL0ZHXFlHy6WAr1pw57brdp7578U5YBV93yDtSD6PNqnyr2YCyRqaJTEOjUSQ6tyYJbTUnitBXwVPXQmcInw8eONqtoAADXhdSkJgEEGcbejXPfonPZKHkxpQWAUKremm+Dgg+DRxTVl2YwrFG6/OYZg9YB+gKFoLQ8VeiCEmVeLkoYGD8idghHcnuwJKLcaGy3Q9xjR0Kmi0w66+H5QSgXUIArNuIz1nLGv4ueeqonZe0usuq6eMhQPY6ROHWfnA8tFpwmYphZXwH2JhUPMJytr9Ko+X0MiMFABkU6qAjVuOpx+YkLiO1Fs40f1RGbVn2Xdl0W/gzPYEUDSdSpyWXuYtDVk9UXrubiiOCZ6mcUfBkQVheLMkl1zm4qayM+V/cj5+IIhP8bpSG5jxuBAX/QJ4Lq5AafyN6pdmqznOK4JoNaUvGrAm2GdthXgh9Ur/SMAk/ziA/So8fGd+wjwcjvvY4qfzgKs/n3BWZ3RXCbqZBNwzJZIur51Zu9v1nQHMJIyJ3+BM016KdamK9sJmdD+8O4AxVJh/PMum5zbYe2Pie/AaCW+QBTK3G8ide1vPrElhjG749fEvEVm6sQDJhsRVlVfXErxkIFTmOOxi/LrLyTH7qYOkLuVnaE7zqeTHMVmSYwlY6whf0jeKbfnUPu1P0rC9PKOiAxE3YvnNxuz8CKoNRgj/TI0+ikaWAXkmDKM3yZwVEJPENjY80TTCR2v3wHu4p9tzY6coeTBk1XOojqFF7BS4arIxNV4607y4KCv9Pr9ACJbrDjQuiJUwUE6CeMW3cBxvw4EZOms9bKC+kimQvRpyFFAI3gRYogyljNDarS2I+G5JxwwwDUw9Q97DRkcD9VVLk5rwoOdKUmPoUFv9xTXFzNSQfv/yL/ZHq7URcF878rens9shQSQG/3jnakn2E1Qku9AJ4PlSqihZP9cn/Z8g+bR8GLFVhciMpZkYnaLmak9GgCDOuqhv5nXMl+HoF6M1LNIPU4KSc0FMGmq0YmM+hEEr3a0+8uTQFW+LgKlugv3J77qlnXuYleAvY3rLm91/lUX9SMOAFil+QhcV+7GiYWEgiqkft8ojbLTCtFphpsFIYNg3tZQvPX7hiJhEaPCJEHStnqVGwrL8n4NagA8n9Iy4/gEijcojBLz/gPNlvNQQS/vAoh4aGEZ1gk3YIp+aRDTPsFtLteVvR1KQZias1T2FdZNbAiamVzD/iuNFwDtHy/KCsT2rE+1Bj2cpd90d7HZPTUPJz9ykMAxqaee13ipRsD/Lb/sqFxiIM+cWp6PJpeNn36k720MXpPS4SgMN/WlmSYXCzR8yFQj3faqOcoVJAv/ClOm7y/dmaJ6CHZKpWJy8V5Xyd8qoVOuywxUmHUPsWXl5ERGN/Xw06vBMAVJa8HuOuJNlnshJ8IryKoxMAKXyoJ+hWXmO2TX/BDqqA5zVtPFVOSiND2AlFTazCtlXCm72AtxWvT3ZpZS0ghlfLD91SvmzE8GElVuHRjKI7C9c8y1V2Obj2aWtgO5YdZlpVo0pUDTaHTXe+JFzB71xFMvDDjnODH10T5jR/EnM+8ijdX3fZqxfwfHXYkaZLe3cEvDRrZ1OZQg14JXvLdwxRAa+B2DbZrTupwLx9+3mSwYDcSLXQdBNVFcfKg+j6MXNlEOrJaA2SAQtq72JXo7zU74IgvvhzuJVJv1Mmnx76HClaA2b9DevTzWp8L/6CPNcodtq7L7grE2KMi9/j4Qv3rrz4BbKDN+kPAScwMa4LxaU0AhgfL8z6iahTP69uY8Q5p4TGXq9nlvL6UIBKRs0k5f+JOOoMxhnJlScCmPTH5FmZ1bf4NpYcvScHBHtx/t4XtFhtx3yXxgwEDXjIfxaHPiVg1RU8GhbpX9bWdFB1Miy2/3gXd7He4pESmmU3Dt6pm6XylcpdtEjsuqw/GhmvlATxE6jhkPeyN2pEuKPF4KpyR4R306KB6yPmAsXYKlnI34HJ+vzhQeFm/yhoUfNEYKJOsi8Anaerefl0Q9rSTYuzk7uLqr7J+JZU8YI0MvhCrGTNQkp+CH9tMkviJPIBm4XeHNPBJ/TYVOLbHKVTx5pQRCrTdNjqbsrmUd08fE+J8QNdmAIyy5nUmUg1DOWB3HvmIhphqNfxyN3PyvR/LaD9Bt2AE8nWOUtVKPWeGgJWEhxli55fV5G12R5zkBWDi60Qccl4gTyy3V8Cwlp81JaPoKG68wRLnrrdFYzoow3aFDXrfcT+rtUFXaX/9M+MIJEW6i08EYVz4ud7XNudg5SI3Nr/GHf4gZwQYX6yujXSJmBnhYze7khLcreAo2q9ov9VzMailtJPQ50FhH87wskFc8Qqrd5PMNn17jruKVwJx620J5pF1f6l3vFv8aAKY3FJfNUxc7Jxj9V6/61MPRGq+mnqlEChZixKDL3HgMAZjOlbiNJzGdc6oRRhBvWEmPPDH/dcMBrfsct5ml07HAUPtr9GPm+9dTp5rxRZtEnp6vABnH4oqsGb3QACrVNt+QoqSrtWpLGgyOYw+8KDJ0gjJbvg1rn5tm1DBILxx/p1I4+M/shCKxW1WggAr8peZFCA3pOztO1K58K416FPDRC1CmFe/39MMl3Lu0TLAUg7O1E+j2GFiqPp+VCZJ1515HBytH+5vVm8Tg2hzthAyIHpAhQDkG7m04issox/tVmGowitxdYrhkcyv/dhqYHAKX73C74V3nInAGTxIewB8Mgx2LEoCL+ZmFBI3UjNGoW3MKnII1loc7UfufSCD8xRoOnFQupfnSQ3/v02nKRkGRXNvJa4qcW53Fy7cHKMK4d3E9lPZomXY3QAmjLx3TXj1mVrWgpPRADTr7oQhhMe/Qjykyo+FRpPhv7VYwDu7Cs9gRAxWssYBiqigQmyKta0fsWSfATYB7uWuiOkCndDmE9EReP4hC1Pb6/q6iNmz+bgYH05rA07XjhN8BYxfgaoXMGjIzrsMgfI0JrWkQj8HPC9PbP8Lz3b5dvKzz7n5hSHEMJ/2ubwJDZnOtIk5UetL/pvtsbn+LcwF6emrFQowKx9jHXjQ5Zz46jx70GUewRhSMTREneOFSTBkWR3aK8/ihufVl6WHUJFgVwgjWBapq2QR+Dyhf1IyVTI2fVSpjl5xehJCZgyy0rp3aNGazmZizBlh06afs5tnx08ysFPWgAfpVIrVYrUq90zABQG2UjG8WODx+ma4wC0tXecbeZGYj0I0czvgoRA2M8j8jevyZTMJt5us9tCdvFS/RBdBcacWm8yNxzVc1PV7/3nbXKx8jxl6/RlQlz8RVFP8MsxfB0OBS61+BrXgYgWOvMggMcsjwFYxPW+InfVTatB8DDa2Tr1o+AO/yGjjqp1aMfsEkLHiJB8VQzpTMsc1fW2l2Uk1pN1sR+qJoPjC7DiEPWvO7vh3DVJg/02d+LHbO+ddWOrAutJl6oeY93arlLtObS6kgdKFPYCyFKbwDgpl1TlqgzzicTtrriQcLIT3V455/cOiRW1xwDaK0Xz8iOd1qo1Wd/JHWqhliIVv2Sw6XVCeBxVT5Dr3jDHsQozhxRZyMl3pK9MwwYgmT0p1QAYbS7p5yJvvbGM5+kNW/jIgpxYrTrjFSsY8Cp2jgtBnVOdQ+y9dPXlxERuqoQ3QjE71G9HslOUsPkDO3PYqtzE380fbEbQ0Wvs4BgI3uz4P+3Js5RSJ1OlvoaGaIDWSCHRhxb/0MO1HElBo06+NYP/H5PEsdOAePEbD5G9UgCCqVzqEjq54l3bCDyfs3ylhG5n3gYKV7DekaNx1dRAi0uSKaR2KB1zMpUna6yB3LuLSu4l7TumZ+UJ6LGwEWdc+R2aiF28TcCe9mr4G3pjEyRZ90oV1F6WAXzK+iDAgGkhjEYInlN5V83oFLBaBPYtj0RlglqfNWJbi58gaJ3S0jkI33T65bQC5nw9TtvtpaX4nZVFuh9nWgIQCyOyqxeIooC6J8SE/VFU4rEFtIwV3b/5vNSMtDGE0NdHlHK7TlWh0XNUYpq9lkSTFPvaewkT0r8TAeiMIPpAJaTmmuiNi4EZUJG81CFt0sElOBqHQMxfP6lumFMiv/wh8PYeMtOwHMN2fKmKsgkhpfnSw3u7ZnoBnjLAAQfjzXj1WaJv3BLCacKsBfM2Mmm+EPTDonx05eZZay3Gzef+JRzKUkKJfP5ZvsaOdVBrMfTQotXDeNHrYzOzOJgeyif2viYBDAK/o159mPCrXrRwyaeHF90RnCUId7n/tXUVusMm0t78s+DIi+aQ79IIIGTty9sqsmYIgnlKu2CJJ6+MyWlhzvAk/CPLcOPnbA4bhHHPJamCNPzqhgZfMNQ4656os0MWYTQhs+hYlltxy2HOGWp20c3Q3ROUjZNBb1jd6TJI8PyLzq4osn7LEdfKitQFmzFazIHN8EfZ2BLULVUy93SZKqeUgVAY2x9f2k0TfJgQTlPfbSVsC450CeRR47UIXJJLcs5NUMgCyaERTtksESXiexJIKFfLxYDS0u6ioThB9PwVAKmpxcA7VGOir31lLOLb1XUzjSmsuk7vdQ9+ovmS+giBhy9IwyfMXC+BLbSR7JJ6h9629NXGhEiWhQUqei/fTNx/VG/bGkxRf4/nBrpMtY3U3GMPY//9+EoEBNoxXKwlDC8LgF0LqLTghqCO585segAtOf9sI6cxqcmkSFcmqhSE1Onv/zBQfHDOLVbXTSejOkiHqAWXQ/vwrgmxu0y0IMYKbbodE+96dH/q/tioysRlia0/8Yt0ygYQqVn6Ed1cCkuPwuf9vpNBMO61wqkgWpz6oi4l5RJNKvfpLYsAAOGBLa1xxmGkcwtlM/hKM8S83cJathfahs8aT4anw3OddCjCtGZix8ekAa9TCypwF2gl0B3UMZWOoVP77F9KZclKxo0TYT0Gs7HmBQS7o88w6HWi9Dk6AtnKlg5k1eIuWC+CvzEvhfjwBtwDnKjDe/2/uuzSLKpYjBrbDjE4Bd3J2Xd+QYliJIj0+DOI1NmyCVJGm6Wcu7XtwlTgzEjEjgM9k9UAPCciul7CPvcomyFtyqX8oCQ1LGt/39kZ9tSeMPnrCpSj7OdyHRAmqkQYvFr268m//dhP/WSNZBLfMXnt2sy8ImWnqbE8qPSOjZyISiCFR+/1IAgIPjA0iic2GHrtmI3jeXsdCX4Pp40pBSk51tseZKtsQZaLXjFlRhwnAFF++mbjjqQhW8+ePt+GBaf5TluMDkJFwu10O+I8ew53rQtFhWnNSmfkKCSyBHLe4lymj71qthTjBZKn71CA+9B7ApOeqxT1Qbgidc1I5IiX/XRRgPXk+8fem2d+BdxeuUOudq1CN++Sc2embN5IWjXAH5+0SkQxq9M8QEwb+B8ZmDMa79ZKc2yavTNPz1Jy3QxV87brh2OVXfru7P5pGrMJuQAEqdEDtSoocybywfdzdoqmEC59qd3wlcskikA4XnoWO3czG6XfBhgiv1M9Xh0CHXzrUei/Gz0yTebLVJK93QHTxa2W1FdL13pkBamV9oafB7hwGHp3CVU7h4T8ivCx4YYbOCXRjLya0A/ww4nBf35B6/LjsE/9ZHrb85/l7AEQHMIGvb0HyWivgdgAANMwoywPD0nOF6X0iQEw2/nMDigDvGNeWcEx7cApxQ2DT5UTkJ7Ju8IAtDQ/OzZHzOzzFOOxs5++qxPuDbcN9DXFJD3KtrBMYbizu9m44NWDipc7ORAX6yhOUsSzF6cAbhyXDnORGQ9ADoAHJAJnNc1b5SOK2WR0GpYOxGNaIduTqP1g1CL/AcAwXIpalxVosHk25ZEuu28ZhfgLeXSP5qHdZOA/1CStCiCZX8JN7gbDGzoq92EEWdtZmU+pNADX42p/1I4SnRo7oKm/nX9EESFTuh4pYo7aBAHdryTBap/D/2lF7UYs7Iv2FroTr/8n3ZxfBYwRKl+Dn0rlDrA4wc+TWQB1ZDnNRoZN70FKI2QB5AvPGbec81rk9ToJCUvsAFCMlewcjDX+yk5By/IdCq0kwtRQZMht3SY9II23mqw8BE1CFwt8ZsZV7rfaSwxHvC0jUZp4zYbwHHaCAon3ueifgiU0W6Ax1fXgdIDOpDQE+of5TRRrYzBsnUB4IQ72sqBcBedsTp6nqhXtkk432LD4oM54H8qW20pJ83TR+3tza+dVTLIeGGGzOxBgE9w3ePmr3gwF9CN0dsUJqJxJFC3Go7J3hUoE11q1lqBKDMnCkZAxsaQwAJrFmVjlb52fOYfbhUNulbvibwrG+9Zt81JoFbswRhAPBWTqyuDRgme3nICvaAfICam4UkRJHEFDMBOBuPQFVzPOflsFJ/vIetipgfkFgntvSHLivvs1uaNfcQNdZanYvZgvUJjzB0+LbwV9Zynv0f8uDKLYA+HQGiCf+JMGEHzjZjSRPaGRveR4xaCGW3Qc4Q5u1ppOEKDdFfXyAKqouDCGrbXK2MVoxan0VRZjGKg+PZ5XQ+hXvz+6qSz6VulPli1vFYJm2DvLN5AuXFrSrV8ejxRXE7IutZGADUC1XF0EOJgkKkjsfOWe/mLwdRxbfeW7q36878q7K1NmRy1j91v1KqMiZu1tg8vCoRgUSMOZBDSNFuarDlSKrPh8AL3tqEC+lrB8I3tsfCDhtRYDtePbTR9ROcvW41BwKw8ZDdDHwH6XsLI60Rsk/bM4MbEbd0T6gNwq+ps1Pmfqxt7o8geZprmm8yj4ltwZu66kj9dwufSyq9rs6xd4OYHhBqJvSS+WyyIOPI0+XYPzXP7nSVguQEKSlf/Rh6Pc3U9f3ZZZgiKntnG3qmiKANR7OMSR1D36sU9LzwzhdmO9By+iuQqySpSMrCRLEIAa/HJhiegJPhp21iJc8/N/FbI63sA+5ObO/GOWHTzocKpTVn6zYP4KOKlSLb1JeJfBH3AFnMBYsfnolkYWedT11a1T5iN2sXnpgzQihXwkq9m/Ac82S1zkoxPTigYnWc2li5YyD9j8rJ/ZDZwB+V4eSCNv7+kpaY++bZ7Lb8630PGWsJUkRKme0G7UBtgqpZyU7ddDQgxA1v0z2qhInX9RUKeADaulm6mI8yLw03wZSvVvoUFX2yP8gfy7TUlzyElqkw/Umpoqy33iwai4uRxMnErVCaXWYMhdc4yKMwlQgLT996riVg9MBDmbxkmljeG+jfnhErAxCnS/8+7FqJEWssH7PnBbwhA4UkanY9qiDRGo8TfL57Qh2G9ySuE2c8+GXoAXIAPLn//yXRq5iqjQnxYz83BKK0UMrp4hKpM9LPEhcdhRv1jjNV2zqFPecr+exxPWSj9BG5Ve5XRtPXaAJEHD6mDvBzacPMzW+V/dhQEDZABcIf0qa69mC6qIBERyAoqrLdXBTsWUQetMO9uH1opQBma4+z3KeNjvup7b9s9q8QySP4yM+2VOGHsf3OnyXVIR1jUNHnyLp6ljkN7rthljUztn2EYxco2tHR1zCH8X44fGg6/0yMC3BE/O9gp6gpUHldoWEUwj2UbvN6QWiORlZxmEd2SIPMKwTAe3gG2LbqyCXVNMXg3yOG51KvVT8gGCG+YZKtC5JigzPznAkABLPF7qv5q4fbF1QSGgGiFNNAN8VWazu7MhT2VF/faAIAtwwkAxq2QIybdT/QjfK5PgdO8FzCYeEnsronXONWliJR0yhr9JagnFwt2rkzMu4OyIPDYsGvSlVbrFLoo3VAFakDktPFYw2ObN9bKiPyPDPFZwRS0xOdDvK2MVlcPhLxXFVlB07zJbz8CmGxbm/tI/knmR15pSgRlcnmG6nMCaY6gc7HXlBlOCHfql2kVH/Wcc9S+IeJeKf7j9Zcr6DaKiAGfFeziOsAwCvgWyc+kNRMynjjaOse7KyUJ6lZeQKB6llBOQPkfllBrFNi8jDkjdk1b6V4V5V9WiemVmYEJ/t1wOQnXORaeWiKG/YbqV92XNlkX9RDDNtgQRomeywcX18ccCLD1E4ZZsrjlwlt3nxS13FwrXD3BdYhZMWAACIu6PKQ4r51E4t2WlY045xRKR0OWXWnJ+JEzxMPr0d4hpFcJ6AtXTDEIoJ8CWWu+nVuDSO6tjBfPxMSXrh0xnP8sWaFMXxVF6NU4zUuyNDPZgXxQ+ifoABo4oH41e5s9mcB/w3KdDS6IFnOpIRf0wb8CriILHsgs3JwmC6Gfb6HB954N2xbbFgxsyWXeECDmdRziEU7TcdCmAWhp0A9Y/oKPS52NPGr2InPP6QiYV+8mLBGE8fi9jMvNuAnMZISuqyRxUN/5UkPgniwh6/QuGVpMETiP1/eEatV77ZogqTg7qxSoYuCUJGIls3I2kpi23DQAAwIEO0ze5L8zbaIDp8j3AH2iQDHKAC3mRGpU79Wdzr14vqVOhBG8r86SoGIHXf1w3IvJ+tWZIHb4WLxHxwZ6BSrn1SlHhnUZp4Qit6TiuK5xa5RQH3zuYU5ETT+6O/o5iKgsbw+FZT63mY3mcdXk5ZEc33ErSqD0lpZrleKlEfK03294/+dMnHYuAoMvrv04wP7AF27wpi7gjiI9yVFiZlq2GiKvux3X0gMpysQnaC2b0AyAsM/TgiVY3cCztWp72x0wWz/7l+HAAAkpgm+gRWQY2yZhBxBat+yz4IxSdrCnsIJej76W0NDi7prt4L8Gsx0QDFnxlQFLDM8ZVqx44bCNP2IMogJsOhTJlbcNvtlbLSzY1/xJtVRtkRC2V3itUrnXEqzINevFiB4SYeOpnJl8jJSCUQ/MYVwszI++RtM1C4pUgR6NV3bFXZSW6Hu5FpsLMzapK4+CxJ68oQqlOVAAnwYVoDVXey4NcDdVHY4nrhqSLIIrmXoecm5o65lkWYoulciF++LrwRkeJIl7RpgYqQ0KWZttUsNSk8/jQByylTq6VevQIDQDN6iYNbIUBWrf1sXpJI0mCLSHjp/qqfzlycW+mhY/xLI5X+A5MVGF4KIjbQVyq+V7PXSeCYdDiIwaWX1eOLQBZAfCJgBvXfbJ8tuFi/CNaq2Nn/zkypmUCo4vbx0EIAffGEtANwHCAq72K5Udu4BcPCl58jHAB4elmpaLNFS8Lb7X8xsmGi+wnoJYV1hPhyCRCa0Mdo8IaaWjSEfOoY2zIDGyYdXuG8UEO0IH/df8PZDIMwoJkmVlqaFgr2C5Pbt1b95QfPm3Tq/GwlSgTnyxhmTeT51uYWpGYQ96dNsAcI2e8GdqxMdSjVPJbl/JjXCU8asSFKK4EytAhC8AMffKJndOpdJTvd/VPuhkuOXn64AOOz5KZWKjF3x13krmZmR4RjGx6wMeUWTUPr9vraqOSV1ewQIlxUuNQsLF41tmLDOtf3WV8F2ZZpjGODQDNDlSqHaAx6dR1rNjZVVjFFqY+LPQIHEIx8Zi0n+HpX9PeCEilE+OUgVzzZ3Hf6ZM5x1H/8j6ilG8xnal1jxdkr2uj79EbmMGZMI6h6Ea26OTVgzoQKMImkxIt+tqmb1J78u//RSFueyLm9/UfzqHBE2cq/+73vMdKrv/rgtI6lE/xEj3jEMAV0tg/x9PpwezTJPCGe4x2/BgigsTuVdwSPy1NnUNzcp9D0kjYecusvbTMucX0wyHRMc4xIApZjMtoTOGEUuogQ+5HMbejUZYkYX4LsKnM4iRtfhjmM0M8Foh/wMjmdd2+XFR68xdNqWmYwpTg82a3si8015dChRx5D2/blbnPwdTItssTgNDqiwuZWPKWSQv6zww38ZT9ORCmeCiTBJXc/djRZLecUuS737WmF3SHuZlL+R1DSjTeWJPdpoNt79E50OXOjqu63Zckslcv+e6QrZdmsPPFdUqW+om018XBL3cp4UF1eT5wHlG4Digs/reaS4tZ91kOjbFQyHjozhznp+wYO/1tGQ1KYrSj+qNR14uqz7GiQrBsB+R/rooxnVhQ0Yh4krm95wSRC0udK7ilso8Ckpqx0tINu4V+2qxP3GyAAuIJHNjuSbiAAJoXn1O5oBURPXX8PUyBAFRQBq8EUCJBDB0130sxaRRKehKFbjMbWvYoAw1fEG+BtUIWtYhBFqyw9mIg3xVY35M6KIQcpMfnqrDGP06miIfneH/bau0oCS9+38eNguUOIQEFr8WFJywwVTM55WkyXEDlXMuivWg0P3ZYmwJ0Msok+G8tbpkq9TKcM2Oh7BeE0lrWASYXIviSlTodU0HigPaiwyESqBZEfnHmgiYykhYuAoRH3gLHWv/YwNRyoTgrD2CKNsLIZy+fjDSuW2ezuEEjdS2ZeOt8E+S+hb0f8REQx5gHNGA25tLYcgWkHYmFXZZssUvPAo6EuPA4K+ZQRotDlM9DFq3srtLdE4NY1z3CSQOmM1TDM+wlwPTQRFwqpp24EtE/M4Pan5vyYZeIq4Z0ddobRzx8yUfb+YT06DE1h5lrCzgFm0hfQhAhFxj/YPE6qyJAYfXY1uEm6bN0ZkqN45bbgA86gVCUVuCQe+BY8JoGtUUSt/Td4BM0cC0+rV8PwmOcM8f+nAJiulnOfIilsRse88JvCZ4vxSFadr8DlBgKRxV8TCxsfHRnVRRSQf4QpCrz/nqVgc8pC/qgiuOQ3o+4RkIuI8QVwDLmPcGy1objM4Q+O+l/FUw4J/45kDJCtfFRKDHkvyB7sp1gM9wfv842iDL52cx2LCARv2U+LTjuj+37+WojcAABkjUCYD3hdTk+gdyOCS52XCGCEufz1mGcYp80iRZJeAFdle6KOFk+1O++5HDXqUOyIKoYGq6+MOzi+OpXRFaZL1LYNzlHEE8xRMx5NxFd735ztDOmTNorxTP7hG0HhPGCPPH0J1KZPaoxQF4y92DAc/VuWRP92jkpKrkkjNhmAguiXOQr9BBxZmJwVoPysaePdy57ZvPT8yX8rxpv8OCurkr689fNXo6auv6jOnpVQ6dAYHBXpdPAAYJg3lMMez1BdUjVioAQvt9xaTKb7SvXzuHtTRl/uTxoGWY6oCyUiqZ8NFXMKrDLmbFF4IJ5RwelrO084F9e1mnrGlzq2NTTrOIMweOa8trdd5DhO4V6Ye7mP9YT1unGnFJJkIOtEFuVB5wUICa9pQRGd7v3O/sj54CeglYJ8Oj+f2T2m8zAoTO12/cyP3ca8nYIirz15XxZ1MufQ5eh3hMA2Yq8Ae0eJiCITy4HbYr3VaBRHmsKcyuW2/anYj8C+WEbldVWgr/2JsI9XY6z+UspD/1IvVgEDQYEQa/tePX9cYUmctF+Y6GnGqOMFUq5qPFo7fkHok26UknvjZi0C6E4U8tlDjiZlp775RSS3dChVc8wbu3usDka4lE5cMdC5NdDZJ52OTtZ21/aMDjtp1fod0BuOf6TXM3cGkeGoFX7OxbtVm+4HJnoiNTRNVg4EmJbAkBOO38LieVmjEOH2NTFF/FXmT+cPvcYRZXOVSDYrJNANXxdWlaWdmHhcOe9fgzRNx/WqpnqbG0rEOWmCNqfqLrKpP1v3EUQ8DU3mjlqDxImJGo2YivuuP+5F3OUjFpr7XlBpds7j5gdYOlOhkC73uUtBERa4zuk1N+aR3n7GSPk61258m2ogMv7Sjv7Q6b2u+A/0OBj1LUXeU2vgxjfZxinx/hb2ZQTF1yMp7lABRizE3Ru+2vaSlOonw+7JMo4JWrhfdPNAx94Alfdeem5qvd+zEQKiIFMQo2A2Ns+KQi49rGZ49LvOwSxEZCFHEb6HUez2FZFskYrT2vS+HOAmtE4WxicxD4o/ZZuBVxNfIFlpyf0HvgiIjJnG0q6s0QqdpTvpmiViIBBBNozaoJbRoAPorJdqoxDtmBEiZLRFkpiaWWbabOggC4+aZ+Pawj6MOE39JdYKScPGkKmpGD026MngHv5Tcok4AFwsABWqopSaLyT2yjcWmjyQj/XMaaIvEeqUJbvkJIs39Q98u3EaR5s6OUu34oB5My09FqtNA6Bn1SEtqqcjRQYhzTqchuhXHLiEzBe7JyxmTBOajjvZs0EaYTfjG9Z2vaMwDijOkAX2+4apgaVVYjvSLqXBhxsJcNgfgGg4BGSNwq/k+lJTq2roO8OqcQbDhVmXTO1ZIBLISdh+vp7sbss8efOTTrDgnpIymDmQt4erTxo+phTTud0tqOzRFc3UGcd9y+bW32TsfDecpVss97jyq7WeO8YdEu51wkzsWZiTpvHHMHhluuHdcACPECwV+sl6Pn2XbQQywSQ0unZyN5dq5FoWkbeyMZXmXPQef8QC19Tb5mQLP6zBYheGtOrlFZdWnxbbz14StBx22idkCj60iIkCdm7CoYJFobsyhNwUjsiAyjLueKmAu3tg/q+r9V7bpEzesXvL+TJHdVpKAICIXeAs6bKf35RxdzHjMO30dTCpplolCucVkm5YpPBD1te8JmenZ70TSTsjdv7sTujuv/d9hBz+Eb1VSp1S5o0uSTyQ96pq00R0vrH1MDfefGYSxwCPwkyv0AKW5bHaaJ898V0r6KygYMyKmZhApwgYhum2Zv6zxHGhM2qnfepr7gTpjWqY3sWGaRIPo4qUi/tOGjczUNaNi4NudS4RxS2OJtApEcGG17YbM6xRVH86FBSp7qDFJGmvo+5Dpq33YV0gcJdmivT0ZPce49ljk00cZ5Y43JsFbpGEKho9TQwj+bJqU2fBAkRCwM8oCxt9fd+kp4g6Q+p2MQNi+5ITSZmLTSrpzLAtQgnHt67CtppOMqc5tyAvtROHfpWgzEwfSpSs5SgXZ9/JQxM+QNUGjoZXXxFJSQUw7hkI6TpYDynGM2fX83uEoadZl6EvsP2GYs9z3pVZxfYAcYVnwJMIb+jM9igq10+/xC/bY7acSNM4gLnAon8mjQEWSOI/ohIGIA62wd0WEVnICDIaFiKDr8soJNgIxQGBZbCwPabmjDDKpGmb3i/Lhu4/LBK6QqjyqgsB4vxzxpwGl9pdHPYsF9T+CJl66HTaCY6ezawa2mnJxvJxFGq++5jre/hrVaAS5+XTfnUaf9rdk6cZ6uzy12iW3/+I+NpA5lyDvMbIXtn1iDeHEXq2yWYy27xbUMxJm/oJMgdWCq1254+DMFZRThhCRRA5RJVBiTcmSyDM3oD9pMKhDyOds02uvUyWAVGcXx6wU2iFMGmIGW5VgDNX2O9LPCoa0htfeVjjKxfopJHApHIcwa8t2s2VhVCi0DBanvyAHm33izKshbOUSfT49U6oUyaJ1b+DE/4hplHV4cu4V+Ii1tkPpdODPjkHlo7/pU1+dv0kqEvw+nDJC9SZwXcuN21+IXMgxFzQ58WH8ta8/MVMLH1oWKV1NvATuprLaokTIw9Hw9oQwlgNWVqM05OrTEVIEjBKIH1D9u6szHRZvfHYxAIdDmmcZItcL6RNdXt0MBYcHd27rMHpDHfVo1uofrVo7kyO4goKoJ5AiBqHkr4LgjZkyKTfj44ZZWdGKqGx2RbOmW040iUkKpZ9kRb70LpqbwtiZ/Cj1Whptr3behOgbIk2qJeCVfY8vZDF4gBUvx215lXbUGixXfvpC2CMSlaGSBXW5YUlJMpQads58PwAoEXKP0NbQZHmAkdEb9yjo1GpJ3518hNjBUwX/ovsOCn2AS+Fh04sY7AZx4fmel3GPWkF7+vnrN/r7Ky6vpp0+2dlQqGOsba2HkwhxWM9SFABQDp5gARFP2JKwYqafWquqAlQkSGJJO+VoaiaRzZ+sVQueiycv5d1YZq0B7rknbtkDICmdDBtp5NMVbKmjjll+fODRNCMuQWrGC1uIRJdVkivgLqUCXfm7JLH7GCNP2xa4WL/owr8vrkOyEYUZVaroGzBEVuAM0X1c1/6aSLzmG7Eu8GVFHlHPn4VaKxneTAuFIcG4wTuBwREPc1xVFcHiyGjq7uW6nfBaHRDX0NNAahm7eiz3x3Xwv8+dg3QrArBKBQOcNGPUfriKC4Kf2tmhohczuIKwPBjsqy+skDohbj7CTZufz7mLREoD4bpq7bEWnQQsXDWyMLvDRVF4r8lYpO+GUxb/NDrZ9iYHaiQyxAia+Rrms8NK4ftRFTW+VAb9+nV/Q5YuQIGjJjk9LnhaWSDExbg2dZuyszbw2K7t+ei25bQm6A6qaCh8+MWJnBjZsPQSgO/Cw3reem1eCjoN0sR+JD1B/A6dxLQeYEk++z689RRoWZ4MwLG/59VrDlFjd8icJrVx52W57lkuNLzz6tqa97hgxYdRHj04A8bXLECtvL24EB4Q7gtyoGYbLdSPs+yRFb+rS5/4JldHSaL600eK8ZBNutXrxTfD45pBCdvn/CmZ/cFfCzh9EqZlvSMEKmdpZ9Ti5mbQBkXS3TCuHWGW7WnK1rGbQckOctZuPExch+EhfurMX7GqFJ6XOsZLy6p/AaP2SLF/oa1SYLkkwPKwcXM74cmMimwsBmQiNBPxKv7f9FIfMU6He4ZmYLka9oeAIFacBGCR5C1O/F/JJr6DlXCO8uTpsyqRCqRmoqudML3zWzlmx8hQd7sHpXKSbdm7txiDpysoKzEEX8tzofVcdgvbfBMkdpupkG2TagITYzGvH3MZXcjuOlXx0Bt+8dIQQQkdkpCnEOYBjAEQUJzGjvG1tO4sjuUQ1/Y6zy1HEBCd/fLzfLyrS5RQ7IgKJD+U0M24N5upgTH2zpesxrf9Ee2i4lNKsEe7XCexuseE6FmGR9tYyMAzhznnHRk5b18Jx6Mj+xfmXD9UdSs7YTE8DLpsCeBELpTyecMJ5/K0OsQO9YEJFNnj1oVZfmMttXjBP9ZjcIFG6lHEzcG+seG4z/AgPhWxI3aEGvSNeZfyLhnrk1oD5h3FTtbYG8zv7VI0WzC+S20dvl4wIz4xzFbmrFmQ5y+3PK5NviQYljxbfd+q5NHv5cxecudc/yGzFrbs18qju5e8GtbjYBJbuPkCntzZMaGP09l7FacbWeIHVp1plvo328KnfTkRMhNwdILbZd5Gj+WnQW8i9NiwR3yR6euf1sfBPCmN2eSBPLKB0livWIfQJS4/jQUJy7nGQXkrBGxUm8GrXn2nE8jZLNZEL7Nq/z4PuT7kvI5Fyp6YgWy5mExHa9VN/q3LZJJ0w72H0tcTDlS9MBmPWKKOF6r5cVHzb8/2/VbkVP+CkVGQWWNYIWpbH/G7yAhEJXS9HgXm6ypfn/RwEdD/RCf+THY1EvEeeD3kOFxpztFPi/UHAva2uL1EnzP2S+Zov2DnHZgtXMeLymRGNpv6TxCa+D1iSOU6Zu8ufQ+ufTp6kd7Q0FE8W5XMQeV9eHz3iodj5ELaLVXnzXkUgtp0wZz5J7Fb70hWk3hO/e4xC/7ze3b0Qthyir/jkRu4Gx1i/JlSzN3kYH+jG/rLhUPXgm/ZLZ/UNpdvElDynpZYe67nuvaRtgPJVTfZmwHsI+yrc91JKR/aF1bQPFPwuN0fqpyJtzmmU2ub0qXs6f8CE/8szTS+z/LMBGzeEWrrghQ7QvR4cZH4PewLDmszlcOV8u1BXHbD4ARP1v8TujUMDoUwpCDSQgrhWWj2l2lwayWPbEXyLh2A2s4+22ZTXuh6fMeXYnp/BT3U+t0PHo0Gb8tmhzHDNzTHS1IsVcxGu+n6M1wOURCnO5jbYToYIMLj8eG6thGVQlKSAoP9x/J2cNY8s8YzkAhujbxjHD9ITikv0jPSmBbpLO7gbTPA84mBWHmAg1NP7+Ab7Nsou+f945SffRvFYxV1FpZcZ9s+djgbnadVlLCzTwKfzZ811gq97Weq8JqbogfeKUKSLQpF17OTtGJTQzSWsLPY4fsNVrmQwKfSkiOXfw0qJ5EeFNEScMgCjtj20dukIgvCXEgEDzwHtO8iO4bBHHTb24wmV2/s+sEXsdkpyJOAQJlxMvL5w5JZcoyiqH5WJFwP+CDmRPV4P00FylAD6TKBWe7PV5+v942KIUh+txBISFg7fZLCxbILVK8J/+LtPAKxUNy7W1fTvyqHOY9btnuEjUwL33iNnhEQFv3pz+GH8EA2UUHTpQfDBEtk6O20dQCM/efcOHYuVpixI2TF0Ny6fL3RkeGRhZ4cjA+Y1+bd4oLEPtWmPayUKsDGWNB8YNgyKn0l05sEnz5jjv4ZjWfzpXCF9O0vtymFU/BlVvRXLXGcAPJnJVBYsPcY6Ckg9DWbmDQyHaNBvYU+9GGz96SmmFMSfVAG4Ort/9GYKXqlwCWyt+35Obi6CuR281QW23zT8m1HjZmHnW5AIkrqVLJBQKBGHNLxJdAHzhqKxhK220/1D6yGC78GNcB8VmHP/p1tuLJ9PC5NfwOHcmzE28kZBrDeIYEDou8k8yqEWpcgOM/ClV82JTnL2eQbrLcvrqDdpQrExQHTLy23RWbeXdMMKdjaH99YABW5Q3AnloFm08E77Y/ANLAk6TcC/gA0Prb9EP9W2lpdAFCFN7FIHh470j71VssLdbuypm+ImrDhBOBMl3O8OvI7fI0UGIQfesLU5B3IjpfDC6l71rG6m4xh7PShnIyEltMNwaqJJHDU0XFk42m2buH6upkXC/JCIAzjm5QZjWLeoNF4ZLxuRxpl8pl2urbL/u2/3H92Kzs3yvykMSOkHNc7hM7kMT+qZgrUkQ337OoMd4GC4+Dqc+oxgWGhhfQ75+iwqb63vW3xFzUimCypYxhYxT/NfyCr8dw+7EMK1OjCbWPfXqy4oFlpW7qKefzmwmotm0T7TPgtlEIMAtr+uce1rByOrI1qQA4eigL7m0dkYvNRLfiwy8wkNuiRu6EDr6vN7CjVqaokxWz8peZ9kpC5+ZSC8O4O90SPQ0fM9wAPzq9zMzk5fnavBOIzC6nV3ZopThpYUNRZVfK+lt0h0JalvKFh/G8d41oEJv03hKwXeHxPyOEGwfYyDCt4u+iuAgC+wfEhFTaZAGAYwit0N6umULRAEBpMkJM3B86r71nYYSedZqoTI3TB9SXXAKRifsY56ByHAYkL13WRYrKQuZQm+Ke2IP46NAILZ9EhSltE1DQ2wzUL+FkSwA3ZpzGzy99fbkFwgiToSDS0EK483NMNmV229lzmqWPWeuo+ikl/viZx88e61K3rywaDHbQbZftWh10m1iODUTBwbQaNGFFu84YlJXEfwe69nIOLpPMHFs+hjhOB15UNohIsJzZpHnyPKnXQuaNFBiEH8Fvso3VmaLIZQp4NV0p7kEvWjdFfb5VT8gcDbuzEzPavHqzChCosUhiwYEEZ/Zyjv2TH2GBCq9lvzsiplX2JHd9twMuEPmeInAkQFxi02TxZB8kFxUtluGvVw0wTExhkpFJRJfteqrKqRZH7Ztu1Bi3cfYDeSxwOat4TTcSN+b27bd1T59pYUcLdAezkxXbN1bZ1hc16UIAfB/BkKlR+VMuOfIEqZK291knMWsn8oA6njFNPmanf+VG+/VgQFF5G2xfZ3loaxWHiotoWI6qI4gkQcCGGN9n2+TosU7H97tRa/J0F2hN52SwnrUNzCuXtO3kJ8Vyt0ftV0oCbU6G4MP/yIt3EBOAAJBYM0QYEyBeJMh958GW+uwMnUzDvd+Uh+UfntgXyuKkGKvnamoe8FeN+9Byt0KBjX1e6L5gm87VT1TdQZ650Pe5HIMedDQmeldvMm3vNzW1G0zzwi0I/dAx8weNMhUjldupJGSHVdTjgGVcGKBao0AOGoJNXFKEwMRweEJr7IAkTwF3nE51XPdV9Z1MbsLw3YGx4ROrUvi3KfvJ9ibjVTngRZjD4ATa4Moj+VOLCoSly/ruK9F4dVh72AtucHmVaPq5jl+ycsviUg8/0kMU6tWwdAfW8UMRzX/pNDp5bM2yhc9R7uHpegr1SQxcMbrNA25r6sDC4XbpgMIhhnMNv/Xuqx0o6obZNJs+pL3H3Tce/xc8UYv5jyHdsQh6Lp6fJlyw4Z5QVTPHALTEMb/CMxxvUyBgVA/f1q/DbAhL/AVRFUz/gJX7q7HSOSm9qJVeJq7zwbmfVMnAX1Sfmeh7ubT+WpR065g/U4dp03CNKQ/wmQWVdHYF5cuRDNy7iWz1iE9nXl+31GRqUPvoU+gAGwIxDaZyCkw4Tn2LFImUHCbxqGMY9JZE6rr/pAhuhou0FFgayo84zECVfHBNvVYpQVWnXxccRKmaIAfIzNU8aiNuVfBfj32Fqm95UI0kem/+7h1yFs8ewixKNtC516pCutGL9zAScZkNQUZxD48cOmX5NrC8ZDZXRW+zAYT21yiVD7UY0luSrKa3n6hwn2FL09s6dLCbTco6/+VePSkwnci/kSSROUsuLM59Z/bUIWqV+ZFZQRgv9pnPlucZn4/Qx/NdJQyo/8cvJMIIXUIABaGT4jRnNY8qy29H/OaOdZZ6wQxFScn1xS/z7SPZXzJveT5UHeOZ9JDTTH1m6NGwxi4BWYKwWwfArqQY+l+MAtCjIs/MDGfE5PfKMFuGiK+cuO3Qp9N32dRJsXPhjeezE1JnzD95dvbiwXmIw4Puhv1XRwG5zR9boHEnLciFApVsR+R5+PMo/BuLkjBoBdRKGk6fcNPbyUX3ZoAqg54BTQCxyP+k7GarS6fzSxJQx+eOWGIpF44AJHgxWgg+bCremKAwDK2DyQHQrKWGVsMdWIOfbkXVHyRdjc1nwSEGXzFktL2FD0sMR7cC4p5WX8+qAOTC/JhI8FY34cN9vkJCTgVYjFOnRF9AFyqecyQ92z7KZiYecNei7nQ1McypvLujovzu0OcnIn4mEFJeglX5eVn0Rbn8qdBIv5cD3F2n4JXbqDbNHOu6kxSOKIv11/2/n79jaNmc/1NSOmM8fXnhHjvhkKXnzE5qXSq41vUT2iVpvzVKKKOwg17w30b8/WhhN5Q0zQgNrdov0q4C+ac1uyv4giRXFNsfl1ItCNi7PISvbCSMgVs6rbPWTrR8H7mcLEY4D+GdpUpvkHoi3w/MgGotSTJXBUC75MgEHL3VBhay/bqqAM/Cx8dcWpfT3AGRFH2C4XrsVes2d5gHRmcdmfuNS8+7MlxV2JM9oNuhpE1b+H41Mbip/q0Su/2YxBjoCVNnBn1AouY51aDwPr8hfVLilr8Do0TH9F3l5CF2VDtWG+2shqW1uqghOkVFY1JJxgCiUHlJbUm2wfIx90DEqozInbVhDqsEnVr+dk6WVIvo7gOyvNbZ7KZSN+hc20sREA12Nmxq8ea6+GPCIrVqidMDnJBEhDLI1aXbo6wzQjRRpfroS5nvyjjBqfJ0B6emlVM2wG5vWGbwg0U5De3C2MbiO2U7/0CM6kjFzAuszkQrCqilgnITj9cTYqQiXAQj4+08oW5IPExk4TRBKjBPz2OCdrF2HZtdjBuJKJWssJtNykWDxO4Af0VB5gjIS0vKEVcm8IhrriCuwvt3tvXnv3Q/8KW9GgNSufGb6ph2W6QlVjem48eNwxb62FFg1YDujwEdKA5Uq2i20SAeygfbgHSc27Ltpa9yKA7VCmLbQYLYVf/CXg1ARpeJ2TnY5SuzsDKnS0o115+PeL6lokKsWGDXUqaO3utzIrcraGnpM38ZsA5h7vDLRscj/hBiItNVs+atSlIFq18AIW8YWZseG+HDC9Het1MP2tU58AxpbUgABZlfmauCyPz4Yy4IFJDyMneRJPMw8u0FkFN0aVwaw9avpRldyazZrXqBvAsHAfiJ1HJV134W0CRa4IIS6R9RVCaZkbxBOoI/TYLsLwKv5AGdY0fnzE5mVhRi4t51HdtdcDpWBjNdh9QAAAAAAGNz9yRxuV65j+YZsK+XZosSIJGS1c1qtf6T7g4CDwhv6nCtfJrfWCWSBPWrc9fwkjDUJJ4MEslUsYgyZSb9DPC3YS6QFBOgAFDsIHFFzxgzqpHI3NkAC4YLuwHpom+vXwLWy8XUEIJwIEURtsVYVxbjXR1MRWE/KyOFEWURTjfy/ktlscAceM/Uuqz3QTPJ8QR2H1wN/5YCAxgZdRwI49fyqyWHZt2D8logR6tlx1LFP6Yq3y/bS83slRci03YBGEEJw7tgYIP8ElFft/anjMqKv2xmoz2PanMiB4DEKAwgd/AEzJFZpwB31qeg5k1pKGFFJr4zqtUP7Agc1ZHn3g+z5sIFOMOKthORjwJRKHQyeqoBU+MvUJlzaah+cRZoPuU4Me6n1r1FgYZ7STwfsDoKezTf/uF4FPZBUrVW3EUHMex+zJAvgXo3zSIVmlkz67fhGgYljD1o2AAax4zZt6DphA14xMeF0TnfNZrrO/AW6h+Xl+URoYgjomHumOHBJSdNpE7Dtxv5nIsFCFCgt6JiqLlTtFafQoYqtNts3oW/frBPhoyv8MQoW4gZbUHwxLPLEE+F+AeLYG3X3c3YFyheGZc2mofnEWaD6kz1CtMzX0llQTW4hWVr6xXAlLZ2losBILYVyThA1d6nfiaa/kvN3MRUeFBGVbz654ssURSwx255+sOs0a6M7VljAJ4Ob4ExamTmJaEBzMJtvyXAZmA0w710KkLZjhspiEyaE7rAgB+UefhiPTlYkxbewLq6s+yp4bHCY3WeHur4uxGjO9GObkLwTI7CaVHxmuoAcoyJfQzzm4tIlG/DpX6Y1rDR4K92m1fW8e1d9EOdokc5ztlQId7uzyXPXD6QSOA1e6E2STVFeZUcIIjmKGYK71y44YpNDAU4agNN9qd1XfiPYPuDnDrkgWbi8JdapBpB67/z7/nBARaQnG8W4HV6Fodu1DvGBgB6KjI/30DE0wTEFX5yfRfjBdHzmfezbDI7mJaECzwhS/rdevLzpU9VLd6CGZfP2I4j0NLR4TML6VT2vyP/3JN+9DhMVJRkZrPtQgCpb8TV41G6W2USqs9j8S4QKIBhhuVlFQuVwfT3ArLjzBCksCZIQM/V0XtFdNpnFZ5BbkMx8RdKwhdrqwcJWW9QEV2+McyVs8gTFpiBsaT/NaWpkoUux7ibIwYM3tGCRK5iWhAcVLjPGiO1iKVOtB330bjQjC6DK3pGQ40d+A36fHtRZY1/kan3MrZFhf63j44tgXVY7Y5Cfi87H2CkuI3Mkn7cuklmMtBC7OCMqNGV/hiaWnQlUPS9s4oXtn6tISyLJLlRon3gXhXcHOHXJAbDq8mC93+CPbf3k6v+paWTVjJwq4GT/NaWpnG5j41KpdfhVawF5poC49x+UIM1bSI52ac+VGK+9UFXi0fDwadr+AbFcadZqk9XLWXtXLfgMyUYOrVeuvu5uyrU5eproEmNtR5PxRU/WICopfpYwB34mrxr8uGXCCp3gAqVQ8aoprOvBnXRBwgbkAclUlkWHW+OMswbN8S4QOp73Ni3ocr+v1a94673l4X94/7FYMs1TKOHBJQJiu78yp5ziS78R8TWFRZng9ZcwpdlBLUyUKXY9xNcoK9sXGkesKBSkoTJqPlok+/9fDdjm3BAy2NGFqW3fxhCLwQi1i0KpaC8lcOWNol0J5xFS0H9GUTa/Fkki1+pA61YodXsOKkjYGp7vQcrjgDF0ic6zRcSpqTHLnUKQPSgioCrf28tvp5Wsei1BEcxQzBXeuXHDFJoYCnDUBpvtTuq78R7B9uLpz3WB141RWbNEvOKToYcH/nBARaQnG8W4HV6Fodu1DvGBgB6KjI/3jeSTkJT0cVGNcXPSoOM9IMPwyO5iWhAs8IUv63Xry86VPVS3eghmXz9iOI5AVaBAKsV26nu5vIsLZ4RWCUBSE9efwU/gyQqW/E1eNRultlEqrPY/EuEDHxkUfy69FvvdCbJJqivMqC5+wvI3O/V0XtFdNpnFZ5BbkMx8RdKwhdrrEBOcLUO2Lz3U9i6/GclqpxhsaT/NaWpkoUux7ibIwYM3tGCRK5iWhAcVLhUAENG0dylgL3puU9EaXQZW9IyHGjvwG/T49qLLGv8jU+5lbIsL/W8cN4xJF7MRs0J+MV3De5wrBP/M5lfyCi7aOVxwBi6ROdZoxfRss3SX2BwwDE0zkUhbApnIsP8ZScletzUvP9eWO+CDfjPcvsrEY7gk99ZHRIJLtngdROtX7fcZ1BMaozM44nRbZzcEEeQ5LQVmCQ5H0x1a7Tln0IhJKmibipBSRC5p0TDE5VLtCFQaQwUvQsBsAzaTfnoNFDYyAguQcIujGH9kqDYc9E/2dmHzmIa1YDlnh4afo97HLCYtCJqgHt3CRRI5jPJfaJQeAgXhHFIpbjymKhzWqkzxYKw0fNiy/FM4IuxMWqIfB4J1AJNi5hduPUNdThMLj61cMrRsn8b8pBSh2IpA9OfQ1mUVXE7+VtJRQNKzMXEyYde7CFuvPjqSOdEWfqOA3bibW6J7u8kNrfJlwi+aRPh7HSD0ApstLzRR2tHDm7mHBYAAAAAAAAAAAAAAAAAAAA)"
      ],
      "metadata": {
        "id": "9o_dZLf-44m2"
      }
    },
    {
      "cell_type": "markdown",
      "source": [
        "Subset\n",
        "\n",
        "\n",
        "![subset.png](data:image/png;base64,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)"
      ],
      "metadata": {
        "id": "HKbfS6Gp4_Jm"
      }
    },
    {
      "cell_type": "markdown",
      "source": [
        "Superset\n",
        "![superset.png](data:image/png;base64,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)"
      ],
      "metadata": {
        "id": "PkoagUcL5J11"
      }
    },
    {
      "cell_type": "code",
      "source": [
        "#isdisjoint\n",
        "a={1,2,3,4,5}\n",
        "b={6,7,8,9,10}\n",
        "final= set.isdisjoint(a,b)\n",
        "print(final)"
      ],
      "metadata": {
        "colab": {
          "base_uri": "https://localhost:8080/"
        },
        "id": "6OWUk3IMf5l7",
        "outputId": "7d369dea-8e79-417b-d534-ca2cdeef0116"
      },
      "execution_count": 75,
      "outputs": [
        {
          "output_type": "stream",
          "name": "stdout",
          "text": [
            "True\n"
          ]
        }
      ]
    },
    {
      "cell_type": "code",
      "source": [
        "#issubset\n",
        "a={1,2,3,4,5}\n",
        "b={1,2,3,4,5,6,7,8,9}\n",
        "final = set.issubset(a,b)\n",
        "print(final)"
      ],
      "metadata": {
        "colab": {
          "base_uri": "https://localhost:8080/"
        },
        "id": "Voax2jYp7KwV",
        "outputId": "309a36f2-7926-4055-af27-6d965e75cf4e"
      },
      "execution_count": 77,
      "outputs": [
        {
          "output_type": "stream",
          "name": "stdout",
          "text": [
            "True\n"
          ]
        }
      ]
    },
    {
      "cell_type": "code",
      "source": [
        "a={1,2,3,4,5}\n",
        "b={1,2,3,4,5,6,7,8,9}\n",
        "final = set.issuperset(b,a)\n",
        "print(final)"
      ],
      "metadata": {
        "colab": {
          "base_uri": "https://localhost:8080/"
        },
        "id": "r29KqKwa7bn9",
        "outputId": "baecd74b-63cc-4779-e6c1-e5533c891f86"
      },
      "execution_count": 78,
      "outputs": [
        {
          "output_type": "stream",
          "name": "stdout",
          "text": [
            "True\n"
          ]
        }
      ]
    },
    {
      "cell_type": "markdown",
      "source": [
        "\n",
        "\n",
        "---\n",
        "\n",
        "\n",
        "\n",
        "---\n",
        "\n"
      ],
      "metadata": {
        "id": "j4a85IQf7oDi"
      }
    },
    {
      "cell_type": "markdown",
      "source": [
        "#Pandas`s .is--\n",
        "\n",
        "##isna()\n",
        "\n"
      ],
      "metadata": {
        "id": "VdjbwtTqf8YT"
      }
    },
    {
      "cell_type": "code",
      "source": [
        "import pandas as pd"
      ],
      "metadata": {
        "id": "rC5t2_VanLsz"
      },
      "execution_count": 49,
      "outputs": []
    },
    {
      "cell_type": "code",
      "source": [
        "data.head()"
      ],
      "metadata": {
        "colab": {
          "base_uri": "https://localhost:8080/",
          "height": 357
        },
        "id": "lBjEvUw4qnYZ",
        "outputId": "cf5773ee-b2de-4084-e245-01365372bdca"
      },
      "execution_count": 54,
      "outputs": [
        {
          "output_type": "execute_result",
          "data": {
            "text/plain": [
              "  Item_Identifier  Item_Weight Item_Fat_Content  Item_Visibility  \\\n",
              "0           FDA15         9.30          Low Fat         0.016047   \n",
              "1           DRC01         5.92          Regular         0.019278   \n",
              "2           FDN15        17.50          Low Fat         0.016760   \n",
              "3           FDX07        19.20          Regular         0.000000   \n",
              "4           NCD19         8.93          Low Fat         0.000000   \n",
              "\n",
              "               Item_Type  Item_MRP Outlet_Identifier  \\\n",
              "0                  Dairy  249.8092            OUT049   \n",
              "1            Soft Drinks   48.2692            OUT018   \n",
              "2                   Meat  141.6180            OUT049   \n",
              "3  Fruits and Vegetables  182.0950            OUT010   \n",
              "4              Household   53.8614            OUT013   \n",
              "\n",
              "   Outlet_Establishment_Year Outlet_Size Outlet_Location_Type  \\\n",
              "0                       1999      Medium               Tier 1   \n",
              "1                       2009      Medium               Tier 3   \n",
              "2                       1999      Medium               Tier 1   \n",
              "3                       1998         NaN               Tier 3   \n",
              "4                       1987        High               Tier 3   \n",
              "\n",
              "         Outlet_Type  Item_Outlet_Sales  \n",
              "0  Supermarket Type1          3735.1380  \n",
              "1  Supermarket Type2           443.4228  \n",
              "2  Supermarket Type1          2097.2700  \n",
              "3      Grocery Store           732.3800  \n",
              "4  Supermarket Type1           994.7052  "
            ],
            "text/html": [
              "\n",
              "  <div id=\"df-b50d6e98-f28a-49ed-b67b-9d54a61b3884\">\n",
              "    <div class=\"colab-df-container\">\n",
              "      <div>\n",
              "<style scoped>\n",
              "    .dataframe tbody tr th:only-of-type {\n",
              "        vertical-align: middle;\n",
              "    }\n",
              "\n",
              "    .dataframe tbody tr th {\n",
              "        vertical-align: top;\n",
              "    }\n",
              "\n",
              "    .dataframe thead th {\n",
              "        text-align: right;\n",
              "    }\n",
              "</style>\n",
              "<table border=\"1\" class=\"dataframe\">\n",
              "  <thead>\n",
              "    <tr style=\"text-align: right;\">\n",
              "      <th></th>\n",
              "      <th>Item_Identifier</th>\n",
              "      <th>Item_Weight</th>\n",
              "      <th>Item_Fat_Content</th>\n",
              "      <th>Item_Visibility</th>\n",
              "      <th>Item_Type</th>\n",
              "      <th>Item_MRP</th>\n",
              "      <th>Outlet_Identifier</th>\n",
              "      <th>Outlet_Establishment_Year</th>\n",
              "      <th>Outlet_Size</th>\n",
              "      <th>Outlet_Location_Type</th>\n",
              "      <th>Outlet_Type</th>\n",
              "      <th>Item_Outlet_Sales</th>\n",
              "    </tr>\n",
              "  </thead>\n",
              "  <tbody>\n",
              "    <tr>\n",
              "      <th>0</th>\n",
              "      <td>FDA15</td>\n",
              "      <td>9.30</td>\n",
              "      <td>Low Fat</td>\n",
              "      <td>0.016047</td>\n",
              "      <td>Dairy</td>\n",
              "      <td>249.8092</td>\n",
              "      <td>OUT049</td>\n",
              "      <td>1999</td>\n",
              "      <td>Medium</td>\n",
              "      <td>Tier 1</td>\n",
              "      <td>Supermarket Type1</td>\n",
              "      <td>3735.1380</td>\n",
              "    </tr>\n",
              "    <tr>\n",
              "      <th>1</th>\n",
              "      <td>DRC01</td>\n",
              "      <td>5.92</td>\n",
              "      <td>Regular</td>\n",
              "      <td>0.019278</td>\n",
              "      <td>Soft Drinks</td>\n",
              "      <td>48.2692</td>\n",
              "      <td>OUT018</td>\n",
              "      <td>2009</td>\n",
              "      <td>Medium</td>\n",
              "      <td>Tier 3</td>\n",
              "      <td>Supermarket Type2</td>\n",
              "      <td>443.4228</td>\n",
              "    </tr>\n",
              "    <tr>\n",
              "      <th>2</th>\n",
              "      <td>FDN15</td>\n",
              "      <td>17.50</td>\n",
              "      <td>Low Fat</td>\n",
              "      <td>0.016760</td>\n",
              "      <td>Meat</td>\n",
              "      <td>141.6180</td>\n",
              "      <td>OUT049</td>\n",
              "      <td>1999</td>\n",
              "      <td>Medium</td>\n",
              "      <td>Tier 1</td>\n",
              "      <td>Supermarket Type1</td>\n",
              "      <td>2097.2700</td>\n",
              "    </tr>\n",
              "    <tr>\n",
              "      <th>3</th>\n",
              "      <td>FDX07</td>\n",
              "      <td>19.20</td>\n",
              "      <td>Regular</td>\n",
              "      <td>0.000000</td>\n",
              "      <td>Fruits and Vegetables</td>\n",
              "      <td>182.0950</td>\n",
              "      <td>OUT010</td>\n",
              "      <td>1998</td>\n",
              "      <td>NaN</td>\n",
              "      <td>Tier 3</td>\n",
              "      <td>Grocery Store</td>\n",
              "      <td>732.3800</td>\n",
              "    </tr>\n",
              "    <tr>\n",
              "      <th>4</th>\n",
              "      <td>NCD19</td>\n",
              "      <td>8.93</td>\n",
              "      <td>Low Fat</td>\n",
              "      <td>0.000000</td>\n",
              "      <td>Household</td>\n",
              "      <td>53.8614</td>\n",
              "      <td>OUT013</td>\n",
              "      <td>1987</td>\n",
              "      <td>High</td>\n",
              "      <td>Tier 3</td>\n",
              "      <td>Supermarket Type1</td>\n",
              "      <td>994.7052</td>\n",
              "    </tr>\n",
              "  </tbody>\n",
              "</table>\n",
              "</div>\n",
              "      <button class=\"colab-df-convert\" onclick=\"convertToInteractive('df-b50d6e98-f28a-49ed-b67b-9d54a61b3884')\"\n",
              "              title=\"Convert this dataframe to an interactive table.\"\n",
              "              style=\"display:none;\">\n",
              "        \n",
              "  <svg xmlns=\"http://www.w3.org/2000/svg\" height=\"24px\"viewBox=\"0 0 24 24\"\n",
              "       width=\"24px\">\n",
              "    <path d=\"M0 0h24v24H0V0z\" fill=\"none\"/>\n",
              "    <path d=\"M18.56 5.44l.94 2.06.94-2.06 2.06-.94-2.06-.94-.94-2.06-.94 2.06-2.06.94zm-11 1L8.5 8.5l.94-2.06 2.06-.94-2.06-.94L8.5 2.5l-.94 2.06-2.06.94zm10 10l.94 2.06.94-2.06 2.06-.94-2.06-.94-.94-2.06-.94 2.06-2.06.94z\"/><path d=\"M17.41 7.96l-1.37-1.37c-.4-.4-.92-.59-1.43-.59-.52 0-1.04.2-1.43.59L10.3 9.45l-7.72 7.72c-.78.78-.78 2.05 0 2.83L4 21.41c.39.39.9.59 1.41.59.51 0 1.02-.2 1.41-.59l7.78-7.78 2.81-2.81c.8-.78.8-2.07 0-2.86zM5.41 20L4 18.59l7.72-7.72 1.47 1.35L5.41 20z\"/>\n",
              "  </svg>\n",
              "      </button>\n",
              "      \n",
              "  <style>\n",
              "    .colab-df-container {\n",
              "      display:flex;\n",
              "      flex-wrap:wrap;\n",
              "      gap: 12px;\n",
              "    }\n",
              "\n",
              "    .colab-df-convert {\n",
              "      background-color: #E8F0FE;\n",
              "      border: none;\n",
              "      border-radius: 50%;\n",
              "      cursor: pointer;\n",
              "      display: none;\n",
              "      fill: #1967D2;\n",
              "      height: 32px;\n",
              "      padding: 0 0 0 0;\n",
              "      width: 32px;\n",
              "    }\n",
              "\n",
              "    .colab-df-convert:hover {\n",
              "      background-color: #E2EBFA;\n",
              "      box-shadow: 0px 1px 2px rgba(60, 64, 67, 0.3), 0px 1px 3px 1px rgba(60, 64, 67, 0.15);\n",
              "      fill: #174EA6;\n",
              "    }\n",
              "\n",
              "    [theme=dark] .colab-df-convert {\n",
              "      background-color: #3B4455;\n",
              "      fill: #D2E3FC;\n",
              "    }\n",
              "\n",
              "    [theme=dark] .colab-df-convert:hover {\n",
              "      background-color: #434B5C;\n",
              "      box-shadow: 0px 1px 3px 1px rgba(0, 0, 0, 0.15);\n",
              "      filter: drop-shadow(0px 1px 2px rgba(0, 0, 0, 0.3));\n",
              "      fill: #FFFFFF;\n",
              "    }\n",
              "  </style>\n",
              "\n",
              "      <script>\n",
              "        const buttonEl =\n",
              "          document.querySelector('#df-b50d6e98-f28a-49ed-b67b-9d54a61b3884 button.colab-df-convert');\n",
              "        buttonEl.style.display =\n",
              "          google.colab.kernel.accessAllowed ? 'block' : 'none';\n",
              "\n",
              "        async function convertToInteractive(key) {\n",
              "          const element = document.querySelector('#df-b50d6e98-f28a-49ed-b67b-9d54a61b3884');\n",
              "          const dataTable =\n",
              "            await google.colab.kernel.invokeFunction('convertToInteractive',\n",
              "                                                     [key], {});\n",
              "          if (!dataTable) return;\n",
              "\n",
              "          const docLinkHtml = 'Like what you see? Visit the ' +\n",
              "            '<a target=\"_blank\" href=https://colab.research.google.com/notebooks/data_table.ipynb>data table notebook</a>'\n",
              "            + ' to learn more about interactive tables.';\n",
              "          element.innerHTML = '';\n",
              "          dataTable['output_type'] = 'display_data';\n",
              "          await google.colab.output.renderOutput(dataTable, element);\n",
              "          const docLink = document.createElement('div');\n",
              "          docLink.innerHTML = docLinkHtml;\n",
              "          element.appendChild(docLink);\n",
              "        }\n",
              "      </script>\n",
              "    </div>\n",
              "  </div>\n",
              "  "
            ]
          },
          "metadata": {},
          "execution_count": 54
        }
      ]
    },
    {
      "cell_type": "code",
      "source": [
        "#read the file\n",
        "data= pd.read_csv('big_mart_sales.csv')"
      ],
      "metadata": {
        "id": "WPF6GJjPnRjJ"
      },
      "execution_count": 50,
      "outputs": []
    },
    {
      "cell_type": "code",
      "source": [
        "#check the null values in the data\n",
        "data.isna().sum()"
      ],
      "metadata": {
        "colab": {
          "base_uri": "https://localhost:8080/"
        },
        "id": "AlU3T63mgDQt",
        "outputId": "425dceaf-1d34-4da1-8d7f-8739d5320c96"
      },
      "execution_count": 51,
      "outputs": [
        {
          "output_type": "execute_result",
          "data": {
            "text/plain": [
              "Item_Identifier                 0\n",
              "Item_Weight                  1463\n",
              "Item_Fat_Content                0\n",
              "Item_Visibility                 0\n",
              "Item_Type                       0\n",
              "Item_MRP                        0\n",
              "Outlet_Identifier               0\n",
              "Outlet_Establishment_Year       0\n",
              "Outlet_Size                  2410\n",
              "Outlet_Location_Type            0\n",
              "Outlet_Type                     0\n",
              "Item_Outlet_Sales               0\n",
              "dtype: int64"
            ]
          },
          "metadata": {},
          "execution_count": 51
        }
      ]
    },
    {
      "cell_type": "markdown",
      "source": [
        "###isin()\n",
        "\n",
        "Information from \n",
        "\n",
        "[https://www.geeksforgeeks.org/python-pandas-dataframe-isin/](https://)"
      ],
      "metadata": {
        "id": "hzBtaQV-nuV-"
      }
    },
    {
      "cell_type": "code",
      "source": [
        "import pandas as pd"
      ],
      "metadata": {
        "id": "9I80q28DrP5Y"
      },
      "execution_count": 57,
      "outputs": []
    },
    {
      "cell_type": "code",
      "source": [
        "data= pd.read_csv('/content/employees.csv')"
      ],
      "metadata": {
        "id": "ZDluYahXnF9q"
      },
      "execution_count": 59,
      "outputs": []
    },
    {
      "cell_type": "code",
      "source": [
        "new = data[\"Gender\"].isin([\"Male\"])"
      ],
      "metadata": {
        "id": "Stw_O0n9qaUN"
      },
      "execution_count": 60,
      "outputs": []
    },
    {
      "cell_type": "code",
      "source": [
        "data[new]"
      ],
      "metadata": {
        "colab": {
          "base_uri": "https://localhost:8080/",
          "height": 423
        },
        "id": "EangxHgHrZ72",
        "outputId": "9d3a60a2-219b-4d0c-eb39-51cd6d630421"
      },
      "execution_count": 61,
      "outputs": [
        {
          "output_type": "execute_result",
          "data": {
            "text/plain": [
              "    First Name Gender Start Date Last Login Time  Salary  Bonus %  \\\n",
              "0      Douglas   Male   8/6/1993        12:42 PM   97308    6.945   \n",
              "1       Thomas   Male  3/31/1996         6:53 AM   61933    4.170   \n",
              "3        Jerry   Male   3/4/2005         1:00 PM  138705    9.340   \n",
              "4        Larry   Male  1/24/1998         4:47 PM  101004    1.389   \n",
              "5       Dennis   Male  4/18/1987         1:35 AM  115163   10.125   \n",
              "..         ...    ...        ...             ...     ...      ...   \n",
              "994     George   Male  6/21/2013         5:47 PM   98874    4.479   \n",
              "996    Phillip   Male  1/31/1984         6:30 AM   42392   19.675   \n",
              "997    Russell   Male  5/20/2013        12:39 PM   96914    1.421   \n",
              "998      Larry   Male  4/20/2013         4:45 PM   60500   11.985   \n",
              "999     Albert   Male  5/15/2012         6:24 PM  129949   10.169   \n",
              "\n",
              "    Senior Management                  Team  \n",
              "0                True             Marketing  \n",
              "1                True                   NaN  \n",
              "3                True               Finance  \n",
              "4                True       Client Services  \n",
              "5               False                 Legal  \n",
              "..                ...                   ...  \n",
              "994              True             Marketing  \n",
              "996             False               Finance  \n",
              "997             False               Product  \n",
              "998             False  Business Development  \n",
              "999              True                 Sales  \n",
              "\n",
              "[424 rows x 8 columns]"
            ],
            "text/html": [
              "\n",
              "  <div id=\"df-bdd99cf5-83f7-4584-871a-fb40d6e72c6c\">\n",
              "    <div class=\"colab-df-container\">\n",
              "      <div>\n",
              "<style scoped>\n",
              "    .dataframe tbody tr th:only-of-type {\n",
              "        vertical-align: middle;\n",
              "    }\n",
              "\n",
              "    .dataframe tbody tr th {\n",
              "        vertical-align: top;\n",
              "    }\n",
              "\n",
              "    .dataframe thead th {\n",
              "        text-align: right;\n",
              "    }\n",
              "</style>\n",
              "<table border=\"1\" class=\"dataframe\">\n",
              "  <thead>\n",
              "    <tr style=\"text-align: right;\">\n",
              "      <th></th>\n",
              "      <th>First Name</th>\n",
              "      <th>Gender</th>\n",
              "      <th>Start Date</th>\n",
              "      <th>Last Login Time</th>\n",
              "      <th>Salary</th>\n",
              "      <th>Bonus %</th>\n",
              "      <th>Senior Management</th>\n",
              "      <th>Team</th>\n",
              "    </tr>\n",
              "  </thead>\n",
              "  <tbody>\n",
              "    <tr>\n",
              "      <th>0</th>\n",
              "      <td>Douglas</td>\n",
              "      <td>Male</td>\n",
              "      <td>8/6/1993</td>\n",
              "      <td>12:42 PM</td>\n",
              "      <td>97308</td>\n",
              "      <td>6.945</td>\n",
              "      <td>True</td>\n",
              "      <td>Marketing</td>\n",
              "    </tr>\n",
              "    <tr>\n",
              "      <th>1</th>\n",
              "      <td>Thomas</td>\n",
              "      <td>Male</td>\n",
              "      <td>3/31/1996</td>\n",
              "      <td>6:53 AM</td>\n",
              "      <td>61933</td>\n",
              "      <td>4.170</td>\n",
              "      <td>True</td>\n",
              "      <td>NaN</td>\n",
              "    </tr>\n",
              "    <tr>\n",
              "      <th>3</th>\n",
              "      <td>Jerry</td>\n",
              "      <td>Male</td>\n",
              "      <td>3/4/2005</td>\n",
              "      <td>1:00 PM</td>\n",
              "      <td>138705</td>\n",
              "      <td>9.340</td>\n",
              "      <td>True</td>\n",
              "      <td>Finance</td>\n",
              "    </tr>\n",
              "    <tr>\n",
              "      <th>4</th>\n",
              "      <td>Larry</td>\n",
              "      <td>Male</td>\n",
              "      <td>1/24/1998</td>\n",
              "      <td>4:47 PM</td>\n",
              "      <td>101004</td>\n",
              "      <td>1.389</td>\n",
              "      <td>True</td>\n",
              "      <td>Client Services</td>\n",
              "    </tr>\n",
              "    <tr>\n",
              "      <th>5</th>\n",
              "      <td>Dennis</td>\n",
              "      <td>Male</td>\n",
              "      <td>4/18/1987</td>\n",
              "      <td>1:35 AM</td>\n",
              "      <td>115163</td>\n",
              "      <td>10.125</td>\n",
              "      <td>False</td>\n",
              "      <td>Legal</td>\n",
              "    </tr>\n",
              "    <tr>\n",
              "      <th>...</th>\n",
              "      <td>...</td>\n",
              "      <td>...</td>\n",
              "      <td>...</td>\n",
              "      <td>...</td>\n",
              "      <td>...</td>\n",
              "      <td>...</td>\n",
              "      <td>...</td>\n",
              "      <td>...</td>\n",
              "    </tr>\n",
              "    <tr>\n",
              "      <th>994</th>\n",
              "      <td>George</td>\n",
              "      <td>Male</td>\n",
              "      <td>6/21/2013</td>\n",
              "      <td>5:47 PM</td>\n",
              "      <td>98874</td>\n",
              "      <td>4.479</td>\n",
              "      <td>True</td>\n",
              "      <td>Marketing</td>\n",
              "    </tr>\n",
              "    <tr>\n",
              "      <th>996</th>\n",
              "      <td>Phillip</td>\n",
              "      <td>Male</td>\n",
              "      <td>1/31/1984</td>\n",
              "      <td>6:30 AM</td>\n",
              "      <td>42392</td>\n",
              "      <td>19.675</td>\n",
              "      <td>False</td>\n",
              "      <td>Finance</td>\n",
              "    </tr>\n",
              "    <tr>\n",
              "      <th>997</th>\n",
              "      <td>Russell</td>\n",
              "      <td>Male</td>\n",
              "      <td>5/20/2013</td>\n",
              "      <td>12:39 PM</td>\n",
              "      <td>96914</td>\n",
              "      <td>1.421</td>\n",
              "      <td>False</td>\n",
              "      <td>Product</td>\n",
              "    </tr>\n",
              "    <tr>\n",
              "      <th>998</th>\n",
              "      <td>Larry</td>\n",
              "      <td>Male</td>\n",
              "      <td>4/20/2013</td>\n",
              "      <td>4:45 PM</td>\n",
              "      <td>60500</td>\n",
              "      <td>11.985</td>\n",
              "      <td>False</td>\n",
              "      <td>Business Development</td>\n",
              "    </tr>\n",
              "    <tr>\n",
              "      <th>999</th>\n",
              "      <td>Albert</td>\n",
              "      <td>Male</td>\n",
              "      <td>5/15/2012</td>\n",
              "      <td>6:24 PM</td>\n",
              "      <td>129949</td>\n",
              "      <td>10.169</td>\n",
              "      <td>True</td>\n",
              "      <td>Sales</td>\n",
              "    </tr>\n",
              "  </tbody>\n",
              "</table>\n",
              "<p>424 rows × 8 columns</p>\n",
              "</div>\n",
              "      <button class=\"colab-df-convert\" onclick=\"convertToInteractive('df-bdd99cf5-83f7-4584-871a-fb40d6e72c6c')\"\n",
              "              title=\"Convert this dataframe to an interactive table.\"\n",
              "              style=\"display:none;\">\n",
              "        \n",
              "  <svg xmlns=\"http://www.w3.org/2000/svg\" height=\"24px\"viewBox=\"0 0 24 24\"\n",
              "       width=\"24px\">\n",
              "    <path d=\"M0 0h24v24H0V0z\" fill=\"none\"/>\n",
              "    <path d=\"M18.56 5.44l.94 2.06.94-2.06 2.06-.94-2.06-.94-.94-2.06-.94 2.06-2.06.94zm-11 1L8.5 8.5l.94-2.06 2.06-.94-2.06-.94L8.5 2.5l-.94 2.06-2.06.94zm10 10l.94 2.06.94-2.06 2.06-.94-2.06-.94-.94-2.06-.94 2.06-2.06.94z\"/><path d=\"M17.41 7.96l-1.37-1.37c-.4-.4-.92-.59-1.43-.59-.52 0-1.04.2-1.43.59L10.3 9.45l-7.72 7.72c-.78.78-.78 2.05 0 2.83L4 21.41c.39.39.9.59 1.41.59.51 0 1.02-.2 1.41-.59l7.78-7.78 2.81-2.81c.8-.78.8-2.07 0-2.86zM5.41 20L4 18.59l7.72-7.72 1.47 1.35L5.41 20z\"/>\n",
              "  </svg>\n",
              "      </button>\n",
              "      \n",
              "  <style>\n",
              "    .colab-df-container {\n",
              "      display:flex;\n",
              "      flex-wrap:wrap;\n",
              "      gap: 12px;\n",
              "    }\n",
              "\n",
              "    .colab-df-convert {\n",
              "      background-color: #E8F0FE;\n",
              "      border: none;\n",
              "      border-radius: 50%;\n",
              "      cursor: pointer;\n",
              "      display: none;\n",
              "      fill: #1967D2;\n",
              "      height: 32px;\n",
              "      padding: 0 0 0 0;\n",
              "      width: 32px;\n",
              "    }\n",
              "\n",
              "    .colab-df-convert:hover {\n",
              "      background-color: #E2EBFA;\n",
              "      box-shadow: 0px 1px 2px rgba(60, 64, 67, 0.3), 0px 1px 3px 1px rgba(60, 64, 67, 0.15);\n",
              "      fill: #174EA6;\n",
              "    }\n",
              "\n",
              "    [theme=dark] .colab-df-convert {\n",
              "      background-color: #3B4455;\n",
              "      fill: #D2E3FC;\n",
              "    }\n",
              "\n",
              "    [theme=dark] .colab-df-convert:hover {\n",
              "      background-color: #434B5C;\n",
              "      box-shadow: 0px 1px 3px 1px rgba(0, 0, 0, 0.15);\n",
              "      filter: drop-shadow(0px 1px 2px rgba(0, 0, 0, 0.3));\n",
              "      fill: #FFFFFF;\n",
              "    }\n",
              "  </style>\n",
              "\n",
              "      <script>\n",
              "        const buttonEl =\n",
              "          document.querySelector('#df-bdd99cf5-83f7-4584-871a-fb40d6e72c6c button.colab-df-convert');\n",
              "        buttonEl.style.display =\n",
              "          google.colab.kernel.accessAllowed ? 'block' : 'none';\n",
              "\n",
              "        async function convertToInteractive(key) {\n",
              "          const element = document.querySelector('#df-bdd99cf5-83f7-4584-871a-fb40d6e72c6c');\n",
              "          const dataTable =\n",
              "            await google.colab.kernel.invokeFunction('convertToInteractive',\n",
              "                                                     [key], {});\n",
              "          if (!dataTable) return;\n",
              "\n",
              "          const docLinkHtml = 'Like what you see? Visit the ' +\n",
              "            '<a target=\"_blank\" href=https://colab.research.google.com/notebooks/data_table.ipynb>data table notebook</a>'\n",
              "            + ' to learn more about interactive tables.';\n",
              "          element.innerHTML = '';\n",
              "          dataTable['output_type'] = 'display_data';\n",
              "          await google.colab.output.renderOutput(dataTable, element);\n",
              "          const docLink = document.createElement('div');\n",
              "          docLink.innerHTML = docLinkHtml;\n",
              "          element.appendChild(docLink);\n",
              "        }\n",
              "      </script>\n",
              "    </div>\n",
              "  </div>\n",
              "  "
            ]
          },
          "metadata": {},
          "execution_count": 61
        }
      ]
    }
  ]
}