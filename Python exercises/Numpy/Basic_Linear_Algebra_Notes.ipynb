{
  "nbformat": 4,
  "nbformat_minor": 0,
  "metadata": {
    "colab": {
      "provenance": []
    },
    "kernelspec": {
      "name": "python3",
      "display_name": "Python 3"
    },
    "language_info": {
      "name": "python"
    }
  },
  "cells": [
    {
      "cell_type": "markdown",
      "source": [
        "Create a function scalar_multiply(c, v) where c is a scalar and v is a vector. The function should return a new vector where each element is c times the corresponding element in v."
      ],
      "metadata": {
        "id": "wNfOEhTVZn2-"
      }
    },
    {
      "cell_type": "code",
      "source": [
        "import numpy as np\n",
        "def scalarmult(c,v):\n",
        "  return np.array([c*x for x in v])\n",
        "\n",
        "\n",
        "v=np.array([1,2,3])\n",
        "a=5\n",
        "print(scalarmult(a,v))"
      ],
      "metadata": {
        "colab": {
          "base_uri": "https://localhost:8080/"
        },
        "id": "mlhT_4mjZSs1",
        "outputId": "5dd21c59-caf0-45e9-d8b9-4c362ecfd1ee"
      },
      "execution_count": 14,
      "outputs": [
        {
          "output_type": "stream",
          "name": "stdout",
          "text": [
            "[ 5 10 15]\n"
          ]
        }
      ]
    },
    {
      "cell_type": "markdown",
      "source": [
        "Using NumPy, add two vectors v1 and v2."
      ],
      "metadata": {
        "id": "lBFsBvPjZxG2"
      }
    },
    {
      "cell_type": "code",
      "source": [
        "import numpy as np\n",
        "def add_vectors(v1, v2):\n",
        "  return np.add(v1, v2)\n",
        "\n",
        "v1 = np.array([1, 2, 3])\n",
        "v2 = np.array([4, 5, 6])\n",
        "print(add_vectors(v1, v2))\n"
      ],
      "metadata": {
        "colab": {
          "base_uri": "https://localhost:8080/"
        },
        "id": "4sfhnLsaXsXc",
        "outputId": "3f74774d-c684-42b9-a961-949a49ca7dee"
      },
      "execution_count": 2,
      "outputs": [
        {
          "output_type": "stream",
          "name": "stdout",
          "text": [
            "[5 7 9]\n"
          ]
        }
      ]
    },
    {
      "cell_type": "markdown",
      "source": [
        "Perform scalar multiplication of a vector using NumPy."
      ],
      "metadata": {
        "id": "T37HWFrjZy6l"
      }
    },
    {
      "cell_type": "code",
      "source": [
        "import numpy as np\n",
        "v=np.array([1,2,3])\n",
        "a=5\n",
        "print(scalarmult(a,v))"
      ],
      "metadata": {
        "colab": {
          "base_uri": "https://localhost:8080/"
        },
        "id": "UGLYPupNXyQN",
        "outputId": "9dd913dd-fdd2-47b0-fa08-ab8c5b766fa7"
      },
      "execution_count": 3,
      "outputs": [
        {
          "output_type": "stream",
          "name": "stdout",
          "text": [
            "[ 5 10 15]\n"
          ]
        }
      ]
    },
    {
      "cell_type": "markdown",
      "source": [
        "Multiply two matrices using NumPy."
      ],
      "metadata": {
        "id": "-GuGHESxaMCJ"
      }
    },
    {
      "cell_type": "code",
      "source": [
        "import numpy as np\n",
        "a=np.array([[1,2],[3,4]])\n",
        "b=np.array([[1,2],[3,4]])\n",
        "print(np.matmul(a,b))\n",
        "\n",
        "#or use that : C = a @ b"
      ],
      "metadata": {
        "colab": {
          "base_uri": "https://localhost:8080/"
        },
        "id": "CLSK8smBX_rc",
        "outputId": "57e7a66e-d1e1-498c-8ee2-0de060fa7fe1"
      },
      "execution_count": 15,
      "outputs": [
        {
          "output_type": "stream",
          "name": "stdout",
          "text": [
            "[[ 7 10]\n",
            " [15 22]]\n"
          ]
        }
      ]
    },
    {
      "cell_type": "markdown",
      "source": [
        "Multiply the matrices using dot product"
      ],
      "metadata": {
        "id": "k-scl2HCcL8f"
      }
    },
    {
      "cell_type": "code",
      "source": [
        "import numpy as np\n",
        "a = np.array([[1, 2], [3, 4]])\n",
        "b = np.array([[5, 6], [7, 8]])\n",
        "\n",
        "c = np.dot(a, b)\n",
        "\n",
        "print(c)"
      ],
      "metadata": {
        "colab": {
          "base_uri": "https://localhost:8080/"
        },
        "id": "gk0_zBOZcIyY",
        "outputId": "c49fb7ee-2a86-436d-ea81-651f5162e963"
      },
      "execution_count": 20,
      "outputs": [
        {
          "output_type": "stream",
          "name": "stdout",
          "text": [
            "[[19 22]\n",
            " [43 50]]\n"
          ]
        }
      ]
    },
    {
      "cell_type": "code",
      "source": [
        "import numpy as np\n",
        "a=np.array([[1,2],[3,4]])\n",
        "b=np.array([[1,2],[3,4]])\n",
        "C = a @ b\n",
        "print(C)"
      ],
      "metadata": {
        "colab": {
          "base_uri": "https://localhost:8080/"
        },
        "id": "PuvQaW5jaG78",
        "outputId": "578f5c72-1f01-4bdb-e353-0c1de58ad7ed"
      },
      "execution_count": 17,
      "outputs": [
        {
          "output_type": "stream",
          "name": "stdout",
          "text": [
            "[[ 7 10]\n",
            " [15 22]]\n"
          ]
        }
      ]
    },
    {
      "cell_type": "markdown",
      "source": [
        "Compute the transpose of a matrix using NumPy."
      ],
      "metadata": {
        "id": "MHvdxCDMaRa5"
      }
    },
    {
      "cell_type": "code",
      "source": [
        "import numpy as np\n",
        "a=np.array([[1,2],[3,4]])\n",
        "b=np.transpose(a)\n",
        "print(b)"
      ],
      "metadata": {
        "colab": {
          "base_uri": "https://localhost:8080/"
        },
        "id": "hMgSq7sZYHUA",
        "outputId": "258abb7d-f60d-40c1-a9c6-28d5b9fa67d5"
      },
      "execution_count": 23,
      "outputs": [
        {
          "output_type": "stream",
          "name": "stdout",
          "text": [
            "[[1 3]\n",
            " [2 4]]\n"
          ]
        }
      ]
    },
    {
      "cell_type": "markdown",
      "source": [
        "or that version :"
      ],
      "metadata": {
        "id": "NLtnMXRNamen"
      }
    },
    {
      "cell_type": "code",
      "source": [
        "import numpy as np\n",
        "a = np.array([[1, 2, 3], [4, 5, 6]])\n",
        "print(a)"
      ],
      "metadata": {
        "colab": {
          "base_uri": "https://localhost:8080/"
        },
        "id": "Vgc6ZNg5aYS3",
        "outputId": "c1eae215-4c84-41f4-d37d-3d129820b59a"
      },
      "execution_count": 33,
      "outputs": [
        {
          "output_type": "stream",
          "name": "stdout",
          "text": [
            "[[1 2 3]\n",
            " [4 5 6]]\n"
          ]
        }
      ]
    },
    {
      "cell_type": "code",
      "source": [
        "a_transpose = a.T\n",
        "print(a_transpose)"
      ],
      "metadata": {
        "colab": {
          "base_uri": "https://localhost:8080/"
        },
        "id": "tnfIZ75Ac_np",
        "outputId": "29ac18c1-7af2-4b53-c343-a63c580a93b8"
      },
      "execution_count": 34,
      "outputs": [
        {
          "output_type": "stream",
          "name": "stdout",
          "text": [
            "[[1 4]\n",
            " [2 5]\n",
            " [3 6]]\n"
          ]
        }
      ]
    },
    {
      "cell_type": "markdown",
      "source": [
        "reshape"
      ],
      "metadata": {
        "id": "iKPcy4gjcmvd"
      }
    },
    {
      "cell_type": "code",
      "source": [
        "a"
      ],
      "metadata": {
        "colab": {
          "base_uri": "https://localhost:8080/"
        },
        "id": "M01V9uC8cywc",
        "outputId": "d51a1648-5d2e-4f15-daba-fb3f60250e25"
      },
      "execution_count": 31,
      "outputs": [
        {
          "output_type": "execute_result",
          "data": {
            "text/plain": [
              "array([[1, 2, 3],\n",
              "       [4, 5, 6]])"
            ]
          },
          "metadata": {},
          "execution_count": 31
        }
      ]
    },
    {
      "cell_type": "code",
      "source": [
        "np.shape(a)"
      ],
      "metadata": {
        "colab": {
          "base_uri": "https://localhost:8080/"
        },
        "id": "CHXi1BZ8dMMq",
        "outputId": "0307e210-a14b-4370-f011-e38f9c3e52dc"
      },
      "execution_count": 35,
      "outputs": [
        {
          "output_type": "execute_result",
          "data": {
            "text/plain": [
              "(2, 3)"
            ]
          },
          "metadata": {},
          "execution_count": 35
        }
      ]
    },
    {
      "cell_type": "code",
      "source": [
        "b=a.reshape(3,2)"
      ],
      "metadata": {
        "id": "FbmuMzgocng7"
      },
      "execution_count": 37,
      "outputs": []
    },
    {
      "cell_type": "code",
      "source": [
        "np.shape(b)"
      ],
      "metadata": {
        "colab": {
          "base_uri": "https://localhost:8080/"
        },
        "id": "TgpHhfQ4dOeN",
        "outputId": "e1400184-63e5-4158-e322-131d06a1912f"
      },
      "execution_count": 38,
      "outputs": [
        {
          "output_type": "execute_result",
          "data": {
            "text/plain": [
              "(3, 2)"
            ]
          },
          "metadata": {},
          "execution_count": 38
        }
      ]
    },
    {
      "cell_type": "code",
      "source": [
        "b.reshape(6)"
      ],
      "metadata": {
        "colab": {
          "base_uri": "https://localhost:8080/"
        },
        "id": "obQFfK0NcqSP",
        "outputId": "b557f70c-62dd-4f6c-cf2d-bfbcb3d1038b"
      },
      "execution_count": 39,
      "outputs": [
        {
          "output_type": "execute_result",
          "data": {
            "text/plain": [
              "array([1, 2, 3, 4, 5, 6])"
            ]
          },
          "metadata": {},
          "execution_count": 39
        }
      ]
    },
    {
      "cell_type": "markdown",
      "source": [
        "Matrix inverse and indentity matrix"
      ],
      "metadata": {
        "id": "Lm7K0XbCfkKX"
      }
    },
    {
      "cell_type": "code",
      "source": [
        "import numpy as np\n",
        "# Compute the inverse of a matrix using NumPy.\n",
        "a = np.array([[1, 2], [3, 4]])\n",
        "b = np.linalg.inv(a)\n",
        "print(b)\n",
        "\n",
        "# Compute the identity matrix using NumPy.\n",
        "identity_matrix = np.eye(3)\n",
        "print(identity_matrix)"
      ],
      "metadata": {
        "colab": {
          "base_uri": "https://localhost:8080/"
        },
        "id": "uR_5gHJafY9T",
        "outputId": "0f7e0e7e-aa73-4c9b-b357-1a24189aad40"
      },
      "execution_count": 40,
      "outputs": [
        {
          "output_type": "stream",
          "name": "stdout",
          "text": [
            "[[-2.   1. ]\n",
            " [ 1.5 -0.5]]\n",
            "[[1. 0. 0.]\n",
            " [0. 1. 0.]\n",
            " [0. 0. 1.]]\n"
          ]
        }
      ]
    }
  ]
}